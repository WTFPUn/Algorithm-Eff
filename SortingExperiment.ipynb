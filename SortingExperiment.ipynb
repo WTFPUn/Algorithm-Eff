{
 "cells": [
  {
   "cell_type": "markdown",
   "metadata": {},
   "source": [
    "# Sorting Experiment\n",
    "To find which algorithm is faster\n",
    "\n",
    "---\n",
    "\n",
    "using 5 algorithm\n",
    "1. Selection Sort\n",
    "2. Insertion Sort\n",
    "3. Heap Sort\n",
    "4. Merge Sort\n",
    "5. Distribution Sort"
   ]
  },
  {
   "cell_type": "markdown",
   "metadata": {},
   "source": [
    "## Project Initialize"
   ]
  },
  {
   "cell_type": "code",
   "execution_count": 1,
   "metadata": {},
   "outputs": [],
   "source": [
    "# !pip install numpy\n",
    "# !pip install pandas"
   ]
  },
  {
   "cell_type": "code",
   "execution_count": 2,
   "metadata": {},
   "outputs": [],
   "source": [
    "import numpy as np\n",
    "import pandas as pd"
   ]
  },
  {
   "cell_type": "markdown",
   "metadata": {},
   "source": [
    "## Function Initialize"
   ]
  },
  {
   "cell_type": "markdown",
   "metadata": {},
   "source": [
    "### 1. Selection Sort"
   ]
  },
  {
   "cell_type": "markdown",
   "metadata": {},
   "source": [
    "#### Pseudo Code\n",
    "\n",
    "<div style=\"background-color:rgba(0, 0, 0, 0.0470588); padding:10px 0;font-family:monospace;\">\n",
    "  <div style=\"border-style:none none solid none; width:500px;margin-left:20px;\"><b>Algorithm</b>: Selection Sort</div>\n",
    "  <p>1.&nbsp;&nbsp;<b>for</b> i = 1 <b>to</b> n-1 <b>do</b></p>\n",
    "  <p>2.&nbsp;&nbsp;&nbsp;&nbsp;min = i</p>\n",
    "  <p>3.&nbsp;&nbsp;&nbsp;&nbsp;<b>for</b> j = i + 1 <b>to</b> n <b>do</b></p>\n",
    "  <p>4.&nbsp;&nbsp;&nbsp;&nbsp;&nbsp;&nbsp;<b>if</b> array[j] < array[min] <b>then</b></p>\n",
    "  <p>5.&nbsp;&nbsp;&nbsp;&nbsp;&nbsp;&nbsp;&nbsp;&nbsp;min = j</p>\n",
    "  <p>6.&nbsp;&nbsp;&nbsp;&nbsp;&nbsp;&nbsp;<b>if</b> min != i <b>then</b></p>\n",
    "  <p>7.&nbsp;&nbsp;&nbsp;&nbsp;&nbsp;&nbsp;&nbsp;&nbsp;swap(array[min], arrai[i])</p>\n",
    "  <p>8.&nbsp;&nbsp;&nbsp;&nbsp;<b>end for</b></p>\n",
    "  <p>9.&nbsp;&nbsp;<b>end for</b></p>\n",
    "</div>"
   ]
  },
  {
   "cell_type": "markdown",
   "metadata": {},
   "source": [
    "#### Python Code"
   ]
  },
  {
   "cell_type": "code",
   "execution_count": 3,
   "metadata": {},
   "outputs": [],
   "source": [
    "def SelectionSort(Array: np.ndarray):\n",
    "  compare = 0\n",
    "  out = np.copy(Array)\n",
    "  length = out.size\n",
    "  for i in range(0, length-1):\n",
    "    compare+=1\n",
    "    minIndex = i\n",
    "    for j in range(i+1, length):\n",
    "      compare+=1\n",
    "      minIndex = j if out[j] < out[minIndex] else minIndex\n",
    "      compare+=1\n",
    "    if minIndex != i:\n",
    "      out[minIndex], out[i] = out[i], out[minIndex]\n",
    "      compare+=1\n",
    "  return out, compare"
   ]
  },
  {
   "cell_type": "markdown",
   "metadata": {},
   "source": [
    "### 2. Insertion Sort"
   ]
  },
  {
   "cell_type": "markdown",
   "metadata": {},
   "source": [
    "#### Pseudo Code\n",
    "<div style=\"background-color:rgba(0, 0, 0, 0.0470588); padding:10px 0;font-family:monospace;\">\n",
    "<div style=\"border-style:none none solid none; width:500px;margin-left:20px;\"><b>Algorithm</b>: Insertion Sort</div>\n",
    "<p>1.&nbsp;&nbsp;<b>for</b> j = 1 <b>to</b> length(A) <b>do</b></p>\n",
    "<p>2.&nbsp;&nbsp;&nbsp;&nbsp;key = A[j]</p>\n",
    "<p>3.&nbsp;&nbsp;&nbsp;&nbsp;i = j - 1</p>\n",
    "<p>4.&nbsp;&nbsp;&nbsp;&nbsp;<b>while</b> i >= 0 <b>and</b> key < out[i] <b>do</b></p>\n",
    "<p>5.&nbsp;&nbsp;&nbsp;&nbsp;&nbsp;&nbsp;A[i+1] = A[i]</p>\n",
    "<p>6.&nbsp;&nbsp;&nbsp;&nbsp;&nbsp;&nbsp;i = i - 1</p>\n",
    "<p>7.&nbsp;&nbsp;&nbsp;&nbsp;<b>end while</b></p>\n",
    "<p>8.&nbsp;&nbsp;&nbsp;&nbsp;A[i+1] = key</p>\n",
    "<p>9.&nbsp;&nbsp;<b>end for</b></p>\n",
    "</div>"
   ]
  },
  {
   "cell_type": "markdown",
   "metadata": {},
   "source": [
    "#### Python Code"
   ]
  },
  {
   "cell_type": "code",
   "execution_count": 4,
   "metadata": {},
   "outputs": [],
   "source": [
    "def InsertionSort(Array: np.ndarray):\n",
    "  out = np.copy(Array)\n",
    "  compare = 0\n",
    "\n",
    "  for j in range(1, len(out)):\n",
    "    key = out[j]\n",
    "    i = j - 1\n",
    "    compare+=1\n",
    "    while i >= 0 and key < out[i] :\n",
    "      out[i+1] = out[i]\n",
    "      i = i - 1\n",
    "      compare+=1\n",
    "    out[i+1] = key\n",
    "  return out, compare"
   ]
  },
  {
   "cell_type": "markdown",
   "metadata": {},
   "source": [
    "### 3. Heap Sort"
   ]
  },
  {
   "cell_type": "markdown",
   "metadata": {},
   "source": [
    "#### Part of Heap Sort\n",
    "To use this algorithm we must have 2 part of this sort\n",
    "1. Heapify(Min Heapify)\n",
    "2. Heap sort\n",
    "\n",
    "**P.S.** using Min Heap, and Heapify because need this algorithm ascending priority(Max Heap is descending priority)."
   ]
  },
  {
   "cell_type": "markdown",
   "metadata": {},
   "source": [
    "#### Pseudo Code: Heapify\n",
    "<div style=\"background-color:rgba(0, 0, 0, 0.0470588); padding:10px 0;font-family:monospace;\">\n",
    "<div style=\"border-style:none none solid none; width:500px;margin-left:20px;\">Algorithm: Heapify</div>\n",
    "<p>1.&nbsp;&nbsp;left = 2 * index + 1</p>\n",
    "<p>2.&nbsp;&nbsp;right = 2 * index + 2</p>\n",
    "<p>3.&nbsp;&nbsp;<b>if</b> left < max <b>and</b> A[left] < A[index] <b>then</b></p>\n",
    "<p>4.&nbsp;&nbsp;&nbsp;&nbsp;largest = left</p>\n",
    "<p>5.&nbsp;&nbsp;<b>else</b> largest = index</p>\n",
    "<p>6.&nbsp;&nbsp;<b>if</b> right < max  and A[right] < A[largest] <b>then</b></p>\n",
    "<p>7.&nbsp;&nbsp;&nbsp;&nbsp;largest = right</p>\n",
    "<p>8.&nbsp;&nbsp;<b>if</b> largest != index <b>then</b></p>\n",
    "<p>9.&nbsp;&nbsp;&nbsp;&nbsp;swap(A[i], A[largest])</p>\n",
    "<p>10.&nbsp;&nbsp;&nbsp;&nbsp;<b>Heapify(A, largest, max)</b></p>\n",
    "</div>"
   ]
  },
  {
   "cell_type": "markdown",
   "metadata": {},
   "source": [
    "#### Python Code: Heapify(Min Heap)"
   ]
  },
  {
   "cell_type": "code",
   "execution_count": 5,
   "metadata": {},
   "outputs": [],
   "source": [
    "def Heapify(Array: np.ndarray, N: int, i: int, compare: int):\n",
    "  largest = i\n",
    "  left = 2 * i + 1\n",
    "  right = 2 * i + 2\n",
    "  largest = left if left < N and Array[left] > Array[largest] else largest\n",
    "  compare+=1\n",
    "  largest = right if right < N and Array[right] > Array[largest] else largest\n",
    "  compare+=1\n",
    "  if largest != i:\n",
    "    Array[i], Array[largest] = Array[largest], Array[i]\n",
    "    compare = Heapify(Array, N, largest,compare)\n",
    "  compare+=1\n",
    "  return compare"
   ]
  },
  {
   "cell_type": "markdown",
   "metadata": {},
   "source": [
    "#### Pseudo Code: Heap Sort\n",
    "<div style=\"background-color:rgba(0, 0, 0, 0.0470588); padding:10px 0;font-family:monospace;\">\n",
    "  <div style=\"border-style:none none solid none; width:500px;margin-left:20px;\"><b>Algorithm</b>: Heap Sort</div>\n",
    "  <p>1.&nbsp;&nbsp;N = A.length()</p>\n",
    "  <p>2.&nbsp;&nbsp;<b>for</b> i = floor(N/2 - 1) <b>downto</b> 0 <b>do</b></p>\n",
    "  <p>3.&nbsp;&nbsp;&nbsp;&nbsp;<b>Heapify(A, N, i)</b></p>\n",
    "  <p>4.&nbsp;&nbsp;<b>for</b> i = N - 1 <b>downto</b> 1 <b>do</b></p>\n",
    "  <p>5.&nbsp;&nbsp;&nbsp;&nbsp;<b>swap(A[i], A[0])</b></p>\n",
    "  <p>6.&nbsp;&nbsp;&nbsp;&nbsp;<b>Heapify(A, i, 0)</b></p>\n",
    "</div>"
   ]
  },
  {
   "cell_type": "markdown",
   "metadata": {},
   "source": [
    "#### Python Code: Heap Sort"
   ]
  },
  {
   "cell_type": "code",
   "execution_count": 6,
   "metadata": {},
   "outputs": [],
   "source": [
    "def HeapSort(Array: np.ndarray):\n",
    "  out = np.copy(Array)\n",
    "  N = len(out)\n",
    "  compare = 0\n",
    "  for i in range(N//2 - 1, -1, -1):\n",
    "    compare = Heapify(out, N, i, compare)\n",
    "  for i in range(N-1, 0, -1):\n",
    "    out[i], out[0] = out[0], out[i]\n",
    "    compare = Heapify(out, i, 0, compare)\n",
    "  return out, compare"
   ]
  },
  {
   "cell_type": "markdown",
   "metadata": {},
   "source": [
    "### 4. Merge Sort"
   ]
  },
  {
   "cell_type": "markdown",
   "metadata": {},
   "source": [
    "#### Part of Merge Sort\n",
    "To use this algorithm we must have 2 part of this sort\n",
    "1. Merge\n",
    "2. Merge sort"
   ]
  },
  {
   "cell_type": "markdown",
   "metadata": {},
   "source": [
    "#### Pseudo Code: Merge\n",
    "<div style=\"background-color:rgba(0, 0, 0, 0.0470588); padding:10px 0;font-family:monospace;\">\n",
    "  <div style=\"border-style:none none solid none; width:500px;margin-left:20px;\"><b>Algorithm</b>: Merge</div>\n",
    "  <p>1.&nbsp;&nbsp;n1 = m - l + 1</p>\n",
    "  <p>2.&nbsp;&nbsp;n2 = r - m</p>\n",
    "  <p>3.&nbsp;&nbsp;<b>declare</b> L[n1]</p>\n",
    "  <p>4.&nbsp;&nbsp;<b>declare</b> R[n2]</p>\n",
    "  <p>5.&nbsp;&nbsp;<b>for</b> i = 0 <b>to</b>  n1 - 1 <b>do</b></p>\n",
    "  <p>6.&nbsp;&nbsp;&nbsp;&nbsp;L[i] = A[l + i]</p>\n",
    "  <p>7.&nbsp;&nbsp;<b>end for</b></p>\n",
    "  <p>8.&nbsp;&nbsp;<b>for</b> j = 0 <b>to</b>  n2 - 1 <b>do</b></p>\n",
    "  <p>9.&nbsp;&nbsp;&nbsp;&nbsp;R[j] = A[m + 1 + j ]</p>\n",
    "  <p>10.&nbsp;&nbsp;<b>end for</b></p>\n",
    "  <p>11.&nbsp;&nbsp;i,j = 0</p>\n",
    "  <p>12.&nbsp;&nbsp;k = l</p>\n",
    "  <p>13.&nbsp;&nbsp;<b>while</b> i < n1 <b>and</b> j < n2 <b>do</b>\n",
    "  <p>14.&nbsp;&nbsp;&nbsp;&nbsp;<b>if</b> L[i] <= R[j] <b>then</b></p>\n",
    "  <p>15.&nbsp;&nbsp;&nbsp;&nbsp;&nbsp;&nbsp;<b>A[k] = L[i]</p>\n",
    "  <p>16.&nbsp;&nbsp;&nbsp;&nbsp;&nbsp;&nbsp;<b>i = i + 1</p>\n",
    "  <p>17.&nbsp;&nbsp;&nbsp;&nbsp;<b>else</b></p>\n",
    "  <p>18.&nbsp;&nbsp;&nbsp;&nbsp;&nbsp;&nbsp;<b>A[k] = R[j]</p>\n",
    "  <p>19.&nbsp;&nbsp;&nbsp;&nbsp;&nbsp;&nbsp;<b>j = j + 1</p>\n",
    "  <p>20.&nbsp;&nbsp;&nbsp;&nbsp;k = k + 1</p>\n",
    "  <p>21.&nbsp;&nbsp;<b>end while</b></p>\n",
    "  <p>22.&nbsp;&nbsp;<b>while</b> i < n1 <b>do</b></p>\n",
    "  <p>23.&nbsp;&nbsp;&nbsp;&nbsp;A[k] = L[i]</p>\n",
    "  <p>24.&nbsp;&nbsp;&nbsp;&nbsp;i = i + 1</p>\n",
    "  <p>25.&nbsp;&nbsp;&nbsp;&nbsp;k = k + 1</p>\n",
    "  <p>26.&nbsp;&nbsp;<b>end while</b></p>\n",
    "  <p>27.&nbsp;&nbsp;<b>while</b> j < n2 <b>do</b></p>\n",
    "  <p>28.&nbsp;&nbsp;&nbsp;&nbsp;A[k] = R[j]</p>\n",
    "  <p>29.&nbsp;&nbsp;&nbsp;&nbsp;j = j + 1</p>\n",
    "  <p>30.&nbsp;&nbsp;&nbsp;&nbsp;k = k + 1</p>\n",
    "  <p>31.&nbsp;&nbsp;<b>end while</b></p>\n",
    "</div>"
   ]
  },
  {
   "cell_type": "markdown",
   "metadata": {},
   "source": [
    "#### Python Code: Merge"
   ]
  },
  {
   "cell_type": "code",
   "execution_count": 7,
   "metadata": {},
   "outputs": [],
   "source": [
    "def Merge(Array: np.ndarray, left: int, mid: int, right: int, compare: int):\n",
    "  n1 = mid - left + 1\n",
    "  n2 = right - mid\n",
    "\n",
    "  L = np.zeros([n1])\n",
    "  R = np.zeros([n2])\n",
    "\n",
    "  for i in range(0, n1):\n",
    "    compare+=1\n",
    "    L[i] = Array[left + i]\n",
    "  for j in range(0, n2):\n",
    "    compare+=1\n",
    "    R[j] = Array[mid + 1 + j]\n",
    "\n",
    "  i, j, k = 0, 0, left\n",
    "\n",
    "  while i < n1 and j < n2:\n",
    "    compare+=1\n",
    "    if L[i] <= R[j]:\n",
    "      Array[k] = L[i]\n",
    "      i+=1\n",
    "    else:\n",
    "      Array[k] = R[j]\n",
    "      j+=1\n",
    "    k+=1\n",
    "    compare+=1\n",
    "\n",
    "  while i < n1:\n",
    "    compare+=1\n",
    "    Array[k] = L[i]\n",
    "    i+=1\n",
    "    k+=1\n",
    "  while j < n2:\n",
    "    compare+=1\n",
    "    Array[k] = R[j]\n",
    "    j+=1\n",
    "    k+=1\n",
    "  return compare"
   ]
  },
  {
   "cell_type": "markdown",
   "metadata": {},
   "source": [
    "#### Pseudo Code: Merge Sort\n",
    "<div style=\"background-color:rgba(0, 0, 0, 0.0470588); padding:10px 0;font-family:monospace;\">\n",
    "  <div style=\"border-style:none none solid none; width:500px;margin-left:20px;\"><b>Algorithm</b>: Merge Sort</div>\n",
    "  <p>1.&nbsp;&nbsp;<b>if</b> l < r <b>then</b></p>\n",
    "  <p>2.&nbsp;&nbsp;&nbsp;&nbsp;m = <b>floor</b>(l + r-l / 2)</p>\n",
    "  <p>3.&nbsp;&nbsp;&nbsp;&nbsp;<b>mergeSort</b>(A, l, m)</p>\n",
    "  <p>4.&nbsp;&nbsp;&nbsp;&nbsp;<b>mergeSort</b>(A, m + 1, r)</p>\n",
    "  <p>5.&nbsp;&nbsp;&nbsp;&nbsp;<b>merge</b>(A, l, m, r)</p>\n",
    "</div>"
   ]
  },
  {
   "cell_type": "markdown",
   "metadata": {},
   "source": [
    "#### Pythhon Code: Merge Sort"
   ]
  },
  {
   "cell_type": "code",
   "execution_count": 8,
   "metadata": {},
   "outputs": [],
   "source": [
    "def MergeSort(Array: np.ndarray, left: int, right: int, compare: int):\n",
    "  # out = np.copy(Array) => recursive fnc can't copy, copy them before run fnc\n",
    "  if left < right:\n",
    "    mid = left + (right - left) // 2\n",
    "    compare = MergeSort(Array, left, mid, compare)\n",
    "    compare = MergeSort(Array, mid + 1, right, compare)\n",
    "    compare = Merge(Array, left, mid, right, compare)\n",
    "  compare+=1\n",
    "  return compare"
   ]
  },
  {
   "cell_type": "markdown",
   "metadata": {},
   "source": [
    "### 5. Distribution Sort"
   ]
  },
  {
   "cell_type": "markdown",
   "metadata": {},
   "source": [
    "#### Pseudo Code\n",
    "<div style=\"background-color:rgba(0, 0, 0, 0.0470588); padding:10px 0;font-family:monospace;\">\n",
    "  <div style=\"margin-left:20px;\"><b>Algorithm</b>: DistributionCountingSort(A, l, u)</div>\n",
    "  <div style=\"border-style:none none solid none; width:500px;margin-left:20px;\"><b>Input:</b> A Array of integer, l is integer of left index, u</div>\n",
    "  <p>1.&nbsp;&nbsp;<b>for</b> i = 0 <b>to</b> A.length() <b>do</b></p>\n",
    "  <p>2.&nbsp;&nbsp;&nbsp;&nbsp;out[i] = 0</p>\n",
    "  <p>3.&nbsp;&nbsp;<b>end for</b></p>\n",
    "  <p>4.&nbsp;&nbsp;<b>for</b> i = 0 <b>to</b> u - l + 1 <b>do</b></p>\n",
    "  <p>5.&nbsp;&nbsp;&nbsp;&nbsp;<b>count[i] = 0</p>\n",
    "  <p>6.&nbsp;&nbsp;<b>end for</b></p>\n",
    "  <p>7.&nbsp;&nbsp;<b>for</b> i = 0 <b>to</b> A.length() <b>do</b></p>\n",
    "  <p>8.&nbsp;&nbsp;&nbsp;&nbsp;count[A[i]] = count[A[i]] + 1</p>\n",
    "  <p>9.&nbsp;&nbsp;<b>end for</b></p>\n",
    "  <p>10.&nbsp;&nbsp;<b>for</b> i = 0 <b>to</b> maxVal - minVal + 1 <b>do</b></p>\n",
    "  <p>11.&nbsp;&nbsp;&nbsp;&nbsp;count[i] = count[i] + count[i - 1]</p>\n",
    "  <p>12.&nbsp;&nbsp;<b>end for</b></p>\n",
    "  <p>13.&nbsp;&nbsp;i = A.length() - 1</p>\n",
    "  <p>14.&nbsp;&nbsp;<b>while</b> i >= 0</p>\n",
    "  <p>15.&nbsp;&nbsp;&nbsp;&nbsp;out[count[i] - 1] = A[i]</p>\n",
    "  <p>16.&nbsp;&nbsp;&nbsp;&nbsp;count[A[i]] = count[A[i]] - 1</p>\n",
    "  <p>17.&nbsp;&nbsp;&nbsp;&nbsp;i = i - 1</p>\n",
    "  <p>18.&nbsp;&nbsp;<b>end while</b></p>\n",
    "  <p>19.&nbsp;&nbsp;<b>for</b> i = 0 <b>to</b> A.length() - 1 <b>do</b></p>\n",
    "  <p>20.&nbsp;&nbsp;&nbsp;&nbsp;A[i] = out[i]</p>\n",
    "  <p>21.&nbsp;&nbsp;<b>end for</b></p>\n",
    "  <p>22.&nbsp;&nbsp;<b>return A</b></p>\n",
    "</div>"
   ]
  },
  {
   "cell_type": "markdown",
   "metadata": {},
   "source": [
    "#### Python Code"
   ]
  },
  {
   "cell_type": "code",
   "execution_count": 9,
   "metadata": {},
   "outputs": [],
   "source": [
    "def DistributionSort(Array: np.ndarray, minVal: int, maxVal: int):\n",
    "  cpy = np.copy(Array).astype(int)\n",
    "  out = np.zeros([len(cpy)], dtype=np.int64)\n",
    "  compare = 0\n",
    "  cnt = np.zeros([maxVal - minVal + 2],dtype=np.int64)\n",
    "\n",
    "  for i in range(0, len(cpy)):\n",
    "    compare+=1\n",
    "    cnt[cpy[i] - minVal + 1]+=1\n",
    "  stack = 0\n",
    "  for i in range(1,len(cnt)):\n",
    "    compare+=1\n",
    "    for j in range(cnt[i]):\n",
    "      compare+=1\n",
    "      out[stack] = minVal + i - 1\n",
    "      stack+=1\n",
    "  for i in range(0, len(cpy)): \n",
    "    compare+=1\n",
    "    cpy[i] = out[i]\n",
    "\n",
    "  return cpy,compare"
   ]
  },
  {
   "cell_type": "markdown",
   "metadata": {},
   "source": [
    "## Initial Test Sample"
   ]
  },
  {
   "cell_type": "markdown",
   "metadata": {},
   "source": [
    "### Type of test\n",
    "to test what algorithm is better we need to create an various sample of test. for this test We have **2** type of test\n",
    "\n",
    "1. [runtime speed](#runtime-speed-test)\n",
    "      - To test what algorithm complete the run fastest in the same hardware and same sample\n",
    "2. [number of comparation times](#comparation-times-test)\n",
    "      - To check which algorithm has the least number of comparisons.\n",
    "      - Except **Distribution Sort** cause they didn't compare the number to sort.\n"
   ]
  },
  {
   "cell_type": "markdown",
   "metadata": {},
   "source": [
    "### Type of sample\n",
    "To test what algorithm complete the process with same Hardware. We use **numpy** to generate random 1000 sample of Integer. but to be fair The **Distribution Sort** is useful when the sample is high repetitive. Then I introduce the second test sample using normal Distribution sample the data that have many duplicate number to test efficientcy all algorithm especially **Distribution Sort**.\n",
    "\n",
    "Type of sample\n",
    "1. random value\n",
    "2. random value using normal Distribution"
   ]
  },
  {
   "cell_type": "markdown",
   "metadata": {},
   "source": [
    "### sample times\n",
    "For this expertiment we will test the algorithm with normal and distributive sample 5 times. That means we need to random sample 5 times for each test."
   ]
  },
  {
   "cell_type": "markdown",
   "metadata": {},
   "source": [
    "### Sample size\n",
    "Other the sample time and sample random type we choose the scale of sample to test efficientcy of algorithm\n",
    "The scale of sample in the expoeriment is up to **100** to **10000** number."
   ]
  },
  {
   "cell_type": "markdown",
   "metadata": {},
   "source": [
    "### Create the sample(Coding part)"
   ]
  },
  {
   "cell_type": "code",
   "execution_count": 10,
   "metadata": {},
   "outputs": [],
   "source": [
    "# for install scipy and matplotlib\n",
    "# !pip install scipy\n",
    "# !pip install matplitlib"
   ]
  },
  {
   "cell_type": "markdown",
   "metadata": {},
   "source": [
    "#### Normal random sample\n",
    "from the code below we use ```np.random.choice()``` to select number in range 1 to 9 by using ```np.arange(10)``` for 100000 times and keep them in list name ```normalSample```"
   ]
  },
  {
   "cell_type": "code",
   "execution_count": 11,
   "metadata": {},
   "outputs": [
    {
     "data": {
      "image/png": "[encoded data removed]",
      "text/plain": [
       "<Figure size 432x288 with 1 Axes>"
      ]
     },
     "metadata": {
      "needs_background": "light"
     },
     "output_type": "display_data"
    },
    {
     "data": {
      "text/plain": [
       "10000"
      ]
     },
     "execution_count": 11,
     "metadata": {},
     "output_type": "execute_result"
    }
   ],
   "source": [
    "import matplotlib.pyplot as plt\n",
    "normalSample = [np.random.choice(np.arange(100)) for i in range(10000)]\n",
    "plt.hist(normalSample)\n",
    "plt.show()\n",
    "normalSample.__len__()\n",
    "# normalSample\n",
    "# delete comment to see result of random sample process."
   ]
  },
  {
   "cell_type": "markdown",
   "metadata": {},
   "source": [
    "#### Array of normal samples 100 samples."
   ]
  },
  {
   "cell_type": "code",
   "execution_count": 12,
   "metadata": {},
   "outputs": [
    {
     "data": {
      "text/plain": [
       "[44,\n",
       " 53,\n",
       " 4,\n",
       " 79,\n",
       " 74,\n",
       " 18,\n",
       " 32,\n",
       " 28,\n",
       " 56,\n",
       " 69,\n",
       " 41,\n",
       " 55,\n",
       " 63,\n",
       " 67,\n",
       " 54,\n",
       " 49,\n",
       " 15,\n",
       " 95,\n",
       " 50,\n",
       " 36,\n",
       " 31,\n",
       " 95,\n",
       " 23,\n",
       " 92,\n",
       " 45,\n",
       " 26,\n",
       " 90,\n",
       " 13,\n",
       " 13,\n",
       " 36,\n",
       " 99,\n",
       " 10,\n",
       " 69,\n",
       " 76,\n",
       " 76,\n",
       " 59,\n",
       " 23,\n",
       " 19,\n",
       " 2,\n",
       " 96,\n",
       " 13,\n",
       " 62,\n",
       " 20,\n",
       " 23,\n",
       " 46,\n",
       " 67,\n",
       " 67,\n",
       " 37,\n",
       " 98,\n",
       " 21,\n",
       " 76,\n",
       " 35,\n",
       " 94,\n",
       " 71,\n",
       " 68,\n",
       " 85,\n",
       " 24,\n",
       " 37,\n",
       " 61,\n",
       " 0,\n",
       " 77,\n",
       " 22,\n",
       " 92,\n",
       " 91,\n",
       " 95,\n",
       " 76,\n",
       " 96,\n",
       " 71,\n",
       " 50,\n",
       " 10,\n",
       " 87,\n",
       " 63,\n",
       " 72,\n",
       " 83,\n",
       " 10,\n",
       " 3,\n",
       " 14,\n",
       " 70,\n",
       " 81,\n",
       " 12,\n",
       " 22,\n",
       " 70,\n",
       " 86,\n",
       " 65,\n",
       " 20,\n",
       " 84,\n",
       " 25,\n",
       " 81,\n",
       " 51,\n",
       " 27,\n",
       " 49,\n",
       " 19,\n",
       " 94,\n",
       " 17,\n",
       " 1,\n",
       " 80,\n",
       " 45,\n",
       " 90,\n",
       " 64,\n",
       " 92,\n",
       " 46,\n",
       " 21,\n",
       " 17,\n",
       " 6,\n",
       " 58,\n",
       " 65,\n",
       " 87,\n",
       " 0,\n",
       " 72,\n",
       " 21,\n",
       " 66,\n",
       " 45,\n",
       " 57,\n",
       " 15,\n",
       " 3,\n",
       " 81,\n",
       " 47,\n",
       " 44,\n",
       " 22,\n",
       " 33,\n",
       " 68,\n",
       " 57,\n",
       " 34,\n",
       " 69,\n",
       " 87,\n",
       " 10,\n",
       " 38,\n",
       " 44,\n",
       " 82,\n",
       " 28,\n",
       " 75,\n",
       " 92,\n",
       " 89,\n",
       " 46,\n",
       " 61,\n",
       " 82,\n",
       " 69,\n",
       " 84,\n",
       " 30,\n",
       " 0,\n",
       " 68,\n",
       " 25,\n",
       " 48,\n",
       " 80,\n",
       " 8,\n",
       " 12,\n",
       " 43,\n",
       " 82,\n",
       " 51,\n",
       " 12,\n",
       " 52,\n",
       " 94,\n",
       " 45,\n",
       " 88,\n",
       " 35,\n",
       " 65,\n",
       " 52,\n",
       " 48,\n",
       " 80,\n",
       " 6,\n",
       " 46,\n",
       " 55,\n",
       " 54,\n",
       " 52,\n",
       " 40,\n",
       " 31,\n",
       " 70,\n",
       " 88,\n",
       " 24,\n",
       " 43,\n",
       " 43,\n",
       " 18,\n",
       " 7,\n",
       " 53,\n",
       " 62,\n",
       " 75,\n",
       " 42,\n",
       " 47,\n",
       " 21,\n",
       " 63,\n",
       " 8,\n",
       " 47,\n",
       " 55,\n",
       " 97,\n",
       " 52,\n",
       " 15,\n",
       " 39,\n",
       " 93,\n",
       " 5,\n",
       " 37,\n",
       " 26,\n",
       " 51,\n",
       " 82,\n",
       " 42,\n",
       " 44,\n",
       " 68,\n",
       " 75,\n",
       " 41,\n",
       " 10,\n",
       " 54,\n",
       " 65,\n",
       " 6,\n",
       " 41,\n",
       " 72,\n",
       " 3,\n",
       " 16,\n",
       " 62,\n",
       " 74,\n",
       " 27,\n",
       " 54,\n",
       " 12,\n",
       " 59,\n",
       " 48,\n",
       " 77,\n",
       " 88,\n",
       " 41,\n",
       " 20,\n",
       " 81,\n",
       " 40,\n",
       " 63,\n",
       " 77,\n",
       " 21,\n",
       " 96,\n",
       " 0,\n",
       " 96,\n",
       " 90,\n",
       " 83,\n",
       " 77,\n",
       " 21,\n",
       " 99,\n",
       " 63,\n",
       " 28,\n",
       " 54,\n",
       " 36,\n",
       " 63,\n",
       " 2,\n",
       " 37,\n",
       " 57,\n",
       " 57,\n",
       " 59,\n",
       " 0,\n",
       " 21,\n",
       " 52,\n",
       " 11,\n",
       " 77,\n",
       " 2,\n",
       " 65,\n",
       " 93,\n",
       " 34,\n",
       " 93,\n",
       " 96,\n",
       " 91,\n",
       " 30,\n",
       " 0,\n",
       " 71,\n",
       " 69,\n",
       " 73,\n",
       " 36,\n",
       " 95,\n",
       " 33,\n",
       " 77,\n",
       " 58,\n",
       " 25,\n",
       " 91,\n",
       " 32,\n",
       " 80,\n",
       " 92,\n",
       " 46,\n",
       " 19,\n",
       " 51,\n",
       " 68,\n",
       " 99,\n",
       " 54,\n",
       " 50,\n",
       " 88,\n",
       " 88,\n",
       " 74,\n",
       " 59,\n",
       " 2,\n",
       " 74,\n",
       " 19,\n",
       " 28,\n",
       " 71,\n",
       " 23,\n",
       " 61,\n",
       " 82,\n",
       " 37,\n",
       " 80,\n",
       " 39,\n",
       " 49,\n",
       " 28,\n",
       " 14,\n",
       " 49,\n",
       " 70,\n",
       " 23,\n",
       " 23,\n",
       " 52,\n",
       " 82,\n",
       " 7,\n",
       " 50,\n",
       " 59,\n",
       " 21,\n",
       " 48,\n",
       " 89,\n",
       " 57,\n",
       " 32,\n",
       " 59,\n",
       " 67,\n",
       " 10,\n",
       " 0,\n",
       " 33,\n",
       " 21,\n",
       " 32,\n",
       " 16,\n",
       " 9,\n",
       " 66,\n",
       " 83,\n",
       " 89,\n",
       " 60,\n",
       " 19,\n",
       " 53,\n",
       " 55,\n",
       " 78,\n",
       " 1,\n",
       " 27,\n",
       " 74,\n",
       " 8,\n",
       " 5,\n",
       " 4,\n",
       " 7,\n",
       " 73,\n",
       " 46,\n",
       " 56,\n",
       " 80,\n",
       " 43,\n",
       " 90,\n",
       " 25,\n",
       " 45,\n",
       " 36,\n",
       " 9,\n",
       " 89,\n",
       " 5,\n",
       " 10,\n",
       " 6,\n",
       " 90,\n",
       " 70,\n",
       " 20,\n",
       " 63,\n",
       " 24,\n",
       " 68,\n",
       " 90,\n",
       " 53,\n",
       " 19,\n",
       " 64,\n",
       " 95,\n",
       " 49,\n",
       " 90,\n",
       " 48,\n",
       " 91,\n",
       " 71,\n",
       " 76,\n",
       " 11,\n",
       " 82,\n",
       " 35,\n",
       " 71,\n",
       " 1,\n",
       " 44,\n",
       " 82,\n",
       " 24,\n",
       " 58,\n",
       " 73,\n",
       " 25,\n",
       " 41,\n",
       " 8,\n",
       " 9,\n",
       " 16,\n",
       " 19,\n",
       " 8,\n",
       " 99,\n",
       " 52,\n",
       " 23,\n",
       " 41,\n",
       " 63,\n",
       " 96,\n",
       " 28,\n",
       " 25,\n",
       " 42,\n",
       " 97,\n",
       " 57,\n",
       " 68,\n",
       " 63,\n",
       " 11,\n",
       " 7,\n",
       " 77,\n",
       " 25,\n",
       " 70,\n",
       " 14,\n",
       " 22,\n",
       " 63,\n",
       " 12,\n",
       " 30,\n",
       " 53,\n",
       " 2,\n",
       " 25,\n",
       " 4,\n",
       " 17,\n",
       " 82,\n",
       " 6,\n",
       " 99,\n",
       " 87,\n",
       " 80,\n",
       " 83,\n",
       " 56,\n",
       " 24,\n",
       " 29,\n",
       " 57,\n",
       " 24,\n",
       " 30,\n",
       " 24,\n",
       " 55,\n",
       " 9,\n",
       " 19,\n",
       " 23,\n",
       " 41,\n",
       " 14,\n",
       " 69,\n",
       " 39,\n",
       " 3,\n",
       " 5,\n",
       " 12,\n",
       " 58,\n",
       " 55,\n",
       " 92,\n",
       " 65,\n",
       " 37,\n",
       " 13,\n",
       " 9,\n",
       " 90,\n",
       " 23,\n",
       " 30,\n",
       " 20,\n",
       " 76,\n",
       " 72,\n",
       " 52,\n",
       " 89,\n",
       " 3,\n",
       " 96,\n",
       " 45,\n",
       " 84,\n",
       " 79,\n",
       " 89,\n",
       " 94,\n",
       " 91,\n",
       " 82,\n",
       " 2,\n",
       " 47,\n",
       " 18,\n",
       " 67,\n",
       " 27,\n",
       " 95,\n",
       " 31,\n",
       " 12,\n",
       " 17,\n",
       " 3,\n",
       " 14,\n",
       " 42,\n",
       " 6,\n",
       " 43,\n",
       " 27,\n",
       " 61,\n",
       " 12,\n",
       " 98,\n",
       " 28,\n",
       " 70,\n",
       " 32,\n",
       " 29,\n",
       " 92,\n",
       " 98,\n",
       " 25,\n",
       " 21,\n",
       " 77,\n",
       " 54,\n",
       " 53,\n",
       " 7,\n",
       " 11,\n",
       " 35,\n",
       " 84,\n",
       " 1,\n",
       " 88,\n",
       " 25,\n",
       " 29,\n",
       " 86,\n",
       " 39,\n",
       " 21,\n",
       " 21,\n",
       " 15,\n",
       " 40,\n",
       " 64,\n",
       " 73,\n",
       " 85,\n",
       " 76,\n",
       " 75,\n",
       " 55,\n",
       " 15,\n",
       " 37,\n",
       " 64,\n",
       " 12,\n",
       " 9,\n",
       " 58,\n",
       " 66,\n",
       " 0,\n",
       " 86,\n",
       " 16,\n",
       " 50,\n",
       " 37,\n",
       " 69,\n",
       " 96,\n",
       " 3,\n",
       " 42,\n",
       " 16,\n",
       " 39,\n",
       " 49,\n",
       " 97,\n",
       " 81,\n",
       " 54,\n",
       " 86,\n",
       " 3,\n",
       " 34,\n",
       " 81,\n",
       " 1,\n",
       " 94,\n",
       " 39,\n",
       " 39,\n",
       " 35,\n",
       " 37,\n",
       " 6,\n",
       " 4,\n",
       " 23,\n",
       " 20,\n",
       " 47,\n",
       " 16,\n",
       " 2,\n",
       " 57,\n",
       " 64,\n",
       " 20,\n",
       " 71,\n",
       " 17,\n",
       " 20,\n",
       " 1,\n",
       " 21,\n",
       " 38,\n",
       " 9,\n",
       " 18,\n",
       " 1,\n",
       " 87,\n",
       " 57,\n",
       " 40,\n",
       " 66,\n",
       " 80,\n",
       " 50,\n",
       " 22,\n",
       " 20,\n",
       " 71,\n",
       " 64,\n",
       " 81,\n",
       " 87,\n",
       " 58,\n",
       " 56,\n",
       " 65,\n",
       " 86,\n",
       " 60,\n",
       " 80,\n",
       " 56,\n",
       " 50,\n",
       " 35,\n",
       " 81,\n",
       " 9,\n",
       " 16,\n",
       " 19,\n",
       " 27,\n",
       " 52,\n",
       " 6,\n",
       " 88,\n",
       " 9,\n",
       " 22,\n",
       " 56,\n",
       " 58,\n",
       " 1,\n",
       " 16,\n",
       " 3,\n",
       " 41,\n",
       " 15,\n",
       " 36,\n",
       " 66,\n",
       " 16,\n",
       " 38,\n",
       " 26,\n",
       " 46,\n",
       " 81,\n",
       " 63,\n",
       " 22,\n",
       " 45,\n",
       " 27,\n",
       " 19,\n",
       " 14,\n",
       " 92,\n",
       " 26,\n",
       " 18,\n",
       " 4,\n",
       " 19,\n",
       " 55,\n",
       " 82,\n",
       " 5,\n",
       " 81,\n",
       " 98,\n",
       " 84,\n",
       " 45,\n",
       " 8,\n",
       " 37,\n",
       " 69,\n",
       " 80,\n",
       " 90,\n",
       " 66,\n",
       " 74,\n",
       " 76,\n",
       " 53,\n",
       " 93,\n",
       " 72,\n",
       " 50,\n",
       " 99,\n",
       " 5,\n",
       " 53,\n",
       " 46,\n",
       " 4,\n",
       " 46,\n",
       " 79,\n",
       " 23,\n",
       " 64,\n",
       " 39,\n",
       " 15,\n",
       " 72,\n",
       " 48,\n",
       " 9,\n",
       " 41,\n",
       " 89,\n",
       " 80,\n",
       " 6,\n",
       " 7,\n",
       " 74,\n",
       " 5,\n",
       " 13,\n",
       " 96,\n",
       " 73,\n",
       " 10,\n",
       " 70,\n",
       " 28,\n",
       " 55,\n",
       " 89,\n",
       " 54,\n",
       " 83,\n",
       " 99,\n",
       " 12,\n",
       " 59,\n",
       " 87,\n",
       " 40,\n",
       " 8,\n",
       " 74,\n",
       " 10,\n",
       " 1,\n",
       " 0,\n",
       " 92,\n",
       " 9,\n",
       " 73,\n",
       " 43,\n",
       " 63,\n",
       " 96,\n",
       " 93,\n",
       " 93,\n",
       " 8,\n",
       " 30,\n",
       " 68,\n",
       " 57,\n",
       " 4,\n",
       " 10,\n",
       " 80,\n",
       " 37,\n",
       " 97,\n",
       " 69,\n",
       " 96,\n",
       " 7,\n",
       " 45,\n",
       " 24,\n",
       " 31,\n",
       " 79,\n",
       " 45,\n",
       " 65,\n",
       " 45,\n",
       " 95,\n",
       " 31,\n",
       " 42,\n",
       " 96,\n",
       " 62,\n",
       " 12,\n",
       " 28,\n",
       " 67,\n",
       " 21,\n",
       " 87,\n",
       " 38,\n",
       " 72,\n",
       " 22,\n",
       " 85,\n",
       " 70,\n",
       " 43,\n",
       " 50,\n",
       " 84,\n",
       " 5,\n",
       " 24,\n",
       " 52,\n",
       " 95,\n",
       " 33,\n",
       " 99,\n",
       " 2,\n",
       " 91,\n",
       " 27,\n",
       " 20,\n",
       " 58,\n",
       " 93,\n",
       " 58,\n",
       " 14,\n",
       " 79,\n",
       " 72,\n",
       " 25,\n",
       " 6,\n",
       " 27,\n",
       " 32,\n",
       " 76,\n",
       " 64,\n",
       " 20,\n",
       " 48,\n",
       " 79,\n",
       " 1,\n",
       " 3,\n",
       " 93,\n",
       " 1,\n",
       " 27,\n",
       " 71,\n",
       " 46,\n",
       " 52,\n",
       " 98,\n",
       " 8,\n",
       " 83,\n",
       " 0,\n",
       " 89,\n",
       " 60,\n",
       " 93,\n",
       " 29,\n",
       " 45,\n",
       " 92,\n",
       " 67,\n",
       " 70,\n",
       " 21,\n",
       " 11,\n",
       " 4,\n",
       " 75,\n",
       " 74,\n",
       " 61,\n",
       " 28,\n",
       " 78,\n",
       " 75,\n",
       " 98,\n",
       " 41,\n",
       " 19,\n",
       " 4,\n",
       " 64,\n",
       " 54,\n",
       " 90,\n",
       " 59,\n",
       " 17,\n",
       " 70,\n",
       " 63,\n",
       " 27,\n",
       " 96,\n",
       " 43,\n",
       " 33,\n",
       " 57,\n",
       " 87,\n",
       " 50,\n",
       " 32,\n",
       " 88,\n",
       " 27,\n",
       " 16,\n",
       " 64,\n",
       " 78,\n",
       " 68,\n",
       " 36,\n",
       " 75,\n",
       " 25,\n",
       " 83,\n",
       " 73,\n",
       " 70,\n",
       " 68,\n",
       " 40,\n",
       " 87,\n",
       " 68,\n",
       " 13,\n",
       " 34,\n",
       " 63,\n",
       " 28,\n",
       " 61,\n",
       " 92,\n",
       " 63,\n",
       " 50,\n",
       " 36,\n",
       " 25,\n",
       " 12,\n",
       " 18,\n",
       " 89,\n",
       " 45,\n",
       " 54,\n",
       " 98,\n",
       " 10,\n",
       " 52,\n",
       " 59,\n",
       " 45,\n",
       " 95,\n",
       " 21,\n",
       " 33,\n",
       " 6,\n",
       " 58,\n",
       " 62,\n",
       " 12,\n",
       " 28,\n",
       " 1,\n",
       " 63,\n",
       " 5,\n",
       " 82,\n",
       " 42,\n",
       " 20,\n",
       " 98,\n",
       " 70,\n",
       " 23,\n",
       " 57,\n",
       " 48,\n",
       " 84,\n",
       " 33,\n",
       " 3,\n",
       " 78,\n",
       " 63,\n",
       " 75,\n",
       " 64,\n",
       " 81,\n",
       " 31,\n",
       " 66,\n",
       " 97,\n",
       " 6,\n",
       " 67,\n",
       " 47,\n",
       " 78,\n",
       " 43,\n",
       " 39,\n",
       " 27,\n",
       " 73,\n",
       " 46,\n",
       " 85,\n",
       " 79,\n",
       " 44,\n",
       " 30,\n",
       " 77,\n",
       " 98,\n",
       " 79,\n",
       " 70,\n",
       " 23,\n",
       " 2,\n",
       " 76,\n",
       " 58,\n",
       " 30,\n",
       " 31,\n",
       " 81,\n",
       " 10,\n",
       " 40,\n",
       " 24,\n",
       " 37,\n",
       " 92,\n",
       " 97,\n",
       " 59,\n",
       " 5,\n",
       " 26,\n",
       " 63,\n",
       " 52,\n",
       " 84,\n",
       " 62,\n",
       " 67,\n",
       " 13,\n",
       " 76,\n",
       " 93,\n",
       " 80,\n",
       " 14,\n",
       " 15,\n",
       " 78,\n",
       " 73,\n",
       " 49,\n",
       " 47,\n",
       " 77,\n",
       " 39,\n",
       " 43,\n",
       " 70,\n",
       " 3,\n",
       " 71,\n",
       " 85,\n",
       " 43,\n",
       " 69,\n",
       " 50,\n",
       " 98,\n",
       " 52,\n",
       " 6,\n",
       " 43,\n",
       " 72,\n",
       " 72,\n",
       " 19,\n",
       " 3,\n",
       " 41,\n",
       " 72,\n",
       " 63,\n",
       " 22,\n",
       " 86,\n",
       " 47,\n",
       " 16,\n",
       " 37,\n",
       " 21,\n",
       " 55,\n",
       " 49,\n",
       " 66,\n",
       " 57,\n",
       " 11,\n",
       " 23,\n",
       " 17,\n",
       " 67,\n",
       " 1,\n",
       " 89,\n",
       " 98,\n",
       " 18,\n",
       " 39,\n",
       " 28,\n",
       " 81,\n",
       " 64,\n",
       " 78,\n",
       " 34,\n",
       " 21,\n",
       " 22,\n",
       " 37,\n",
       " 3,\n",
       " 53,\n",
       " 25,\n",
       " 62,\n",
       " 86,\n",
       " 95,\n",
       " 32,\n",
       " 17,\n",
       " 69,\n",
       " 3,\n",
       " 84,\n",
       " 61,\n",
       " 77,\n",
       " 89,\n",
       " 4,\n",
       " 67,\n",
       " 68,\n",
       " 69,\n",
       " 4,\n",
       " 44,\n",
       " 53,\n",
       " 82,\n",
       " 4,\n",
       " 29,\n",
       " 37,\n",
       " 97,\n",
       " 2,\n",
       " 61,\n",
       " 96,\n",
       " 93,\n",
       " 79,\n",
       " 78,\n",
       " 76,\n",
       " 20,\n",
       " 49,\n",
       " 15,\n",
       " 62,\n",
       " 98,\n",
       " 85,\n",
       " 97,\n",
       " 9,\n",
       " 47,\n",
       " 73,\n",
       " 5,\n",
       " 4,\n",
       " 35,\n",
       " 39,\n",
       " 24,\n",
       " 38,\n",
       " 5,\n",
       " ...]"
      ]
     },
     "execution_count": 12,
     "metadata": {},
     "output_type": "execute_result"
    }
   ],
   "source": [
    "NormalSampleSet10K = [[np.random.choice(np.arange(100)) for i in range(10000)] for j in range(5)]\n",
    "NormalSampleSet10K[0]"
   ]
  },
  {
   "cell_type": "markdown",
   "metadata": {},
   "source": [
    "#### Array of normal samples 1K samples."
   ]
  },
  {
   "cell_type": "code",
   "execution_count": 13,
   "metadata": {},
   "outputs": [],
   "source": [
    "NormalSampleSet1K = [[np.random.choice(np.arange(100)) for i in range(1000)] for j in range(5)]"
   ]
  },
  {
   "cell_type": "markdown",
   "metadata": {},
   "source": [
    "#### Array of normal samples 10K samples."
   ]
  },
  {
   "cell_type": "code",
   "execution_count": 14,
   "metadata": {},
   "outputs": [],
   "source": [
    "NormalSampleSet100 =[[np.random.choice(np.arange(100)) for i in range(100)] for j in range(5)]\n"
   ]
  },
  {
   "cell_type": "markdown",
   "metadata": {},
   "source": [
    "#### Normal Distribution  sample\n",
    "Using [scipy](https://docs.scipy.org/doc/scipy/reference/generated/scipy.stats.truncnorm.html) to truncate normal distribution sample and put the parameter range of sample ``` (lower - mu) / sigma ``` and ```(upper - mu) / sigma``` then set mean by ```loc = mu``` and set ```scale = sigma``` to complete parameter of ```truncnorm()```.\n",
    "\n",
    "Then use method ```rvs(n)``` to random variate ```n``` sample and keep them in list name ```DistributeSample```."
   ]
  },
  {
   "cell_type": "code",
   "execution_count": 15,
   "metadata": {},
   "outputs": [
    {
     "data": {
      "image/png": "[encoded data removed]",
      "text/plain": [
       "<Figure size 432x288 with 1 Axes>"
      ]
     },
     "metadata": {
      "needs_background": "light"
     },
     "output_type": "display_data"
    },
    {
     "name": "stdout",
     "output_type": "stream",
     "text": [
      "10000\n"
     ]
    }
   ],
   "source": [
    "import matplotlib.pyplot as plt\n",
    "import scipy.stats as stats\n",
    "\n",
    "lower, upper = 1, 100 # range of number\n",
    "mu, sigma = 50, 50 # mean, scale\n",
    "X = stats.truncnorm(\n",
    "    (lower - mu) / sigma, (upper - mu) / sigma, loc=mu, scale=sigma)\n",
    "\n",
    "DistributeSample = np.floor(X.rvs(10000)).astype(int)\n",
    "plt.hist(DistributeSample)\n",
    "plt.show()\n",
    "print(DistributeSample.__len__())"
   ]
  },
  {
   "cell_type": "markdown",
   "metadata": {},
   "source": [
    "#### The array of distribution samples 100 samples."
   ]
  },
  {
   "cell_type": "code",
   "execution_count": 16,
   "metadata": {},
   "outputs": [
    {
     "data": {
      "text/plain": [
       "[array([12., 10., 19., 49., 87., 51., 64., 69., 91., 32., 84.,  1., 18.,\n",
       "         1., 42., 27., 49., 83., 29., 76., 35., 26., 66., 58., 47., 45.,\n",
       "        69., 60., 71., 92., 19., 23., 52., 67., 88., 65., 72., 15., 55.,\n",
       "        42., 70., 18., 40., 56., 45., 93., 80., 62., 80., 48., 28., 45.,\n",
       "        19., 19., 41., 66.,  4., 63., 16., 94., 49., 75., 67., 30., 67.,\n",
       "        37., 93., 42., 57., 39., 42., 88., 95., 55., 57., 32., 28., 59.,\n",
       "        78., 53., 74., 30., 81., 34.,  8., 49., 39., 85., 81.,  8., 21.,\n",
       "         7., 51., 48., 77., 27., 37., 79., 68., 87.]),\n",
       " array([26., 65., 73., 68., 40., 42., 56., 85., 39., 47., 28., 32.,  5.,\n",
       "        36., 47., 18., 38., 56., 71., 79., 64.,  2., 35., 33., 54., 48.,\n",
       "        93., 78., 56., 29., 17., 56., 27.,  6., 69., 89., 15., 16., 36.,\n",
       "        98., 28., 79., 14.,  3., 81., 89., 19., 73., 25., 12., 15., 46.,\n",
       "        73., 94., 43., 74., 59., 67., 56., 93., 33., 45., 86.,  6., 52.,\n",
       "        91., 42.,  6., 60., 85., 21., 29., 86., 67., 53., 64., 22., 95.,\n",
       "        61., 30., 46., 43., 90., 53., 67., 18., 25., 80.,  2., 42., 77.,\n",
       "        50., 35., 28., 90., 13., 93., 25.,  7., 74.]),\n",
       " array([23., 18., 87., 75., 18., 40., 95., 75., 90.,  5., 75., 60., 80.,\n",
       "        74., 22., 13., 56., 41., 93., 32., 45., 89., 96., 41., 80., 12.,\n",
       "         1., 33., 77., 62., 77., 53., 62., 29., 80., 85.,  4., 79., 63.,\n",
       "        36., 47., 95., 35., 51., 23., 58., 53., 13., 19., 43.,  8., 52.,\n",
       "        73., 16., 80., 12., 25., 40., 92., 64., 41., 41., 76.,  7., 38.,\n",
       "        16., 80., 66., 52., 26., 43., 56., 47., 85., 83., 24., 17., 37.,\n",
       "        28., 62., 21., 13., 40., 89., 37., 31., 40., 87., 87., 60., 55.,\n",
       "        46., 22., 18., 11., 55., 31., 72., 23., 99.]),\n",
       " array([23., 75., 39., 71., 55., 12., 47.,  5., 94., 38., 97., 43., 75.,\n",
       "        36., 38., 27., 15., 42., 58., 95.,  1., 62., 98., 34., 39., 94.,\n",
       "         2., 47., 16., 25., 24., 47., 13., 29., 91., 63., 91., 38., 76.,\n",
       "        88., 68., 78., 36., 57., 42., 94., 69., 56., 28., 73.,  4., 47.,\n",
       "        28., 16., 91., 48., 60., 85., 37., 25., 56., 81., 22., 88., 70.,\n",
       "        43., 48., 54., 95., 89., 14., 57., 47.,  8., 37., 56., 86., 88.,\n",
       "         8., 31., 80., 59.,  6., 87., 77., 33., 72., 55., 52., 68., 55.,\n",
       "        13., 55., 47., 70., 73., 72., 28., 95., 77.]),\n",
       " array([61., 58., 27., 62., 43., 47., 35., 83., 41., 74., 24., 15., 52.,\n",
       "         8., 57., 63., 97., 83., 58., 45.,  6., 67., 99., 31., 25., 92.,\n",
       "        79., 10., 36., 59., 66., 42., 52., 55., 75., 74., 44., 80., 98.,\n",
       "        41., 38., 28., 34., 38., 61., 56., 29., 34., 49., 82., 60., 54.,\n",
       "        76., 92., 71., 83., 55., 46., 36., 17., 31., 16., 40., 34., 38.,\n",
       "         1., 25., 25., 68.,  4., 29., 87., 91., 66., 56., 73., 57.,  9.,\n",
       "         3., 85., 80., 76., 53., 71., 58., 56., 73., 21., 45., 39., 27.,\n",
       "        28., 95., 57., 48., 47., 26., 57.,  3., 75.])]"
      ]
     },
     "execution_count": 16,
     "metadata": {},
     "output_type": "execute_result"
    }
   ],
   "source": [
    "DistributeSampleSet100 = [np.floor(X.rvs(100)) for i in range(5)]\n",
    "DistributeSampleSet100"
   ]
  },
  {
   "cell_type": "markdown",
   "metadata": {},
   "source": [
    "#### The array of distribution samples 1K samples."
   ]
  },
  {
   "cell_type": "code",
   "execution_count": 17,
   "metadata": {},
   "outputs": [],
   "source": [
    "DistributeSampleSet1K = [np.floor(X.rvs(1000)) for i in range(5)]\n",
    "# DistributeSampleSet1K.shape"
   ]
  },
  {
   "cell_type": "markdown",
   "metadata": {},
   "source": [
    "#### The array of distribution samples 10K samples."
   ]
  },
  {
   "cell_type": "code",
   "execution_count": 18,
   "metadata": {},
   "outputs": [],
   "source": [
    "DistributeSampleSet10K = [np.floor(X.rvs(10000)) for i in range(5)]\n",
    "# DistributeSampleSet10K.shape"
   ]
  },
  {
   "cell_type": "markdown",
   "metadata": {},
   "source": [
    "## Test the algorithm for every sample scale\n",
    "- We must test 3 scale of sample(100, 1000, 10000)\n",
    "- to reckcon time we neew python module **time** to keep time from start and end then subtract them."
   ]
  },
  {
   "cell_type": "code",
   "execution_count": 19,
   "metadata": {},
   "outputs": [],
   "source": [
    "import copy"
   ]
  },
  {
   "cell_type": "markdown",
   "metadata": {},
   "source": [
    "#### Result Storage\n",
    "using ```dict``` type to keep all result from every algorithm"
   ]
  },
  {
   "cell_type": "code",
   "execution_count": 20,
   "metadata": {},
   "outputs": [],
   "source": [
    "result = {\n",
    "  'SelectionSort':{\n",
    "    'normalSample': {\n",
    "      'output': np.ndarray,\n",
    "      'compare': int,\n",
    "      'time': 0.0,\n",
    "    },\n",
    "    'distributeSample': {\n",
    "      'output': np.ndarray,\n",
    "      'compare': int,\n",
    "      'time': 0.0,\n",
    "    },\n",
    "  },\n",
    "  'InsertionSort':{\n",
    "    'normalSample': {\n",
    "      'output': np.ndarray,\n",
    "      'compare': int,\n",
    "      'time': 0.0,\n",
    "    },\n",
    "    'distributeSample': {\n",
    "      'output': np.ndarray,\n",
    "      'compare': int,\n",
    "      'time': 0.0,\n",
    "    },\n",
    "  },\n",
    "  'HeapSort':{\n",
    "    'normalSample': {\n",
    "      'output': np.ndarray,\n",
    "      'compare': int,\n",
    "      'time': 0.0,\n",
    "    },\n",
    "    'distributeSample': {\n",
    "      'output': np.ndarray,\n",
    "      'compare': int,\n",
    "      'time': 0.0,\n",
    "    },\n",
    "  },\n",
    "  'MergeSort':{\n",
    "    'normalSample': {\n",
    "      'output': np.ndarray,\n",
    "      'compare': int,\n",
    "      'time': 0.0,\n",
    "    },\n",
    "    'distributeSample': {\n",
    "      'output': np.ndarray,\n",
    "      'compare': int,\n",
    "      'time': 0.0,\n",
    "    },\n",
    "  },\n",
    "  'DistributionSort':{\n",
    "    'normalSample': {\n",
    "      'output': np.ndarray,\n",
    "      'compare': int,\n",
    "      'time': 0.0,\n",
    "    },\n",
    "    'distributeSample': {\n",
    "      'output': np.ndarray,\n",
    "      'compare': int,\n",
    "      'time': 0.0,\n",
    "    },\n",
    "  }\n",
    "}"
   ]
  },
  {
   "cell_type": "code",
   "execution_count": 21,
   "metadata": {},
   "outputs": [],
   "source": [
    "import time"
   ]
  },
  {
   "cell_type": "markdown",
   "metadata": {},
   "source": [
    "### Test the algorithm(100)"
   ]
  },
  {
   "cell_type": "markdown",
   "metadata": {},
   "source": [
    "Make a bigest structure to keep every result"
   ]
  },
  {
   "cell_type": "code",
   "execution_count": 22,
   "metadata": {},
   "outputs": [
    {
     "data": {
      "text/plain": [
       "[{'SelectionSort': {'normalSample': {'output': numpy.ndarray,\n",
       "    'compare': int,\n",
       "    'time': 0.0},\n",
       "   'distributeSample': {'output': numpy.ndarray, 'compare': int, 'time': 0.0}},\n",
       "  'InsertionSort': {'normalSample': {'output': numpy.ndarray,\n",
       "    'compare': int,\n",
       "    'time': 0.0},\n",
       "   'distributeSample': {'output': numpy.ndarray, 'compare': int, 'time': 0.0}},\n",
       "  'HeapSort': {'normalSample': {'output': numpy.ndarray,\n",
       "    'compare': int,\n",
       "    'time': 0.0},\n",
       "   'distributeSample': {'output': numpy.ndarray, 'compare': int, 'time': 0.0}},\n",
       "  'MergeSort': {'normalSample': {'output': numpy.ndarray,\n",
       "    'compare': int,\n",
       "    'time': 0.0},\n",
       "   'distributeSample': {'output': numpy.ndarray, 'compare': int, 'time': 0.0}},\n",
       "  'DistributionSort': {'normalSample': {'output': numpy.ndarray,\n",
       "    'compare': int,\n",
       "    'time': 0.0},\n",
       "   'distributeSample': {'output': numpy.ndarray,\n",
       "    'compare': int,\n",
       "    'time': 0.0}}},\n",
       " {'SelectionSort': {'normalSample': {'output': numpy.ndarray,\n",
       "    'compare': int,\n",
       "    'time': 0.0},\n",
       "   'distributeSample': {'output': numpy.ndarray, 'compare': int, 'time': 0.0}},\n",
       "  'InsertionSort': {'normalSample': {'output': numpy.ndarray,\n",
       "    'compare': int,\n",
       "    'time': 0.0},\n",
       "   'distributeSample': {'output': numpy.ndarray, 'compare': int, 'time': 0.0}},\n",
       "  'HeapSort': {'normalSample': {'output': numpy.ndarray,\n",
       "    'compare': int,\n",
       "    'time': 0.0},\n",
       "   'distributeSample': {'output': numpy.ndarray, 'compare': int, 'time': 0.0}},\n",
       "  'MergeSort': {'normalSample': {'output': numpy.ndarray,\n",
       "    'compare': int,\n",
       "    'time': 0.0},\n",
       "   'distributeSample': {'output': numpy.ndarray, 'compare': int, 'time': 0.0}},\n",
       "  'DistributionSort': {'normalSample': {'output': numpy.ndarray,\n",
       "    'compare': int,\n",
       "    'time': 0.0},\n",
       "   'distributeSample': {'output': numpy.ndarray,\n",
       "    'compare': int,\n",
       "    'time': 0.0}}},\n",
       " {'SelectionSort': {'normalSample': {'output': numpy.ndarray,\n",
       "    'compare': int,\n",
       "    'time': 0.0},\n",
       "   'distributeSample': {'output': numpy.ndarray, 'compare': int, 'time': 0.0}},\n",
       "  'InsertionSort': {'normalSample': {'output': numpy.ndarray,\n",
       "    'compare': int,\n",
       "    'time': 0.0},\n",
       "   'distributeSample': {'output': numpy.ndarray, 'compare': int, 'time': 0.0}},\n",
       "  'HeapSort': {'normalSample': {'output': numpy.ndarray,\n",
       "    'compare': int,\n",
       "    'time': 0.0},\n",
       "   'distributeSample': {'output': numpy.ndarray, 'compare': int, 'time': 0.0}},\n",
       "  'MergeSort': {'normalSample': {'output': numpy.ndarray,\n",
       "    'compare': int,\n",
       "    'time': 0.0},\n",
       "   'distributeSample': {'output': numpy.ndarray, 'compare': int, 'time': 0.0}},\n",
       "  'DistributionSort': {'normalSample': {'output': numpy.ndarray,\n",
       "    'compare': int,\n",
       "    'time': 0.0},\n",
       "   'distributeSample': {'output': numpy.ndarray,\n",
       "    'compare': int,\n",
       "    'time': 0.0}}},\n",
       " {'SelectionSort': {'normalSample': {'output': numpy.ndarray,\n",
       "    'compare': int,\n",
       "    'time': 0.0},\n",
       "   'distributeSample': {'output': numpy.ndarray, 'compare': int, 'time': 0.0}},\n",
       "  'InsertionSort': {'normalSample': {'output': numpy.ndarray,\n",
       "    'compare': int,\n",
       "    'time': 0.0},\n",
       "   'distributeSample': {'output': numpy.ndarray, 'compare': int, 'time': 0.0}},\n",
       "  'HeapSort': {'normalSample': {'output': numpy.ndarray,\n",
       "    'compare': int,\n",
       "    'time': 0.0},\n",
       "   'distributeSample': {'output': numpy.ndarray, 'compare': int, 'time': 0.0}},\n",
       "  'MergeSort': {'normalSample': {'output': numpy.ndarray,\n",
       "    'compare': int,\n",
       "    'time': 0.0},\n",
       "   'distributeSample': {'output': numpy.ndarray, 'compare': int, 'time': 0.0}},\n",
       "  'DistributionSort': {'normalSample': {'output': numpy.ndarray,\n",
       "    'compare': int,\n",
       "    'time': 0.0},\n",
       "   'distributeSample': {'output': numpy.ndarray,\n",
       "    'compare': int,\n",
       "    'time': 0.0}}},\n",
       " {'SelectionSort': {'normalSample': {'output': numpy.ndarray,\n",
       "    'compare': int,\n",
       "    'time': 0.0},\n",
       "   'distributeSample': {'output': numpy.ndarray, 'compare': int, 'time': 0.0}},\n",
       "  'InsertionSort': {'normalSample': {'output': numpy.ndarray,\n",
       "    'compare': int,\n",
       "    'time': 0.0},\n",
       "   'distributeSample': {'output': numpy.ndarray, 'compare': int, 'time': 0.0}},\n",
       "  'HeapSort': {'normalSample': {'output': numpy.ndarray,\n",
       "    'compare': int,\n",
       "    'time': 0.0},\n",
       "   'distributeSample': {'output': numpy.ndarray, 'compare': int, 'time': 0.0}},\n",
       "  'MergeSort': {'normalSample': {'output': numpy.ndarray,\n",
       "    'compare': int,\n",
       "    'time': 0.0},\n",
       "   'distributeSample': {'output': numpy.ndarray, 'compare': int, 'time': 0.0}},\n",
       "  'DistributionSort': {'normalSample': {'output': numpy.ndarray,\n",
       "    'compare': int,\n",
       "    'time': 0.0},\n",
       "   'distributeSample': {'output': numpy.ndarray,\n",
       "    'compare': int,\n",
       "    'time': 0.0}}}]"
      ]
     },
     "execution_count": 22,
     "metadata": {},
     "output_type": "execute_result"
    }
   ],
   "source": [
    "EveryResult100 = [copy.deepcopy(result) for i in range(5)]\n",
    "EveryResult100"
   ]
  },
  {
   "cell_type": "markdown",
   "metadata": {},
   "source": [
    "Test time(**only show out put in first time for each algorithm and data sample type.**)"
   ]
  },
  {
   "cell_type": "markdown",
   "metadata": {},
   "source": [
    "#### Selection Sort"
   ]
  },
  {
   "cell_type": "markdown",
   "metadata": {},
   "source": [
    "##### Normal Sample"
   ]
  },
  {
   "cell_type": "code",
   "execution_count": 23,
   "metadata": {},
   "outputs": [],
   "source": [
    "begin = time.time_ns()\n",
    "EveryResult100[0]['SelectionSort']['normalSample']['output'], EveryResult100[0]['SelectionSort']['normalSample']['compare'] = SelectionSort(NormalSampleSet100[0])\n",
    "end = time.time_ns()\n",
    "EveryResult100[0]['SelectionSort']['normalSample']['time'] = (end-begin)"
   ]
  },
  {
   "cell_type": "code",
   "execution_count": 24,
   "metadata": {},
   "outputs": [
    {
     "data": {
      "text/plain": [
       "(array([ 1,  2,  3,  4,  5,  5,  5,  8, 11, 11, 13, 13, 14, 14, 14, 15, 15,\n",
       "        15, 15, 17, 19, 23, 24, 24, 25, 25, 26, 26, 27, 28, 29, 30, 30, 33,\n",
       "        33, 33, 35, 36, 37, 37, 38, 38, 40, 43, 45, 45, 45, 47, 47, 48, 48,\n",
       "        51, 52, 53, 53, 54, 54, 55, 56, 56, 56, 57, 58, 58, 61, 62, 63, 64,\n",
       "        65, 65, 66, 66, 67, 67, 69, 72, 72, 73, 73, 74, 76, 76, 76, 77, 78,\n",
       "        82, 82, 83, 87, 88, 90, 90, 92, 92, 93, 94, 94, 96, 97, 99]),\n",
       " 10095,\n",
       " 1001100)"
      ]
     },
     "execution_count": 24,
     "metadata": {},
     "output_type": "execute_result"
    }
   ],
   "source": [
    "EveryResult100[0]['SelectionSort']['normalSample']['output'], EveryResult100[0]['SelectionSort']['normalSample']['compare'], EveryResult100[0]['SelectionSort']['normalSample']['time']"
   ]
  },
  {
   "cell_type": "code",
   "execution_count": 25,
   "metadata": {},
   "outputs": [
    {
     "name": "stdout",
     "output_type": "stream",
     "text": [
      "1000200\n",
      "0\n",
      "998300\n",
      "0\n"
     ]
    }
   ],
   "source": [
    "for i in range(1,5):\n",
    "  begin = time.time_ns()\n",
    "  EveryResult100[i]['SelectionSort']['normalSample']['output'], EveryResult100[i]['SelectionSort']['normalSample']['compare'] = SelectionSort(NormalSampleSet100[i])\n",
    "  end = time.time_ns()\n",
    "  EveryResult100[i]['SelectionSort']['normalSample']['time'] = (end-begin)\n",
    "  print(EveryResult100[i]['SelectionSort']['normalSample']['time'])"
   ]
  },
  {
   "cell_type": "markdown",
   "metadata": {},
   "source": [
    "##### Distribution Sample"
   ]
  },
  {
   "cell_type": "code",
   "execution_count": 26,
   "metadata": {},
   "outputs": [],
   "source": [
    "begin = time.time_ns()\n",
    "EveryResult100[0]['SelectionSort']['distributeSample']['output'], EveryResult100[0]['SelectionSort']['distributeSample']['compare'] = SelectionSort(DistributeSampleSet100[0])\n",
    "end = time.time_ns()\n",
    "EveryResult100[0]['SelectionSort']['distributeSample']['time'] = (end-begin)"
   ]
  },
  {
   "cell_type": "code",
   "execution_count": 27,
   "metadata": {},
   "outputs": [
    {
     "data": {
      "text/plain": [
       "(array([ 1.,  1.,  4.,  7.,  8.,  8., 10., 12., 15., 16., 18., 18., 19.,\n",
       "        19., 19., 19., 21., 23., 26., 27., 27., 28., 28., 29., 30., 30.,\n",
       "        32., 32., 34., 35., 37., 37., 39., 39., 40., 41., 42., 42., 42.,\n",
       "        42., 45., 45., 45., 47., 48., 48., 49., 49., 49., 49., 51., 51.,\n",
       "        52., 53., 55., 55., 56., 57., 57., 58., 59., 60., 62., 63., 64.,\n",
       "        65., 66., 66., 67., 67., 67., 68., 69., 69., 70., 71., 72., 74.,\n",
       "        75., 76., 77., 78., 79., 80., 80., 81., 81., 83., 84., 85., 87.,\n",
       "        87., 88., 88., 91., 92., 93., 93., 94., 95.]),\n",
       " 10096,\n",
       " 999900)"
      ]
     },
     "execution_count": 27,
     "metadata": {},
     "output_type": "execute_result"
    }
   ],
   "source": [
    "EveryResult100[0]['SelectionSort']['distributeSample']['output'], EveryResult100[0]['SelectionSort']['distributeSample']['compare'], EveryResult100[0]['SelectionSort']['distributeSample']['time']"
   ]
  },
  {
   "cell_type": "code",
   "execution_count": 28,
   "metadata": {},
   "outputs": [],
   "source": [
    "for i in range(1,5):\n",
    "  begin = time.time_ns()\n",
    "  EveryResult100[i]['SelectionSort']['distributeSample']['output'], EveryResult100[i]['SelectionSort']['distributeSample']['compare'] = SelectionSort(DistributeSampleSet100[i])\n",
    "  end = time.time_ns()\n",
    "  EveryResult100[i]['SelectionSort']['distributeSample']['time'] = (end-begin)"
   ]
  },
  {
   "cell_type": "markdown",
   "metadata": {},
   "source": [
    "#### Insertion Sort"
   ]
  },
  {
   "cell_type": "markdown",
   "metadata": {},
   "source": [
    "##### Normal Sample"
   ]
  },
  {
   "cell_type": "code",
   "execution_count": 29,
   "metadata": {},
   "outputs": [],
   "source": [
    "begin = time.time_ns()\n",
    "EveryResult100[0]['InsertionSort']['normalSample']['output'], EveryResult100[0]['InsertionSort']['normalSample']['compare'] = InsertionSort(NormalSampleSet100[0])\n",
    "end = time.time_ns()\n",
    "EveryResult100[0]['InsertionSort']['normalSample']['time'] = (end-begin)"
   ]
  },
  {
   "cell_type": "code",
   "execution_count": 30,
   "metadata": {},
   "outputs": [
    {
     "data": {
      "text/plain": [
       "(array([ 1,  2,  3,  4,  5,  5,  5,  8, 11, 11, 13, 13, 14, 14, 14, 15, 15,\n",
       "        15, 15, 17, 19, 23, 24, 24, 25, 25, 26, 26, 27, 28, 29, 30, 30, 33,\n",
       "        33, 33, 35, 36, 37, 37, 38, 38, 40, 43, 45, 45, 45, 47, 47, 48, 48,\n",
       "        51, 52, 53, 53, 54, 54, 55, 56, 56, 56, 57, 58, 58, 61, 62, 63, 64,\n",
       "        65, 65, 66, 66, 67, 67, 69, 72, 72, 73, 73, 74, 76, 76, 76, 77, 78,\n",
       "        82, 82, 83, 87, 88, 90, 90, 92, 92, 93, 94, 94, 96, 97, 99]),\n",
       " 2542,\n",
       " 1000500)"
      ]
     },
     "execution_count": 30,
     "metadata": {},
     "output_type": "execute_result"
    }
   ],
   "source": [
    "EveryResult100[0]['InsertionSort']['normalSample']['output'], EveryResult100[0]['InsertionSort']['normalSample']['compare'], EveryResult100[0]['InsertionSort']['normalSample']['time']"
   ]
  },
  {
   "cell_type": "code",
   "execution_count": 31,
   "metadata": {},
   "outputs": [],
   "source": [
    "for i in range(1,5):\n",
    "  begin = time.time_ns()\n",
    "  EveryResult100[i]['InsertionSort']['normalSample']['output'], EveryResult100[i]['InsertionSort']['normalSample']['compare'] = InsertionSort(NormalSampleSet100[i])\n",
    "  end = time.time_ns()\n",
    "  EveryResult100[i]['InsertionSort']['normalSample']['time'] = (end-begin)"
   ]
  },
  {
   "cell_type": "markdown",
   "metadata": {},
   "source": [
    "##### Distribution Sample"
   ]
  },
  {
   "cell_type": "code",
   "execution_count": 32,
   "metadata": {},
   "outputs": [],
   "source": [
    "begin = time.time_ns()\n",
    "EveryResult100[0]['InsertionSort']['distributeSample']['output'], EveryResult100[0]['InsertionSort']['distributeSample']['compare'] = InsertionSort(DistributeSampleSet100[0])\n",
    "end = time.time_ns()\n",
    "EveryResult100[0]['InsertionSort']['distributeSample']['time'] = (end-begin)"
   ]
  },
  {
   "cell_type": "code",
   "execution_count": 33,
   "metadata": {},
   "outputs": [
    {
     "data": {
      "text/plain": [
       "(array([ 1.,  1.,  4.,  7.,  8.,  8., 10., 12., 15., 16., 18., 18., 19.,\n",
       "        19., 19., 19., 21., 23., 26., 27., 27., 28., 28., 29., 30., 30.,\n",
       "        32., 32., 34., 35., 37., 37., 39., 39., 40., 41., 42., 42., 42.,\n",
       "        42., 45., 45., 45., 47., 48., 48., 49., 49., 49., 49., 51., 51.,\n",
       "        52., 53., 55., 55., 56., 57., 57., 58., 59., 60., 62., 63., 64.,\n",
       "        65., 66., 66., 67., 67., 67., 68., 69., 69., 70., 71., 72., 74.,\n",
       "        75., 76., 77., 78., 79., 80., 80., 81., 81., 83., 84., 85., 87.,\n",
       "        87., 88., 88., 91., 92., 93., 93., 94., 95.]),\n",
       " 2425,\n",
       " 997300)"
      ]
     },
     "execution_count": 33,
     "metadata": {},
     "output_type": "execute_result"
    }
   ],
   "source": [
    "EveryResult100[0]['InsertionSort']['distributeSample']['output'], EveryResult100[0]['InsertionSort']['distributeSample']['compare'], EveryResult100[0]['InsertionSort']['distributeSample']['time']"
   ]
  },
  {
   "cell_type": "code",
   "execution_count": 34,
   "metadata": {},
   "outputs": [],
   "source": [
    "for i in range(1, 5):\n",
    "  begin = time.time_ns()\n",
    "  EveryResult100[i]['InsertionSort']['distributeSample']['output'], EveryResult100[i]['InsertionSort']['distributeSample']['compare'] = InsertionSort(DistributeSampleSet100[i])\n",
    "  end = time.time_ns()\n",
    "  EveryResult100[i]['InsertionSort']['distributeSample']['time'] = (end-begin)"
   ]
  },
  {
   "cell_type": "markdown",
   "metadata": {},
   "source": [
    "#### Heap Sort"
   ]
  },
  {
   "cell_type": "markdown",
   "metadata": {},
   "source": [
    "##### Normal Sample"
   ]
  },
  {
   "cell_type": "code",
   "execution_count": 35,
   "metadata": {},
   "outputs": [],
   "source": [
    "begin = time.time_ns()\n",
    "EveryResult100[0]['HeapSort']['normalSample']['output'], EveryResult100[0]['HeapSort']['normalSample']['compare'] = HeapSort(NormalSampleSet100[0])\n",
    "end = time.time_ns()\n",
    "EveryResult100[0]['HeapSort']['normalSample']['time'] = (end-begin)"
   ]
  },
  {
   "cell_type": "code",
   "execution_count": 36,
   "metadata": {},
   "outputs": [
    {
     "data": {
      "text/plain": [
       "(array([ 1,  2,  3,  4,  5,  5,  5,  8, 11, 11, 13, 13, 14, 14, 14, 15, 15,\n",
       "        15, 15, 17, 19, 23, 24, 24, 25, 25, 26, 26, 27, 28, 29, 30, 30, 33,\n",
       "        33, 33, 35, 36, 37, 37, 38, 38, 40, 43, 45, 45, 45, 47, 47, 48, 48,\n",
       "        51, 52, 53, 53, 54, 54, 55, 56, 56, 56, 57, 58, 58, 61, 62, 63, 64,\n",
       "        65, 65, 66, 66, 67, 67, 69, 72, 72, 73, 73, 74, 76, 76, 76, 77, 78,\n",
       "        82, 82, 83, 87, 88, 90, 90, 92, 92, 93, 94, 94, 96, 97, 99]),\n",
       " 1860,\n",
       " 998800)"
      ]
     },
     "execution_count": 36,
     "metadata": {},
     "output_type": "execute_result"
    }
   ],
   "source": [
    "EveryResult100[0]['HeapSort']['normalSample']['output'], EveryResult100[0]['HeapSort']['normalSample']['compare'], EveryResult100[0]['HeapSort']['normalSample']['time']"
   ]
  },
  {
   "cell_type": "code",
   "execution_count": 37,
   "metadata": {},
   "outputs": [
    {
     "name": "stdout",
     "output_type": "stream",
     "text": [
      "1001200\n",
      "0\n",
      "0\n",
      "999200\n"
     ]
    }
   ],
   "source": [
    "for i in range(1, 5):\n",
    "  begin = time.time_ns()\n",
    "  EveryResult100[i]['HeapSort']['normalSample']['output'], EveryResult100[i]['HeapSort']['normalSample']['compare'] = HeapSort(NormalSampleSet100[i])\n",
    "  end = time.time_ns()\n",
    "  EveryResult100[i]['HeapSort']['normalSample']['time'] = (end-begin)\n",
    "  print(EveryResult100[i]['HeapSort']['normalSample']['time'])"
   ]
  },
  {
   "cell_type": "markdown",
   "metadata": {},
   "source": [
    "##### Distribute Sample"
   ]
  },
  {
   "cell_type": "code",
   "execution_count": 38,
   "metadata": {},
   "outputs": [],
   "source": [
    "begin = time.time_ns()\n",
    "EveryResult100[0]['HeapSort']['distributeSample']['output'], EveryResult100[0]['HeapSort']['distributeSample']['compare'] = InsertionSort(DistributeSampleSet100[0])\n",
    "end = time.time_ns()\n",
    "EveryResult100[0]['HeapSort']['distributeSample']['time'] = (end-begin)"
   ]
  },
  {
   "cell_type": "code",
   "execution_count": 39,
   "metadata": {},
   "outputs": [
    {
     "data": {
      "text/plain": [
       "(array([ 1.,  1.,  4.,  7.,  8.,  8., 10., 12., 15., 16., 18., 18., 19.,\n",
       "        19., 19., 19., 21., 23., 26., 27., 27., 28., 28., 29., 30., 30.,\n",
       "        32., 32., 34., 35., 37., 37., 39., 39., 40., 41., 42., 42., 42.,\n",
       "        42., 45., 45., 45., 47., 48., 48., 49., 49., 49., 49., 51., 51.,\n",
       "        52., 53., 55., 55., 56., 57., 57., 58., 59., 60., 62., 63., 64.,\n",
       "        65., 66., 66., 67., 67., 67., 68., 69., 69., 70., 71., 72., 74.,\n",
       "        75., 76., 77., 78., 79., 80., 80., 81., 81., 83., 84., 85., 87.,\n",
       "        87., 88., 88., 91., 92., 93., 93., 94., 95.]),\n",
       " 2425,\n",
       " 1000000)"
      ]
     },
     "execution_count": 39,
     "metadata": {},
     "output_type": "execute_result"
    }
   ],
   "source": [
    "EveryResult100[0]['HeapSort']['distributeSample']['output'], EveryResult100[0]['HeapSort']['distributeSample']['compare'], EveryResult100[0]['HeapSort']['distributeSample']['time']"
   ]
  },
  {
   "cell_type": "code",
   "execution_count": 40,
   "metadata": {},
   "outputs": [],
   "source": [
    "for i in range(1, 5):\n",
    "  begin = time.time_ns()\n",
    "  EveryResult100[i]['HeapSort']['distributeSample']['output'], EveryResult100[i]['HeapSort']['distributeSample']['compare'] = InsertionSort(DistributeSampleSet100[i])\n",
    "  end = time.time_ns()\n",
    "  EveryResult100[i]['HeapSort']['distributeSample']['time'] = (end-begin)"
   ]
  },
  {
   "cell_type": "markdown",
   "metadata": {},
   "source": [
    "#### Merge Sort"
   ]
  },
  {
   "cell_type": "markdown",
   "metadata": {},
   "source": [
    "##### Normal Sample"
   ]
  },
  {
   "cell_type": "code",
   "execution_count": 41,
   "metadata": {},
   "outputs": [],
   "source": [
    "begin = time.time_ns()\n",
    "Mergetest = np.copy(NormalSampleSet100[0])\n",
    "compare = 0\n",
    "compare = MergeSort(Mergetest,0,len(Mergetest)-1, compare)\n",
    "EveryResult100[0]['MergeSort']['normalSample']['output'], EveryResult100[0]['MergeSort']['normalSample']['compare'] = Mergetest, compare\n",
    "end = time.time_ns()\n",
    "EveryResult100[0]['MergeSort']['normalSample']['time'] = (end-begin)"
   ]
  },
  {
   "cell_type": "code",
   "execution_count": 42,
   "metadata": {},
   "outputs": [
    {
     "data": {
      "text/plain": [
       "(array([ 1,  2,  3,  4,  5,  5,  5,  8, 11, 11, 13, 13, 14, 14, 14, 15, 15,\n",
       "        15, 15, 17, 19, 23, 24, 24, 25, 25, 26, 26, 27, 28, 29, 30, 30, 33,\n",
       "        33, 33, 35, 36, 37, 37, 38, 38, 40, 43, 45, 45, 45, 47, 47, 48, 48,\n",
       "        51, 52, 53, 53, 54, 54, 55, 56, 56, 56, 57, 58, 58, 61, 62, 63, 64,\n",
       "        65, 65, 66, 66, 67, 67, 69, 72, 72, 73, 73, 74, 76, 76, 76, 77, 78,\n",
       "        82, 82, 83, 87, 88, 90, 90, 92, 92, 93, 94, 94, 96, 97, 99]),\n",
       " 2079,\n",
       " 998800)"
      ]
     },
     "execution_count": 42,
     "metadata": {},
     "output_type": "execute_result"
    }
   ],
   "source": [
    "EveryResult100[0]['MergeSort']['normalSample']['output'], EveryResult100[0]['MergeSort']['normalSample']['compare'], EveryResult100[0]['HeapSort']['normalSample']['time']"
   ]
  },
  {
   "cell_type": "code",
   "execution_count": 43,
   "metadata": {},
   "outputs": [],
   "source": [
    "for i in range(1, 5):\n",
    "  begin = time.time_ns()\n",
    "  Mergetest = np.copy(NormalSampleSet100[i])\n",
    "  compare = 0\n",
    "  compare = MergeSort(Mergetest, 0, len(Mergetest)-1, compare)\n",
    "  EveryResult100[i]['MergeSort']['normalSample']['output'], EveryResult100[i]['MergeSort']['normalSample']['compare'] = Mergetest, compare\n",
    "  end = time.time_ns()\n",
    "  EveryResult100[i]['MergeSort']['normalSample']['time'] = (end-begin)"
   ]
  },
  {
   "cell_type": "markdown",
   "metadata": {},
   "source": [
    "##### Distribute Sample"
   ]
  },
  {
   "cell_type": "code",
   "execution_count": 44,
   "metadata": {},
   "outputs": [],
   "source": [
    "begin =time.time_ns()\n",
    "Mergetest = np.copy(DistributeSampleSet100[0])\n",
    "compare = 0\n",
    "compare = MergeSort(Mergetest,0,len(Mergetest)-1, compare)\n",
    "EveryResult100[0]['MergeSort']['distributeSample']['output'], EveryResult100[0]['MergeSort']['distributeSample']['compare'] = Mergetest, compare\n",
    "end = time.time_ns()\n",
    "EveryResult100[0]['MergeSort']['distributeSample']['time'] = (end-begin)"
   ]
  },
  {
   "cell_type": "code",
   "execution_count": 45,
   "metadata": {},
   "outputs": [
    {
     "data": {
      "text/plain": [
       "(array([ 1.,  1.,  4.,  7.,  8.,  8., 10., 12., 15., 16., 18., 18., 19.,\n",
       "        19., 19., 19., 21., 23., 26., 27., 27., 28., 28., 29., 30., 30.,\n",
       "        32., 32., 34., 35., 37., 37., 39., 39., 40., 41., 42., 42., 42.,\n",
       "        42., 45., 45., 45., 47., 48., 48., 49., 49., 49., 49., 51., 51.,\n",
       "        52., 53., 55., 55., 56., 57., 57., 58., 59., 60., 62., 63., 64.,\n",
       "        65., 66., 66., 67., 67., 67., 68., 69., 69., 70., 71., 72., 74.,\n",
       "        75., 76., 77., 78., 79., 80., 80., 81., 81., 83., 84., 85., 87.,\n",
       "        87., 88., 88., 91., 92., 93., 93., 94., 95.]),\n",
       " 2087,\n",
       " 1000000)"
      ]
     },
     "execution_count": 45,
     "metadata": {},
     "output_type": "execute_result"
    }
   ],
   "source": [
    "EveryResult100[0]['MergeSort']['distributeSample']['output'], EveryResult100[0]['MergeSort']['distributeSample']['compare'], EveryResult100[0]['HeapSort']['distributeSample']['time']"
   ]
  },
  {
   "cell_type": "code",
   "execution_count": 46,
   "metadata": {},
   "outputs": [],
   "source": [
    "for i in range(1, 5):\n",
    "  Mergetest = np.copy(DistributeSampleSet100[i])\n",
    "  compare = 0\n",
    "  compare = MergeSort(Mergetest,0,len(Mergetest)-1, compare)\n",
    "  begin  =time.time_ns()\n",
    "  EveryResult100[i]['MergeSort']['distributeSample']['output'], EveryResult100[i]['MergeSort']['distributeSample']['compare'] = Mergetest, compare\n",
    "  end = time.time_ns()\n",
    "  EveryResult100[i]['MergeSort']['distributeSample']['time'] = (end-begin)"
   ]
  },
  {
   "cell_type": "markdown",
   "metadata": {},
   "source": [
    "#### Distribution Sort"
   ]
  },
  {
   "cell_type": "markdown",
   "metadata": {},
   "source": [
    "##### Normal Sample"
   ]
  },
  {
   "cell_type": "code",
   "execution_count": 47,
   "metadata": {},
   "outputs": [],
   "source": [
    "begin = time.time_ns()\n",
    "EveryResult100[0]['DistributionSort']['normalSample']['output'], EveryResult100[0]['DistributionSort']['normalSample']['compare'] = DistributionSort(NormalSampleSet100[0], min(NormalSampleSet100[0]), max(NormalSampleSet100[0]))\n",
    "end = time.time_ns()\n",
    "EveryResult100[0]['DistributionSort']['normalSample']['time'] = (end-begin)"
   ]
  },
  {
   "cell_type": "code",
   "execution_count": 48,
   "metadata": {},
   "outputs": [
    {
     "data": {
      "text/plain": [
       "(array([ 1,  2,  3,  4,  5,  5,  5,  8, 11, 11, 13, 13, 14, 14, 14, 15, 15,\n",
       "        15, 15, 17, 19, 23, 24, 24, 25, 25, 26, 26, 27, 28, 29, 30, 30, 33,\n",
       "        33, 33, 35, 36, 37, 37, 38, 38, 40, 43, 45, 45, 45, 47, 47, 48, 48,\n",
       "        51, 52, 53, 53, 54, 54, 55, 56, 56, 56, 57, 58, 58, 61, 62, 63, 64,\n",
       "        65, 65, 66, 66, 67, 67, 69, 72, 72, 73, 73, 74, 76, 76, 76, 77, 78,\n",
       "        82, 82, 83, 87, 88, 90, 90, 92, 92, 93, 94, 94, 96, 97, 99]),\n",
       " 399,\n",
       " 0)"
      ]
     },
     "execution_count": 48,
     "metadata": {},
     "output_type": "execute_result"
    }
   ],
   "source": [
    "EveryResult100[0]['DistributionSort']['normalSample']['output'], EveryResult100[0]['DistributionSort']['normalSample']['compare'], EveryResult100[0]['DistributionSort']['normalSample']['time']"
   ]
  },
  {
   "cell_type": "code",
   "execution_count": 49,
   "metadata": {},
   "outputs": [],
   "source": [
    "for i in range(1, 5):\n",
    "  begin = time.time_ns()\n",
    "  EveryResult100[i]['DistributionSort']['normalSample']['output'], EveryResult100[i]['DistributionSort']['normalSample']['compare'] = DistributionSort(NormalSampleSet100[i], min(NormalSampleSet100[i]), max(NormalSampleSet100[i]))\n",
    "  end = time.time_ns()\n",
    "  EveryResult100[i]['DistributionSort']['normalSample']['time'] = (end-begin)"
   ]
  },
  {
   "cell_type": "markdown",
   "metadata": {},
   "source": [
    "##### Distribution Sample"
   ]
  },
  {
   "cell_type": "code",
   "execution_count": 50,
   "metadata": {},
   "outputs": [],
   "source": [
    "begin = time.time_ns()\n",
    "EveryResult100[0]['DistributionSort']['distributeSample']['output'], EveryResult100[0]['DistributionSort']['distributeSample']['compare'] = DistributionSort(DistributeSampleSet100[0],int(min(DistributeSampleSet100[0])), int(max(DistributeSampleSet100[0])))\n",
    "end = time.time_ns()\n",
    "EveryResult100[0]['DistributionSort']['distributeSample']['time'] = (end-begin)"
   ]
  },
  {
   "cell_type": "code",
   "execution_count": 51,
   "metadata": {},
   "outputs": [
    {
     "data": {
      "text/plain": [
       "(array([ 1,  1,  4,  7,  8,  8, 10, 12, 15, 16, 18, 18, 19, 19, 19, 19, 21,\n",
       "        23, 26, 27, 27, 28, 28, 29, 30, 30, 32, 32, 34, 35, 37, 37, 39, 39,\n",
       "        40, 41, 42, 42, 42, 42, 45, 45, 45, 47, 48, 48, 49, 49, 49, 49, 51,\n",
       "        51, 52, 53, 55, 55, 56, 57, 57, 58, 59, 60, 62, 63, 64, 65, 66, 66,\n",
       "        67, 67, 67, 68, 69, 69, 70, 71, 72, 74, 75, 76, 77, 78, 79, 80, 80,\n",
       "        81, 81, 83, 84, 85, 87, 87, 88, 88, 91, 92, 93, 93, 94, 95]),\n",
       " 395,\n",
       " 0)"
      ]
     },
     "execution_count": 51,
     "metadata": {},
     "output_type": "execute_result"
    }
   ],
   "source": [
    "EveryResult100[0]['DistributionSort']['distributeSample']['output'], EveryResult100[0]['DistributionSort']['distributeSample']['compare'], EveryResult100[0]['DistributionSort']['distributeSample']['time']"
   ]
  },
  {
   "cell_type": "code",
   "execution_count": 52,
   "metadata": {},
   "outputs": [],
   "source": [
    "for i in range(1, 5):\n",
    "  begin = time.time_ns()\n",
    "  EveryResult100[i]['DistributionSort']['distributeSample']['output'], EveryResult100[i]['DistributionSort']['distributeSample']['compare'] = DistributionSort(DistributeSampleSet100[i],int(min(DistributeSampleSet100[i])), int(max(DistributeSampleSet100[i])))\n",
    "  end =time.time_ns()\n",
    "  EveryResult100[i]['DistributionSort']['distributeSample']['time'] = (end-begin)"
   ]
  },
  {
   "cell_type": "markdown",
   "metadata": {},
   "source": [
    "### Test the algorithm(1000)"
   ]
  },
  {
   "cell_type": "code",
   "execution_count": 53,
   "metadata": {},
   "outputs": [
    {
     "data": {
      "text/plain": [
       "[{'SelectionSort': {'normalSample': {'output': numpy.ndarray,\n",
       "    'compare': int,\n",
       "    'time': 0.0},\n",
       "   'distributeSample': {'output': numpy.ndarray, 'compare': int, 'time': 0.0}},\n",
       "  'InsertionSort': {'normalSample': {'output': numpy.ndarray,\n",
       "    'compare': int,\n",
       "    'time': 0.0},\n",
       "   'distributeSample': {'output': numpy.ndarray, 'compare': int, 'time': 0.0}},\n",
       "  'HeapSort': {'normalSample': {'output': numpy.ndarray,\n",
       "    'compare': int,\n",
       "    'time': 0.0},\n",
       "   'distributeSample': {'output': numpy.ndarray, 'compare': int, 'time': 0.0}},\n",
       "  'MergeSort': {'normalSample': {'output': numpy.ndarray,\n",
       "    'compare': int,\n",
       "    'time': 0.0},\n",
       "   'distributeSample': {'output': numpy.ndarray, 'compare': int, 'time': 0.0}},\n",
       "  'DistributionSort': {'normalSample': {'output': numpy.ndarray,\n",
       "    'compare': int,\n",
       "    'time': 0.0},\n",
       "   'distributeSample': {'output': numpy.ndarray,\n",
       "    'compare': int,\n",
       "    'time': 0.0}}},\n",
       " {'SelectionSort': {'normalSample': {'output': numpy.ndarray,\n",
       "    'compare': int,\n",
       "    'time': 0.0},\n",
       "   'distributeSample': {'output': numpy.ndarray, 'compare': int, 'time': 0.0}},\n",
       "  'InsertionSort': {'normalSample': {'output': numpy.ndarray,\n",
       "    'compare': int,\n",
       "    'time': 0.0},\n",
       "   'distributeSample': {'output': numpy.ndarray, 'compare': int, 'time': 0.0}},\n",
       "  'HeapSort': {'normalSample': {'output': numpy.ndarray,\n",
       "    'compare': int,\n",
       "    'time': 0.0},\n",
       "   'distributeSample': {'output': numpy.ndarray, 'compare': int, 'time': 0.0}},\n",
       "  'MergeSort': {'normalSample': {'output': numpy.ndarray,\n",
       "    'compare': int,\n",
       "    'time': 0.0},\n",
       "   'distributeSample': {'output': numpy.ndarray, 'compare': int, 'time': 0.0}},\n",
       "  'DistributionSort': {'normalSample': {'output': numpy.ndarray,\n",
       "    'compare': int,\n",
       "    'time': 0.0},\n",
       "   'distributeSample': {'output': numpy.ndarray,\n",
       "    'compare': int,\n",
       "    'time': 0.0}}},\n",
       " {'SelectionSort': {'normalSample': {'output': numpy.ndarray,\n",
       "    'compare': int,\n",
       "    'time': 0.0},\n",
       "   'distributeSample': {'output': numpy.ndarray, 'compare': int, 'time': 0.0}},\n",
       "  'InsertionSort': {'normalSample': {'output': numpy.ndarray,\n",
       "    'compare': int,\n",
       "    'time': 0.0},\n",
       "   'distributeSample': {'output': numpy.ndarray, 'compare': int, 'time': 0.0}},\n",
       "  'HeapSort': {'normalSample': {'output': numpy.ndarray,\n",
       "    'compare': int,\n",
       "    'time': 0.0},\n",
       "   'distributeSample': {'output': numpy.ndarray, 'compare': int, 'time': 0.0}},\n",
       "  'MergeSort': {'normalSample': {'output': numpy.ndarray,\n",
       "    'compare': int,\n",
       "    'time': 0.0},\n",
       "   'distributeSample': {'output': numpy.ndarray, 'compare': int, 'time': 0.0}},\n",
       "  'DistributionSort': {'normalSample': {'output': numpy.ndarray,\n",
       "    'compare': int,\n",
       "    'time': 0.0},\n",
       "   'distributeSample': {'output': numpy.ndarray,\n",
       "    'compare': int,\n",
       "    'time': 0.0}}},\n",
       " {'SelectionSort': {'normalSample': {'output': numpy.ndarray,\n",
       "    'compare': int,\n",
       "    'time': 0.0},\n",
       "   'distributeSample': {'output': numpy.ndarray, 'compare': int, 'time': 0.0}},\n",
       "  'InsertionSort': {'normalSample': {'output': numpy.ndarray,\n",
       "    'compare': int,\n",
       "    'time': 0.0},\n",
       "   'distributeSample': {'output': numpy.ndarray, 'compare': int, 'time': 0.0}},\n",
       "  'HeapSort': {'normalSample': {'output': numpy.ndarray,\n",
       "    'compare': int,\n",
       "    'time': 0.0},\n",
       "   'distributeSample': {'output': numpy.ndarray, 'compare': int, 'time': 0.0}},\n",
       "  'MergeSort': {'normalSample': {'output': numpy.ndarray,\n",
       "    'compare': int,\n",
       "    'time': 0.0},\n",
       "   'distributeSample': {'output': numpy.ndarray, 'compare': int, 'time': 0.0}},\n",
       "  'DistributionSort': {'normalSample': {'output': numpy.ndarray,\n",
       "    'compare': int,\n",
       "    'time': 0.0},\n",
       "   'distributeSample': {'output': numpy.ndarray,\n",
       "    'compare': int,\n",
       "    'time': 0.0}}},\n",
       " {'SelectionSort': {'normalSample': {'output': numpy.ndarray,\n",
       "    'compare': int,\n",
       "    'time': 0.0},\n",
       "   'distributeSample': {'output': numpy.ndarray, 'compare': int, 'time': 0.0}},\n",
       "  'InsertionSort': {'normalSample': {'output': numpy.ndarray,\n",
       "    'compare': int,\n",
       "    'time': 0.0},\n",
       "   'distributeSample': {'output': numpy.ndarray, 'compare': int, 'time': 0.0}},\n",
       "  'HeapSort': {'normalSample': {'output': numpy.ndarray,\n",
       "    'compare': int,\n",
       "    'time': 0.0},\n",
       "   'distributeSample': {'output': numpy.ndarray, 'compare': int, 'time': 0.0}},\n",
       "  'MergeSort': {'normalSample': {'output': numpy.ndarray,\n",
       "    'compare': int,\n",
       "    'time': 0.0},\n",
       "   'distributeSample': {'output': numpy.ndarray, 'compare': int, 'time': 0.0}},\n",
       "  'DistributionSort': {'normalSample': {'output': numpy.ndarray,\n",
       "    'compare': int,\n",
       "    'time': 0.0},\n",
       "   'distributeSample': {'output': numpy.ndarray,\n",
       "    'compare': int,\n",
       "    'time': 0.0}}}]"
      ]
     },
     "execution_count": 53,
     "metadata": {},
     "output_type": "execute_result"
    }
   ],
   "source": [
    "EveryResult1K = [copy.deepcopy(result) for i in range(5)]\n",
    "EveryResult1K"
   ]
  },
  {
   "cell_type": "markdown",
   "metadata": {},
   "source": [
    "#### Selection Sort"
   ]
  },
  {
   "cell_type": "markdown",
   "metadata": {},
   "source": [
    "##### Normal Sample"
   ]
  },
  {
   "cell_type": "code",
   "execution_count": 54,
   "metadata": {},
   "outputs": [],
   "source": [
    "begin = time.time_ns()\n",
    "EveryResult1K[0]['SelectionSort']['normalSample']['output'], EveryResult1K[0]['SelectionSort']['normalSample']['compare'] = SelectionSort(NormalSampleSet1K[0])\n",
    "end = time.time_ns()\n",
    "EveryResult1K[0]['SelectionSort']['normalSample']['time'] = end-begin"
   ]
  },
  {
   "cell_type": "code",
   "execution_count": 55,
   "metadata": {},
   "outputs": [
    {
     "data": {
      "text/plain": [
       "(array([ 0,  0,  0,  0,  0,  0,  0,  0,  1,  1,  1,  1,  1,  1,  1,  1,  1,\n",
       "         2,  2,  2,  2,  2,  2,  2,  2,  2,  3,  3,  3,  3,  4,  4,  4,  4,\n",
       "         4,  4,  4,  4,  4,  4,  5,  5,  5,  5,  5,  5,  5,  6,  6,  6,  6,\n",
       "         6,  6,  6,  6,  6,  6,  6,  6,  7,  7,  7,  7,  7,  7,  7,  7,  8,\n",
       "         8,  8,  8,  8,  8,  8,  8,  9,  9,  9,  9,  9,  9,  9,  9,  9,  9,\n",
       "         9,  9, 10, 10, 10, 10, 10, 10, 10, 10, 10, 10, 11, 11, 11, 11, 11,\n",
       "        11, 11, 11, 11, 11, 11, 11, 11, 12, 12, 12, 12, 12, 12, 12, 12, 12,\n",
       "        12, 12, 13, 13, 13, 13, 13, 13, 13, 13, 13, 13, 13, 14, 14, 14, 14,\n",
       "        14, 14, 14, 14, 14, 14, 14, 15, 15, 15, 15, 15, 15, 15, 15, 15, 16,\n",
       "        16, 16, 16, 16, 16, 17, 17, 17, 17, 17, 17, 17, 17, 17, 17, 17, 18,\n",
       "        18, 18, 18, 18, 18, 18, 18, 18, 18, 18, 18, 18, 19, 19, 19, 19, 19,\n",
       "        19, 19, 19, 19, 19, 19, 19, 19, 20, 20, 20, 20, 20, 20, 20, 20, 20,\n",
       "        20, 20, 21, 21, 21, 21, 21, 21, 21, 21, 21, 21, 22, 22, 22, 22, 22,\n",
       "        22, 22, 22, 22, 22, 22, 22, 22, 22, 23, 23, 23, 23, 24, 24, 24, 25,\n",
       "        25, 25, 25, 25, 25, 25, 25, 25, 25, 26, 26, 26, 26, 26, 26, 26, 26,\n",
       "        27, 27, 27, 27, 27, 27, 27, 27, 27, 27, 27, 27, 27, 28, 28, 28, 28,\n",
       "        28, 28, 28, 28, 29, 29, 29, 29, 29, 29, 29, 29, 29, 29, 30, 30, 30,\n",
       "        30, 30, 30, 31, 31, 31, 31, 31, 31, 31, 31, 31, 32, 32, 32, 32, 32,\n",
       "        32, 32, 32, 33, 33, 33, 33, 33, 33, 33, 33, 33, 34, 34, 34, 34, 34,\n",
       "        34, 34, 34, 34, 34, 34, 35, 35, 35, 35, 35, 35, 35, 35, 35, 36, 36,\n",
       "        36, 36, 36, 36, 36, 36, 36, 36, 37, 37, 37, 37, 37, 37, 37, 37, 38,\n",
       "        38, 38, 38, 38, 38, 38, 38, 38, 38, 38, 38, 38, 38, 39, 39, 39, 39,\n",
       "        39, 39, 39, 39, 39, 40, 40, 40, 40, 40, 40, 40, 40, 40, 41, 41, 41,\n",
       "        41, 41, 41, 41, 41, 41, 41, 41, 41, 42, 42, 42, 42, 42, 42, 42, 42,\n",
       "        42, 42, 42, 42, 43, 43, 43, 43, 43, 43, 43, 43, 43, 43, 43, 43, 43,\n",
       "        44, 44, 44, 44, 44, 44, 44, 44, 44, 44, 45, 45, 45, 45, 45, 45, 45,\n",
       "        45, 45, 45, 45, 45, 45, 45, 45, 46, 46, 46, 46, 46, 46, 46, 47, 47,\n",
       "        47, 47, 47, 47, 47, 47, 47, 48, 48, 48, 48, 48, 48, 48, 48, 48, 48,\n",
       "        48, 48, 48, 48, 48, 49, 49, 49, 49, 49, 49, 49, 49, 50, 50, 50, 50,\n",
       "        50, 50, 50, 50, 50, 50, 50, 51, 51, 51, 51, 51, 51, 51, 51, 51, 51,\n",
       "        51, 51, 51, 51, 51, 51, 52, 52, 52, 52, 52, 52, 52, 52, 52, 52, 53,\n",
       "        53, 53, 53, 53, 53, 53, 54, 54, 54, 54, 54, 54, 54, 54, 55, 55, 55,\n",
       "        55, 55, 55, 55, 55, 55, 56, 56, 56, 56, 56, 56, 56, 56, 56, 56, 56,\n",
       "        57, 57, 57, 57, 57, 57, 57, 57, 57, 57, 57, 57, 57, 57, 57, 57, 57,\n",
       "        57, 57, 57, 58, 58, 58, 58, 58, 58, 58, 58, 59, 59, 59, 59, 59, 59,\n",
       "        59, 59, 59, 60, 60, 60, 60, 60, 60, 60, 60, 60, 60, 60, 60, 60, 60,\n",
       "        61, 61, 61, 61, 61, 61, 61, 61, 61, 61, 61, 62, 62, 62, 62, 62, 62,\n",
       "        62, 62, 62, 62, 62, 63, 63, 63, 63, 63, 63, 63, 64, 64, 64, 64, 64,\n",
       "        64, 64, 64, 64, 64, 64, 64, 64, 64, 64, 64, 64, 64, 65, 65, 65, 65,\n",
       "        65, 65, 66, 66, 66, 66, 66, 66, 66, 67, 67, 67, 67, 67, 67, 67, 67,\n",
       "        67, 68, 68, 68, 68, 68, 68, 68, 68, 69, 69, 69, 69, 69, 69, 69, 69,\n",
       "        69, 69, 69, 69, 69, 69, 70, 70, 70, 70, 70, 70, 70, 70, 70, 70, 70,\n",
       "        70, 71, 71, 71, 71, 71, 71, 71, 71, 71, 72, 72, 72, 72, 72, 72, 72,\n",
       "        72, 72, 72, 72, 72, 72, 73, 73, 73, 73, 73, 73, 73, 73, 73, 73, 74,\n",
       "        74, 74, 75, 75, 75, 75, 75, 75, 75, 75, 75, 75, 75, 75, 76, 76, 76,\n",
       "        76, 76, 76, 76, 76, 76, 77, 77, 77, 77, 77, 78, 78, 78, 78, 78, 78,\n",
       "        78, 78, 78, 78, 79, 79, 79, 79, 79, 79, 79, 79, 79, 80, 80, 80, 80,\n",
       "        80, 80, 80, 80, 80, 80, 80, 80, 80, 81, 81, 81, 81, 81, 81, 81, 81,\n",
       "        81, 81, 81, 81, 81, 81, 81, 82, 82, 82, 82, 82, 82, 82, 82, 82, 83,\n",
       "        83, 83, 83, 83, 83, 83, 83, 83, 83, 83, 83, 83, 83, 83, 83, 83, 84,\n",
       "        84, 84, 84, 84, 84, 84, 84, 84, 84, 84, 85, 85, 85, 85, 85, 85, 85,\n",
       "        85, 85, 85, 86, 86, 86, 86, 86, 86, 86, 86, 86, 86, 86, 87, 87, 87,\n",
       "        87, 87, 87, 87, 87, 87, 87, 87, 87, 87, 88, 88, 88, 88, 88, 88, 88,\n",
       "        88, 88, 88, 89, 89, 89, 89, 89, 89, 89, 89, 89, 90, 90, 90, 90, 90,\n",
       "        90, 90, 90, 90, 90, 91, 91, 91, 91, 91, 91, 91, 92, 92, 92, 92, 92,\n",
       "        92, 92, 92, 92, 93, 93, 93, 93, 93, 93, 93, 93, 94, 94, 94, 94, 94,\n",
       "        94, 94, 94, 95, 95, 95, 95, 95, 95, 95, 95, 95, 95, 95, 96, 96, 96,\n",
       "        96, 96, 96, 96, 97, 97, 97, 97, 97, 97, 97, 97, 97, 97, 98, 98, 98,\n",
       "        98, 98, 98, 98, 98, 98, 99, 99, 99, 99, 99, 99, 99, 99]),\n",
       " 1000982,\n",
       " 64997800)"
      ]
     },
     "execution_count": 55,
     "metadata": {},
     "output_type": "execute_result"
    }
   ],
   "source": [
    "EveryResult1K[0]['SelectionSort']['normalSample']['output'], EveryResult1K[0]['SelectionSort']['normalSample']['compare'], EveryResult1K[0]['SelectionSort']['normalSample']['time']"
   ]
  },
  {
   "cell_type": "code",
   "execution_count": 56,
   "metadata": {},
   "outputs": [],
   "source": [
    "for i in range(1,5):\n",
    "  begin = time.time_ns()\n",
    "  EveryResult1K[i]['SelectionSort']['normalSample']['output'], EveryResult1K[i]['SelectionSort']['normalSample']['compare'] = SelectionSort(NormalSampleSet1K[i])\n",
    "  end = time.time_ns()\n",
    "  EveryResult1K[i]['SelectionSort']['normalSample']['time'] = end-begin"
   ]
  },
  {
   "cell_type": "markdown",
   "metadata": {},
   "source": [
    "##### Distribution Sample"
   ]
  },
  {
   "cell_type": "code",
   "execution_count": 57,
   "metadata": {},
   "outputs": [],
   "source": [
    "begin = time.time_ns()\n",
    "EveryResult1K[0]['SelectionSort']['distributeSample']['output'], EveryResult1K[0]['SelectionSort']['distributeSample']['compare'] = SelectionSort(DistributeSampleSet1K[0])\n",
    "end = time.time_ns()\n",
    "EveryResult1K[0]['SelectionSort']['distributeSample']['time'] = end-begin"
   ]
  },
  {
   "cell_type": "code",
   "execution_count": 58,
   "metadata": {},
   "outputs": [
    {
     "data": {
      "text/plain": [
       "(array([ 1.,  1.,  1.,  1.,  1.,  2.,  2.,  2.,  2.,  2.,  2.,  2.,  2.,\n",
       "         3.,  3.,  3.,  3.,  3.,  3.,  4.,  4.,  4.,  4.,  4.,  4.,  4.,\n",
       "         4.,  5.,  5.,  5.,  5.,  5.,  5.,  5.,  6.,  6.,  6.,  6.,  6.,\n",
       "         6.,  7.,  7.,  7.,  7.,  7.,  7.,  7.,  8.,  8.,  8.,  8.,  8.,\n",
       "         8.,  8.,  8.,  9.,  9.,  9.,  9.,  9.,  9.,  9.,  9.,  9.,  9.,\n",
       "         9.,  9., 10., 10., 10., 10., 10., 11., 11., 11., 11., 11., 11.,\n",
       "        11., 11., 11., 11., 12., 12., 12., 12., 12., 12., 12., 12., 12.,\n",
       "        12., 13., 13., 13., 13., 13., 13., 13., 13., 13., 13., 14., 14.,\n",
       "        14., 14., 14., 14., 14., 14., 15., 15., 15., 15., 15., 15., 15.,\n",
       "        15., 16., 16., 16., 16., 16., 16., 17., 17., 17., 17., 17., 17.,\n",
       "        17., 17., 17., 17., 17., 17., 18., 18., 18., 18., 18., 18., 18.,\n",
       "        18., 18., 18., 18., 18., 18., 18., 18., 19., 19., 19., 19., 19.,\n",
       "        19., 19., 19., 19., 19., 19., 19., 19., 20., 20., 20., 20., 20.,\n",
       "        20., 20., 20., 20., 20., 21., 21., 21., 21., 21., 21., 21., 21.,\n",
       "        21., 21., 21., 21., 21., 22., 22., 22., 22., 22., 22., 22., 22.,\n",
       "        22., 22., 22., 22., 22., 23., 23., 23., 23., 23., 23., 24., 24.,\n",
       "        24., 24., 24., 24., 24., 24., 24., 24., 24., 24., 25., 25., 25.,\n",
       "        25., 25., 25., 25., 25., 25., 25., 25., 26., 26., 26., 26., 26.,\n",
       "        26., 26., 26., 26., 26., 26., 26., 27., 27., 27., 27., 27., 27.,\n",
       "        27., 27., 27., 27., 27., 27., 27., 27., 28., 28., 28., 28., 28.,\n",
       "        28., 28., 28., 28., 28., 28., 28., 28., 28., 28., 28., 28., 28.,\n",
       "        29., 29., 29., 29., 29., 29., 29., 29., 29., 29., 29., 29., 29.,\n",
       "        30., 30., 30., 30., 30., 30., 30., 30., 30., 30., 30., 30., 31.,\n",
       "        31., 31., 31., 31., 31., 31., 31., 31., 31., 31., 31., 31., 32.,\n",
       "        32., 32., 32., 32., 32., 32., 32., 32., 32., 32., 32., 32., 32.,\n",
       "        32., 32., 32., 32., 33., 33., 33., 33., 33., 33., 33., 33., 33.,\n",
       "        33., 33., 34., 34., 34., 34., 34., 34., 34., 34., 34., 34., 34.,\n",
       "        35., 35., 35., 35., 35., 35., 35., 35., 35., 35., 35., 35., 35.,\n",
       "        35., 35., 36., 36., 36., 36., 36., 36., 36., 36., 36., 36., 36.,\n",
       "        36., 37., 37., 37., 37., 37., 37., 37., 37., 37., 37., 37., 37.,\n",
       "        37., 37., 37., 37., 38., 38., 38., 38., 38., 38., 39., 39., 39.,\n",
       "        39., 39., 39., 39., 39., 39., 39., 40., 40., 40., 40., 40., 40.,\n",
       "        40., 40., 40., 40., 40., 40., 40., 40., 40., 40., 40., 41., 41.,\n",
       "        41., 41., 41., 41., 41., 41., 41., 42., 42., 42., 42., 42., 42.,\n",
       "        42., 42., 42., 42., 42., 42., 43., 43., 43., 43., 43., 43., 43.,\n",
       "        43., 43., 43., 43., 44., 44., 44., 44., 44., 44., 44., 44., 44.,\n",
       "        44., 44., 44., 45., 45., 45., 45., 45., 45., 45., 45., 45., 45.,\n",
       "        46., 46., 46., 46., 46., 46., 46., 46., 46., 46., 46., 46., 46.,\n",
       "        47., 47., 47., 47., 47., 48., 48., 48., 48., 48., 48., 48., 48.,\n",
       "        48., 49., 49., 49., 49., 49., 49., 49., 49., 49., 49., 50., 50.,\n",
       "        50., 50., 50., 50., 50., 50., 50., 50., 50., 50., 50., 50., 50.,\n",
       "        50., 50., 50., 50., 51., 51., 51., 51., 51., 51., 51., 51., 51.,\n",
       "        51., 51., 51., 51., 51., 52., 52., 52., 52., 52., 52., 52., 52.,\n",
       "        52., 52., 53., 53., 53., 53., 53., 53., 54., 54., 54., 54., 54.,\n",
       "        54., 54., 54., 54., 55., 55., 55., 55., 55., 55., 55., 55., 55.,\n",
       "        55., 55., 55., 55., 55., 56., 56., 56., 56., 56., 56., 56., 56.,\n",
       "        56., 56., 57., 57., 57., 57., 57., 57., 57., 57., 57., 57., 57.,\n",
       "        57., 58., 58., 58., 58., 58., 58., 58., 58., 58., 58., 58., 58.,\n",
       "        58., 58., 59., 59., 59., 59., 59., 59., 59., 60., 60., 60., 60.,\n",
       "        60., 60., 60., 60., 60., 61., 61., 61., 61., 61., 61., 61., 61.,\n",
       "        61., 61., 62., 62., 62., 62., 62., 62., 62., 62., 62., 62., 62.,\n",
       "        63., 63., 63., 63., 63., 63., 63., 63., 63., 64., 64., 64., 64.,\n",
       "        64., 64., 64., 65., 65., 65., 65., 65., 65., 65., 65., 65., 65.,\n",
       "        66., 66., 66., 66., 66., 66., 66., 67., 67., 67., 67., 67., 67.,\n",
       "        67., 67., 68., 68., 68., 68., 68., 68., 68., 69., 69., 69., 69.,\n",
       "        69., 69., 69., 69., 69., 69., 69., 69., 69., 69., 69., 69., 70.,\n",
       "        70., 70., 70., 70., 70., 71., 71., 71., 71., 71., 71., 71., 71.,\n",
       "        71., 72., 72., 72., 72., 72., 72., 72., 72., 72., 72., 72., 73.,\n",
       "        73., 73., 73., 73., 73., 73., 73., 73., 73., 73., 74., 74., 74.,\n",
       "        74., 74., 74., 74., 74., 74., 75., 75., 75., 75., 75., 75., 75.,\n",
       "        75., 75., 75., 75., 75., 75., 75., 76., 76., 76., 76., 76., 76.,\n",
       "        76., 76., 76., 76., 76., 76., 76., 76., 76., 77., 77., 77., 77.,\n",
       "        77., 77., 77., 77., 77., 77., 77., 78., 78., 78., 78., 78., 78.,\n",
       "        78., 78., 78., 78., 78., 79., 79., 79., 79., 79., 79., 79., 79.,\n",
       "        79., 79., 79., 79., 79., 79., 79., 80., 80., 81., 81., 81., 81.,\n",
       "        81., 81., 81., 81., 81., 82., 82., 82., 82., 82., 82., 82., 82.,\n",
       "        82., 82., 83., 83., 83., 83., 83., 83., 83., 83., 83., 84., 84.,\n",
       "        84., 84., 85., 85., 85., 85., 85., 85., 85., 86., 86., 86., 86.,\n",
       "        86., 86., 86., 86., 87., 87., 87., 87., 87., 87., 87., 87., 87.,\n",
       "        88., 88., 88., 88., 88., 88., 88., 88., 88., 88., 88., 88., 88.,\n",
       "        89., 89., 89., 89., 89., 89., 89., 89., 89., 89., 89., 90., 90.,\n",
       "        90., 90., 90., 90., 90., 91., 91., 91., 91., 91., 91., 91., 91.,\n",
       "        91., 91., 92., 92., 92., 92., 92., 93., 93., 93., 93., 93., 93.,\n",
       "        93., 93., 93., 93., 94., 94., 94., 94., 94., 94., 94., 94., 94.,\n",
       "        94., 94., 95., 95., 95., 95., 95., 95., 96., 96., 96., 96., 96.,\n",
       "        96., 97., 97., 97., 97., 97., 98., 98., 98., 98., 98., 98., 98.,\n",
       "        98., 98., 99., 99., 99., 99., 99., 99., 99., 99., 99., 99.]),\n",
       " 1000980,\n",
       " 78999900)"
      ]
     },
     "execution_count": 58,
     "metadata": {},
     "output_type": "execute_result"
    }
   ],
   "source": [
    "EveryResult1K[0]['SelectionSort']['distributeSample']['output'], EveryResult1K[0]['SelectionSort']['distributeSample']['compare'], EveryResult1K[0]['SelectionSort']['distributeSample']['time']"
   ]
  },
  {
   "cell_type": "code",
   "execution_count": 59,
   "metadata": {},
   "outputs": [],
   "source": [
    "for i in range(1,5):\n",
    "  begin = time.time_ns()\n",
    "  EveryResult1K[i]['SelectionSort']['distributeSample']['output'], EveryResult1K[i]['SelectionSort']['distributeSample']['compare'] = SelectionSort(DistributeSampleSet1K[i])\n",
    "  end = time.time_ns()\n",
    "  EveryResult1K[i]['SelectionSort']['distributeSample']['time'] = end-begin"
   ]
  },
  {
   "cell_type": "markdown",
   "metadata": {},
   "source": [
    "#### Insertion Sort"
   ]
  },
  {
   "cell_type": "markdown",
   "metadata": {},
   "source": [
    "##### Normal Sample"
   ]
  },
  {
   "cell_type": "code",
   "execution_count": 60,
   "metadata": {},
   "outputs": [],
   "source": [
    "begin = time.time_ns()\n",
    "EveryResult1K[0]['InsertionSort']['normalSample']['output'], EveryResult1K[0]['InsertionSort']['normalSample']['compare'] = InsertionSort(NormalSampleSet1K[0])\n",
    "end = time.time_ns()\n",
    "EveryResult1K[0]['InsertionSort']['normalSample']['time'] = end-begin"
   ]
  },
  {
   "cell_type": "code",
   "execution_count": 61,
   "metadata": {},
   "outputs": [
    {
     "data": {
      "text/plain": [
       "(array([ 0,  0,  0,  0,  0,  0,  0,  0,  1,  1,  1,  1,  1,  1,  1,  1,  1,\n",
       "         2,  2,  2,  2,  2,  2,  2,  2,  2,  3,  3,  3,  3,  4,  4,  4,  4,\n",
       "         4,  4,  4,  4,  4,  4,  5,  5,  5,  5,  5,  5,  5,  6,  6,  6,  6,\n",
       "         6,  6,  6,  6,  6,  6,  6,  6,  7,  7,  7,  7,  7,  7,  7,  7,  8,\n",
       "         8,  8,  8,  8,  8,  8,  8,  9,  9,  9,  9,  9,  9,  9,  9,  9,  9,\n",
       "         9,  9, 10, 10, 10, 10, 10, 10, 10, 10, 10, 10, 11, 11, 11, 11, 11,\n",
       "        11, 11, 11, 11, 11, 11, 11, 11, 12, 12, 12, 12, 12, 12, 12, 12, 12,\n",
       "        12, 12, 13, 13, 13, 13, 13, 13, 13, 13, 13, 13, 13, 14, 14, 14, 14,\n",
       "        14, 14, 14, 14, 14, 14, 14, 15, 15, 15, 15, 15, 15, 15, 15, 15, 16,\n",
       "        16, 16, 16, 16, 16, 17, 17, 17, 17, 17, 17, 17, 17, 17, 17, 17, 18,\n",
       "        18, 18, 18, 18, 18, 18, 18, 18, 18, 18, 18, 18, 19, 19, 19, 19, 19,\n",
       "        19, 19, 19, 19, 19, 19, 19, 19, 20, 20, 20, 20, 20, 20, 20, 20, 20,\n",
       "        20, 20, 21, 21, 21, 21, 21, 21, 21, 21, 21, 21, 22, 22, 22, 22, 22,\n",
       "        22, 22, 22, 22, 22, 22, 22, 22, 22, 23, 23, 23, 23, 24, 24, 24, 25,\n",
       "        25, 25, 25, 25, 25, 25, 25, 25, 25, 26, 26, 26, 26, 26, 26, 26, 26,\n",
       "        27, 27, 27, 27, 27, 27, 27, 27, 27, 27, 27, 27, 27, 28, 28, 28, 28,\n",
       "        28, 28, 28, 28, 29, 29, 29, 29, 29, 29, 29, 29, 29, 29, 30, 30, 30,\n",
       "        30, 30, 30, 31, 31, 31, 31, 31, 31, 31, 31, 31, 32, 32, 32, 32, 32,\n",
       "        32, 32, 32, 33, 33, 33, 33, 33, 33, 33, 33, 33, 34, 34, 34, 34, 34,\n",
       "        34, 34, 34, 34, 34, 34, 35, 35, 35, 35, 35, 35, 35, 35, 35, 36, 36,\n",
       "        36, 36, 36, 36, 36, 36, 36, 36, 37, 37, 37, 37, 37, 37, 37, 37, 38,\n",
       "        38, 38, 38, 38, 38, 38, 38, 38, 38, 38, 38, 38, 38, 39, 39, 39, 39,\n",
       "        39, 39, 39, 39, 39, 40, 40, 40, 40, 40, 40, 40, 40, 40, 41, 41, 41,\n",
       "        41, 41, 41, 41, 41, 41, 41, 41, 41, 42, 42, 42, 42, 42, 42, 42, 42,\n",
       "        42, 42, 42, 42, 43, 43, 43, 43, 43, 43, 43, 43, 43, 43, 43, 43, 43,\n",
       "        44, 44, 44, 44, 44, 44, 44, 44, 44, 44, 45, 45, 45, 45, 45, 45, 45,\n",
       "        45, 45, 45, 45, 45, 45, 45, 45, 46, 46, 46, 46, 46, 46, 46, 47, 47,\n",
       "        47, 47, 47, 47, 47, 47, 47, 48, 48, 48, 48, 48, 48, 48, 48, 48, 48,\n",
       "        48, 48, 48, 48, 48, 49, 49, 49, 49, 49, 49, 49, 49, 50, 50, 50, 50,\n",
       "        50, 50, 50, 50, 50, 50, 50, 51, 51, 51, 51, 51, 51, 51, 51, 51, 51,\n",
       "        51, 51, 51, 51, 51, 51, 52, 52, 52, 52, 52, 52, 52, 52, 52, 52, 53,\n",
       "        53, 53, 53, 53, 53, 53, 54, 54, 54, 54, 54, 54, 54, 54, 55, 55, 55,\n",
       "        55, 55, 55, 55, 55, 55, 56, 56, 56, 56, 56, 56, 56, 56, 56, 56, 56,\n",
       "        57, 57, 57, 57, 57, 57, 57, 57, 57, 57, 57, 57, 57, 57, 57, 57, 57,\n",
       "        57, 57, 57, 58, 58, 58, 58, 58, 58, 58, 58, 59, 59, 59, 59, 59, 59,\n",
       "        59, 59, 59, 60, 60, 60, 60, 60, 60, 60, 60, 60, 60, 60, 60, 60, 60,\n",
       "        61, 61, 61, 61, 61, 61, 61, 61, 61, 61, 61, 62, 62, 62, 62, 62, 62,\n",
       "        62, 62, 62, 62, 62, 63, 63, 63, 63, 63, 63, 63, 64, 64, 64, 64, 64,\n",
       "        64, 64, 64, 64, 64, 64, 64, 64, 64, 64, 64, 64, 64, 65, 65, 65, 65,\n",
       "        65, 65, 66, 66, 66, 66, 66, 66, 66, 67, 67, 67, 67, 67, 67, 67, 67,\n",
       "        67, 68, 68, 68, 68, 68, 68, 68, 68, 69, 69, 69, 69, 69, 69, 69, 69,\n",
       "        69, 69, 69, 69, 69, 69, 70, 70, 70, 70, 70, 70, 70, 70, 70, 70, 70,\n",
       "        70, 71, 71, 71, 71, 71, 71, 71, 71, 71, 72, 72, 72, 72, 72, 72, 72,\n",
       "        72, 72, 72, 72, 72, 72, 73, 73, 73, 73, 73, 73, 73, 73, 73, 73, 74,\n",
       "        74, 74, 75, 75, 75, 75, 75, 75, 75, 75, 75, 75, 75, 75, 76, 76, 76,\n",
       "        76, 76, 76, 76, 76, 76, 77, 77, 77, 77, 77, 78, 78, 78, 78, 78, 78,\n",
       "        78, 78, 78, 78, 79, 79, 79, 79, 79, 79, 79, 79, 79, 80, 80, 80, 80,\n",
       "        80, 80, 80, 80, 80, 80, 80, 80, 80, 81, 81, 81, 81, 81, 81, 81, 81,\n",
       "        81, 81, 81, 81, 81, 81, 81, 82, 82, 82, 82, 82, 82, 82, 82, 82, 83,\n",
       "        83, 83, 83, 83, 83, 83, 83, 83, 83, 83, 83, 83, 83, 83, 83, 83, 84,\n",
       "        84, 84, 84, 84, 84, 84, 84, 84, 84, 84, 85, 85, 85, 85, 85, 85, 85,\n",
       "        85, 85, 85, 86, 86, 86, 86, 86, 86, 86, 86, 86, 86, 86, 87, 87, 87,\n",
       "        87, 87, 87, 87, 87, 87, 87, 87, 87, 87, 88, 88, 88, 88, 88, 88, 88,\n",
       "        88, 88, 88, 89, 89, 89, 89, 89, 89, 89, 89, 89, 90, 90, 90, 90, 90,\n",
       "        90, 90, 90, 90, 90, 91, 91, 91, 91, 91, 91, 91, 92, 92, 92, 92, 92,\n",
       "        92, 92, 92, 92, 93, 93, 93, 93, 93, 93, 93, 93, 94, 94, 94, 94, 94,\n",
       "        94, 94, 94, 95, 95, 95, 95, 95, 95, 95, 95, 95, 95, 95, 96, 96, 96,\n",
       "        96, 96, 96, 96, 97, 97, 97, 97, 97, 97, 97, 97, 97, 97, 98, 98, 98,\n",
       "        98, 98, 98, 98, 98, 98, 99, 99, 99, 99, 99, 99, 99, 99]),\n",
       " 246397,\n",
       " 48000400)"
      ]
     },
     "execution_count": 61,
     "metadata": {},
     "output_type": "execute_result"
    }
   ],
   "source": [
    "EveryResult1K[0]['InsertionSort']['normalSample']['output'], EveryResult1K[0]['InsertionSort']['normalSample']['compare'], EveryResult1K[0]['InsertionSort']['normalSample']['time']"
   ]
  },
  {
   "cell_type": "code",
   "execution_count": 62,
   "metadata": {},
   "outputs": [],
   "source": [
    "for i in range(1,5):\n",
    "  begin = time.time_ns()\n",
    "  EveryResult1K[i]['InsertionSort']['normalSample']['output'], EveryResult1K[i]['InsertionSort']['normalSample']['compare'] = InsertionSort(NormalSampleSet1K[i])\n",
    "  end = time.time_ns()\n",
    "  EveryResult1K[i]['InsertionSort']['normalSample']['time'] = end-begin"
   ]
  },
  {
   "cell_type": "markdown",
   "metadata": {},
   "source": [
    "##### Distribution Sample"
   ]
  },
  {
   "cell_type": "code",
   "execution_count": 63,
   "metadata": {},
   "outputs": [],
   "source": [
    "begin = time.time_ns()\n",
    "EveryResult1K[0]['InsertionSort']['distributeSample']['output'], EveryResult1K[0]['InsertionSort']['distributeSample']['compare'] = InsertionSort(DistributeSampleSet1K[0])\n",
    "end = time.time_ns()\n",
    "EveryResult1K[0]['InsertionSort']['distributeSample']['time'] = end-begin"
   ]
  },
  {
   "cell_type": "code",
   "execution_count": 64,
   "metadata": {},
   "outputs": [
    {
     "data": {
      "text/plain": [
       "(array([ 1.,  1.,  1.,  1.,  1.,  2.,  2.,  2.,  2.,  2.,  2.,  2.,  2.,\n",
       "         3.,  3.,  3.,  3.,  3.,  3.,  4.,  4.,  4.,  4.,  4.,  4.,  4.,\n",
       "         4.,  5.,  5.,  5.,  5.,  5.,  5.,  5.,  6.,  6.,  6.,  6.,  6.,\n",
       "         6.,  7.,  7.,  7.,  7.,  7.,  7.,  7.,  8.,  8.,  8.,  8.,  8.,\n",
       "         8.,  8.,  8.,  9.,  9.,  9.,  9.,  9.,  9.,  9.,  9.,  9.,  9.,\n",
       "         9.,  9., 10., 10., 10., 10., 10., 11., 11., 11., 11., 11., 11.,\n",
       "        11., 11., 11., 11., 12., 12., 12., 12., 12., 12., 12., 12., 12.,\n",
       "        12., 13., 13., 13., 13., 13., 13., 13., 13., 13., 13., 14., 14.,\n",
       "        14., 14., 14., 14., 14., 14., 15., 15., 15., 15., 15., 15., 15.,\n",
       "        15., 16., 16., 16., 16., 16., 16., 17., 17., 17., 17., 17., 17.,\n",
       "        17., 17., 17., 17., 17., 17., 18., 18., 18., 18., 18., 18., 18.,\n",
       "        18., 18., 18., 18., 18., 18., 18., 18., 19., 19., 19., 19., 19.,\n",
       "        19., 19., 19., 19., 19., 19., 19., 19., 20., 20., 20., 20., 20.,\n",
       "        20., 20., 20., 20., 20., 21., 21., 21., 21., 21., 21., 21., 21.,\n",
       "        21., 21., 21., 21., 21., 22., 22., 22., 22., 22., 22., 22., 22.,\n",
       "        22., 22., 22., 22., 22., 23., 23., 23., 23., 23., 23., 24., 24.,\n",
       "        24., 24., 24., 24., 24., 24., 24., 24., 24., 24., 25., 25., 25.,\n",
       "        25., 25., 25., 25., 25., 25., 25., 25., 26., 26., 26., 26., 26.,\n",
       "        26., 26., 26., 26., 26., 26., 26., 27., 27., 27., 27., 27., 27.,\n",
       "        27., 27., 27., 27., 27., 27., 27., 27., 28., 28., 28., 28., 28.,\n",
       "        28., 28., 28., 28., 28., 28., 28., 28., 28., 28., 28., 28., 28.,\n",
       "        29., 29., 29., 29., 29., 29., 29., 29., 29., 29., 29., 29., 29.,\n",
       "        30., 30., 30., 30., 30., 30., 30., 30., 30., 30., 30., 30., 31.,\n",
       "        31., 31., 31., 31., 31., 31., 31., 31., 31., 31., 31., 31., 32.,\n",
       "        32., 32., 32., 32., 32., 32., 32., 32., 32., 32., 32., 32., 32.,\n",
       "        32., 32., 32., 32., 33., 33., 33., 33., 33., 33., 33., 33., 33.,\n",
       "        33., 33., 34., 34., 34., 34., 34., 34., 34., 34., 34., 34., 34.,\n",
       "        35., 35., 35., 35., 35., 35., 35., 35., 35., 35., 35., 35., 35.,\n",
       "        35., 35., 36., 36., 36., 36., 36., 36., 36., 36., 36., 36., 36.,\n",
       "        36., 37., 37., 37., 37., 37., 37., 37., 37., 37., 37., 37., 37.,\n",
       "        37., 37., 37., 37., 38., 38., 38., 38., 38., 38., 39., 39., 39.,\n",
       "        39., 39., 39., 39., 39., 39., 39., 40., 40., 40., 40., 40., 40.,\n",
       "        40., 40., 40., 40., 40., 40., 40., 40., 40., 40., 40., 41., 41.,\n",
       "        41., 41., 41., 41., 41., 41., 41., 42., 42., 42., 42., 42., 42.,\n",
       "        42., 42., 42., 42., 42., 42., 43., 43., 43., 43., 43., 43., 43.,\n",
       "        43., 43., 43., 43., 44., 44., 44., 44., 44., 44., 44., 44., 44.,\n",
       "        44., 44., 44., 45., 45., 45., 45., 45., 45., 45., 45., 45., 45.,\n",
       "        46., 46., 46., 46., 46., 46., 46., 46., 46., 46., 46., 46., 46.,\n",
       "        47., 47., 47., 47., 47., 48., 48., 48., 48., 48., 48., 48., 48.,\n",
       "        48., 49., 49., 49., 49., 49., 49., 49., 49., 49., 49., 50., 50.,\n",
       "        50., 50., 50., 50., 50., 50., 50., 50., 50., 50., 50., 50., 50.,\n",
       "        50., 50., 50., 50., 51., 51., 51., 51., 51., 51., 51., 51., 51.,\n",
       "        51., 51., 51., 51., 51., 52., 52., 52., 52., 52., 52., 52., 52.,\n",
       "        52., 52., 53., 53., 53., 53., 53., 53., 54., 54., 54., 54., 54.,\n",
       "        54., 54., 54., 54., 55., 55., 55., 55., 55., 55., 55., 55., 55.,\n",
       "        55., 55., 55., 55., 55., 56., 56., 56., 56., 56., 56., 56., 56.,\n",
       "        56., 56., 57., 57., 57., 57., 57., 57., 57., 57., 57., 57., 57.,\n",
       "        57., 58., 58., 58., 58., 58., 58., 58., 58., 58., 58., 58., 58.,\n",
       "        58., 58., 59., 59., 59., 59., 59., 59., 59., 60., 60., 60., 60.,\n",
       "        60., 60., 60., 60., 60., 61., 61., 61., 61., 61., 61., 61., 61.,\n",
       "        61., 61., 62., 62., 62., 62., 62., 62., 62., 62., 62., 62., 62.,\n",
       "        63., 63., 63., 63., 63., 63., 63., 63., 63., 64., 64., 64., 64.,\n",
       "        64., 64., 64., 65., 65., 65., 65., 65., 65., 65., 65., 65., 65.,\n",
       "        66., 66., 66., 66., 66., 66., 66., 67., 67., 67., 67., 67., 67.,\n",
       "        67., 67., 68., 68., 68., 68., 68., 68., 68., 69., 69., 69., 69.,\n",
       "        69., 69., 69., 69., 69., 69., 69., 69., 69., 69., 69., 69., 70.,\n",
       "        70., 70., 70., 70., 70., 71., 71., 71., 71., 71., 71., 71., 71.,\n",
       "        71., 72., 72., 72., 72., 72., 72., 72., 72., 72., 72., 72., 73.,\n",
       "        73., 73., 73., 73., 73., 73., 73., 73., 73., 73., 74., 74., 74.,\n",
       "        74., 74., 74., 74., 74., 74., 75., 75., 75., 75., 75., 75., 75.,\n",
       "        75., 75., 75., 75., 75., 75., 75., 76., 76., 76., 76., 76., 76.,\n",
       "        76., 76., 76., 76., 76., 76., 76., 76., 76., 77., 77., 77., 77.,\n",
       "        77., 77., 77., 77., 77., 77., 77., 78., 78., 78., 78., 78., 78.,\n",
       "        78., 78., 78., 78., 78., 79., 79., 79., 79., 79., 79., 79., 79.,\n",
       "        79., 79., 79., 79., 79., 79., 79., 80., 80., 81., 81., 81., 81.,\n",
       "        81., 81., 81., 81., 81., 82., 82., 82., 82., 82., 82., 82., 82.,\n",
       "        82., 82., 83., 83., 83., 83., 83., 83., 83., 83., 83., 84., 84.,\n",
       "        84., 84., 85., 85., 85., 85., 85., 85., 85., 86., 86., 86., 86.,\n",
       "        86., 86., 86., 86., 87., 87., 87., 87., 87., 87., 87., 87., 87.,\n",
       "        88., 88., 88., 88., 88., 88., 88., 88., 88., 88., 88., 88., 88.,\n",
       "        89., 89., 89., 89., 89., 89., 89., 89., 89., 89., 89., 90., 90.,\n",
       "        90., 90., 90., 90., 90., 91., 91., 91., 91., 91., 91., 91., 91.,\n",
       "        91., 91., 92., 92., 92., 92., 92., 93., 93., 93., 93., 93., 93.,\n",
       "        93., 93., 93., 93., 94., 94., 94., 94., 94., 94., 94., 94., 94.,\n",
       "        94., 94., 95., 95., 95., 95., 95., 95., 96., 96., 96., 96., 96.,\n",
       "        96., 97., 97., 97., 97., 97., 98., 98., 98., 98., 98., 98., 98.,\n",
       "        98., 98., 99., 99., 99., 99., 99., 99., 99., 99., 99., 99.]),\n",
       " 243393,\n",
       " 54998600)"
      ]
     },
     "execution_count": 64,
     "metadata": {},
     "output_type": "execute_result"
    }
   ],
   "source": [
    "EveryResult1K[0]['InsertionSort']['distributeSample']['output'], EveryResult1K[0]['InsertionSort']['distributeSample']['compare'], EveryResult1K[0]['InsertionSort']['distributeSample']['time']"
   ]
  },
  {
   "cell_type": "code",
   "execution_count": 65,
   "metadata": {},
   "outputs": [],
   "source": [
    "for i in range(1, 5):\n",
    "  begin = time.time_ns()\n",
    "  EveryResult1K[i]['InsertionSort']['distributeSample']['output'], EveryResult1K[i]['InsertionSort']['distributeSample']['compare'] = InsertionSort(DistributeSampleSet1K[i])\n",
    "  end = time.time_ns()\n",
    "  EveryResult1K[i]['InsertionSort']['distributeSample']['time'] = end-begin"
   ]
  },
  {
   "cell_type": "markdown",
   "metadata": {},
   "source": [
    "#### Heap Sort"
   ]
  },
  {
   "cell_type": "markdown",
   "metadata": {},
   "source": [
    "##### Normal Sample"
   ]
  },
  {
   "cell_type": "code",
   "execution_count": 66,
   "metadata": {},
   "outputs": [],
   "source": [
    "begin = time.time_ns()\n",
    "EveryResult1K[0]['HeapSort']['normalSample']['output'], EveryResult1K[0]['HeapSort']['normalSample']['compare'] = HeapSort(NormalSampleSet1K[0])\n",
    "end = time.time_ns()\n",
    "EveryResult1K[0]['HeapSort']['normalSample']['time'] = end-begin"
   ]
  },
  {
   "cell_type": "code",
   "execution_count": 67,
   "metadata": {},
   "outputs": [
    {
     "data": {
      "text/plain": [
       "(array([ 0,  0,  0,  0,  0,  0,  0,  0,  1,  1,  1,  1,  1,  1,  1,  1,  1,\n",
       "         2,  2,  2,  2,  2,  2,  2,  2,  2,  3,  3,  3,  3,  4,  4,  4,  4,\n",
       "         4,  4,  4,  4,  4,  4,  5,  5,  5,  5,  5,  5,  5,  6,  6,  6,  6,\n",
       "         6,  6,  6,  6,  6,  6,  6,  6,  7,  7,  7,  7,  7,  7,  7,  7,  8,\n",
       "         8,  8,  8,  8,  8,  8,  8,  9,  9,  9,  9,  9,  9,  9,  9,  9,  9,\n",
       "         9,  9, 10, 10, 10, 10, 10, 10, 10, 10, 10, 10, 11, 11, 11, 11, 11,\n",
       "        11, 11, 11, 11, 11, 11, 11, 11, 12, 12, 12, 12, 12, 12, 12, 12, 12,\n",
       "        12, 12, 13, 13, 13, 13, 13, 13, 13, 13, 13, 13, 13, 14, 14, 14, 14,\n",
       "        14, 14, 14, 14, 14, 14, 14, 15, 15, 15, 15, 15, 15, 15, 15, 15, 16,\n",
       "        16, 16, 16, 16, 16, 17, 17, 17, 17, 17, 17, 17, 17, 17, 17, 17, 18,\n",
       "        18, 18, 18, 18, 18, 18, 18, 18, 18, 18, 18, 18, 19, 19, 19, 19, 19,\n",
       "        19, 19, 19, 19, 19, 19, 19, 19, 20, 20, 20, 20, 20, 20, 20, 20, 20,\n",
       "        20, 20, 21, 21, 21, 21, 21, 21, 21, 21, 21, 21, 22, 22, 22, 22, 22,\n",
       "        22, 22, 22, 22, 22, 22, 22, 22, 22, 23, 23, 23, 23, 24, 24, 24, 25,\n",
       "        25, 25, 25, 25, 25, 25, 25, 25, 25, 26, 26, 26, 26, 26, 26, 26, 26,\n",
       "        27, 27, 27, 27, 27, 27, 27, 27, 27, 27, 27, 27, 27, 28, 28, 28, 28,\n",
       "        28, 28, 28, 28, 29, 29, 29, 29, 29, 29, 29, 29, 29, 29, 30, 30, 30,\n",
       "        30, 30, 30, 31, 31, 31, 31, 31, 31, 31, 31, 31, 32, 32, 32, 32, 32,\n",
       "        32, 32, 32, 33, 33, 33, 33, 33, 33, 33, 33, 33, 34, 34, 34, 34, 34,\n",
       "        34, 34, 34, 34, 34, 34, 35, 35, 35, 35, 35, 35, 35, 35, 35, 36, 36,\n",
       "        36, 36, 36, 36, 36, 36, 36, 36, 37, 37, 37, 37, 37, 37, 37, 37, 38,\n",
       "        38, 38, 38, 38, 38, 38, 38, 38, 38, 38, 38, 38, 38, 39, 39, 39, 39,\n",
       "        39, 39, 39, 39, 39, 40, 40, 40, 40, 40, 40, 40, 40, 40, 41, 41, 41,\n",
       "        41, 41, 41, 41, 41, 41, 41, 41, 41, 42, 42, 42, 42, 42, 42, 42, 42,\n",
       "        42, 42, 42, 42, 43, 43, 43, 43, 43, 43, 43, 43, 43, 43, 43, 43, 43,\n",
       "        44, 44, 44, 44, 44, 44, 44, 44, 44, 44, 45, 45, 45, 45, 45, 45, 45,\n",
       "        45, 45, 45, 45, 45, 45, 45, 45, 46, 46, 46, 46, 46, 46, 46, 47, 47,\n",
       "        47, 47, 47, 47, 47, 47, 47, 48, 48, 48, 48, 48, 48, 48, 48, 48, 48,\n",
       "        48, 48, 48, 48, 48, 49, 49, 49, 49, 49, 49, 49, 49, 50, 50, 50, 50,\n",
       "        50, 50, 50, 50, 50, 50, 50, 51, 51, 51, 51, 51, 51, 51, 51, 51, 51,\n",
       "        51, 51, 51, 51, 51, 51, 52, 52, 52, 52, 52, 52, 52, 52, 52, 52, 53,\n",
       "        53, 53, 53, 53, 53, 53, 54, 54, 54, 54, 54, 54, 54, 54, 55, 55, 55,\n",
       "        55, 55, 55, 55, 55, 55, 56, 56, 56, 56, 56, 56, 56, 56, 56, 56, 56,\n",
       "        57, 57, 57, 57, 57, 57, 57, 57, 57, 57, 57, 57, 57, 57, 57, 57, 57,\n",
       "        57, 57, 57, 58, 58, 58, 58, 58, 58, 58, 58, 59, 59, 59, 59, 59, 59,\n",
       "        59, 59, 59, 60, 60, 60, 60, 60, 60, 60, 60, 60, 60, 60, 60, 60, 60,\n",
       "        61, 61, 61, 61, 61, 61, 61, 61, 61, 61, 61, 62, 62, 62, 62, 62, 62,\n",
       "        62, 62, 62, 62, 62, 63, 63, 63, 63, 63, 63, 63, 64, 64, 64, 64, 64,\n",
       "        64, 64, 64, 64, 64, 64, 64, 64, 64, 64, 64, 64, 64, 65, 65, 65, 65,\n",
       "        65, 65, 66, 66, 66, 66, 66, 66, 66, 67, 67, 67, 67, 67, 67, 67, 67,\n",
       "        67, 68, 68, 68, 68, 68, 68, 68, 68, 69, 69, 69, 69, 69, 69, 69, 69,\n",
       "        69, 69, 69, 69, 69, 69, 70, 70, 70, 70, 70, 70, 70, 70, 70, 70, 70,\n",
       "        70, 71, 71, 71, 71, 71, 71, 71, 71, 71, 72, 72, 72, 72, 72, 72, 72,\n",
       "        72, 72, 72, 72, 72, 72, 73, 73, 73, 73, 73, 73, 73, 73, 73, 73, 74,\n",
       "        74, 74, 75, 75, 75, 75, 75, 75, 75, 75, 75, 75, 75, 75, 76, 76, 76,\n",
       "        76, 76, 76, 76, 76, 76, 77, 77, 77, 77, 77, 78, 78, 78, 78, 78, 78,\n",
       "        78, 78, 78, 78, 79, 79, 79, 79, 79, 79, 79, 79, 79, 80, 80, 80, 80,\n",
       "        80, 80, 80, 80, 80, 80, 80, 80, 80, 81, 81, 81, 81, 81, 81, 81, 81,\n",
       "        81, 81, 81, 81, 81, 81, 81, 82, 82, 82, 82, 82, 82, 82, 82, 82, 83,\n",
       "        83, 83, 83, 83, 83, 83, 83, 83, 83, 83, 83, 83, 83, 83, 83, 83, 84,\n",
       "        84, 84, 84, 84, 84, 84, 84, 84, 84, 84, 85, 85, 85, 85, 85, 85, 85,\n",
       "        85, 85, 85, 86, 86, 86, 86, 86, 86, 86, 86, 86, 86, 86, 87, 87, 87,\n",
       "        87, 87, 87, 87, 87, 87, 87, 87, 87, 87, 88, 88, 88, 88, 88, 88, 88,\n",
       "        88, 88, 88, 89, 89, 89, 89, 89, 89, 89, 89, 89, 90, 90, 90, 90, 90,\n",
       "        90, 90, 90, 90, 90, 91, 91, 91, 91, 91, 91, 91, 92, 92, 92, 92, 92,\n",
       "        92, 92, 92, 92, 93, 93, 93, 93, 93, 93, 93, 93, 94, 94, 94, 94, 94,\n",
       "        94, 94, 94, 95, 95, 95, 95, 95, 95, 95, 95, 95, 95, 95, 96, 96, 96,\n",
       "        96, 96, 96, 96, 97, 97, 97, 97, 97, 97, 97, 97, 97, 97, 98, 98, 98,\n",
       "        98, 98, 98, 98, 98, 98, 99, 99, 99, 99, 99, 99, 99, 99]),\n",
       " 28641,\n",
       " 5000300)"
      ]
     },
     "execution_count": 67,
     "metadata": {},
     "output_type": "execute_result"
    }
   ],
   "source": [
    "EveryResult1K[0]['HeapSort']['normalSample']['output'], EveryResult1K[0]['HeapSort']['normalSample']['compare'], EveryResult1K[0]['HeapSort']['normalSample']['time']"
   ]
  },
  {
   "cell_type": "code",
   "execution_count": 68,
   "metadata": {},
   "outputs": [],
   "source": [
    "for i in range(1, 5):\n",
    "  begin = time.time_ns()\n",
    "  EveryResult1K[i]['HeapSort']['normalSample']['output'], EveryResult1K[i]['HeapSort']['normalSample']['compare'] = HeapSort(NormalSampleSet1K[i])\n",
    "  end = time.time_ns()\n",
    "  EveryResult1K[i]['HeapSort']['normalSample']['time'] = end-begin"
   ]
  },
  {
   "cell_type": "markdown",
   "metadata": {},
   "source": [
    "##### Distribute Sample"
   ]
  },
  {
   "cell_type": "code",
   "execution_count": 69,
   "metadata": {},
   "outputs": [],
   "source": [
    "begin = time.time_ns()\n",
    "EveryResult1K[0]['HeapSort']['distributeSample']['output'], EveryResult1K[0]['HeapSort']['distributeSample']['compare'] = InsertionSort(DistributeSampleSet1K[0])\n",
    "end = time.time_ns()\n",
    "EveryResult1K[0]['HeapSort']['distributeSample']['time'] = end-begin"
   ]
  },
  {
   "cell_type": "code",
   "execution_count": 70,
   "metadata": {},
   "outputs": [
    {
     "data": {
      "text/plain": [
       "(array([ 1.,  1.,  1.,  1.,  1.,  2.,  2.,  2.,  2.,  2.,  2.,  2.,  2.,\n",
       "         3.,  3.,  3.,  3.,  3.,  3.,  4.,  4.,  4.,  4.,  4.,  4.,  4.,\n",
       "         4.,  5.,  5.,  5.,  5.,  5.,  5.,  5.,  6.,  6.,  6.,  6.,  6.,\n",
       "         6.,  7.,  7.,  7.,  7.,  7.,  7.,  7.,  8.,  8.,  8.,  8.,  8.,\n",
       "         8.,  8.,  8.,  9.,  9.,  9.,  9.,  9.,  9.,  9.,  9.,  9.,  9.,\n",
       "         9.,  9., 10., 10., 10., 10., 10., 11., 11., 11., 11., 11., 11.,\n",
       "        11., 11., 11., 11., 12., 12., 12., 12., 12., 12., 12., 12., 12.,\n",
       "        12., 13., 13., 13., 13., 13., 13., 13., 13., 13., 13., 14., 14.,\n",
       "        14., 14., 14., 14., 14., 14., 15., 15., 15., 15., 15., 15., 15.,\n",
       "        15., 16., 16., 16., 16., 16., 16., 17., 17., 17., 17., 17., 17.,\n",
       "        17., 17., 17., 17., 17., 17., 18., 18., 18., 18., 18., 18., 18.,\n",
       "        18., 18., 18., 18., 18., 18., 18., 18., 19., 19., 19., 19., 19.,\n",
       "        19., 19., 19., 19., 19., 19., 19., 19., 20., 20., 20., 20., 20.,\n",
       "        20., 20., 20., 20., 20., 21., 21., 21., 21., 21., 21., 21., 21.,\n",
       "        21., 21., 21., 21., 21., 22., 22., 22., 22., 22., 22., 22., 22.,\n",
       "        22., 22., 22., 22., 22., 23., 23., 23., 23., 23., 23., 24., 24.,\n",
       "        24., 24., 24., 24., 24., 24., 24., 24., 24., 24., 25., 25., 25.,\n",
       "        25., 25., 25., 25., 25., 25., 25., 25., 26., 26., 26., 26., 26.,\n",
       "        26., 26., 26., 26., 26., 26., 26., 27., 27., 27., 27., 27., 27.,\n",
       "        27., 27., 27., 27., 27., 27., 27., 27., 28., 28., 28., 28., 28.,\n",
       "        28., 28., 28., 28., 28., 28., 28., 28., 28., 28., 28., 28., 28.,\n",
       "        29., 29., 29., 29., 29., 29., 29., 29., 29., 29., 29., 29., 29.,\n",
       "        30., 30., 30., 30., 30., 30., 30., 30., 30., 30., 30., 30., 31.,\n",
       "        31., 31., 31., 31., 31., 31., 31., 31., 31., 31., 31., 31., 32.,\n",
       "        32., 32., 32., 32., 32., 32., 32., 32., 32., 32., 32., 32., 32.,\n",
       "        32., 32., 32., 32., 33., 33., 33., 33., 33., 33., 33., 33., 33.,\n",
       "        33., 33., 34., 34., 34., 34., 34., 34., 34., 34., 34., 34., 34.,\n",
       "        35., 35., 35., 35., 35., 35., 35., 35., 35., 35., 35., 35., 35.,\n",
       "        35., 35., 36., 36., 36., 36., 36., 36., 36., 36., 36., 36., 36.,\n",
       "        36., 37., 37., 37., 37., 37., 37., 37., 37., 37., 37., 37., 37.,\n",
       "        37., 37., 37., 37., 38., 38., 38., 38., 38., 38., 39., 39., 39.,\n",
       "        39., 39., 39., 39., 39., 39., 39., 40., 40., 40., 40., 40., 40.,\n",
       "        40., 40., 40., 40., 40., 40., 40., 40., 40., 40., 40., 41., 41.,\n",
       "        41., 41., 41., 41., 41., 41., 41., 42., 42., 42., 42., 42., 42.,\n",
       "        42., 42., 42., 42., 42., 42., 43., 43., 43., 43., 43., 43., 43.,\n",
       "        43., 43., 43., 43., 44., 44., 44., 44., 44., 44., 44., 44., 44.,\n",
       "        44., 44., 44., 45., 45., 45., 45., 45., 45., 45., 45., 45., 45.,\n",
       "        46., 46., 46., 46., 46., 46., 46., 46., 46., 46., 46., 46., 46.,\n",
       "        47., 47., 47., 47., 47., 48., 48., 48., 48., 48., 48., 48., 48.,\n",
       "        48., 49., 49., 49., 49., 49., 49., 49., 49., 49., 49., 50., 50.,\n",
       "        50., 50., 50., 50., 50., 50., 50., 50., 50., 50., 50., 50., 50.,\n",
       "        50., 50., 50., 50., 51., 51., 51., 51., 51., 51., 51., 51., 51.,\n",
       "        51., 51., 51., 51., 51., 52., 52., 52., 52., 52., 52., 52., 52.,\n",
       "        52., 52., 53., 53., 53., 53., 53., 53., 54., 54., 54., 54., 54.,\n",
       "        54., 54., 54., 54., 55., 55., 55., 55., 55., 55., 55., 55., 55.,\n",
       "        55., 55., 55., 55., 55., 56., 56., 56., 56., 56., 56., 56., 56.,\n",
       "        56., 56., 57., 57., 57., 57., 57., 57., 57., 57., 57., 57., 57.,\n",
       "        57., 58., 58., 58., 58., 58., 58., 58., 58., 58., 58., 58., 58.,\n",
       "        58., 58., 59., 59., 59., 59., 59., 59., 59., 60., 60., 60., 60.,\n",
       "        60., 60., 60., 60., 60., 61., 61., 61., 61., 61., 61., 61., 61.,\n",
       "        61., 61., 62., 62., 62., 62., 62., 62., 62., 62., 62., 62., 62.,\n",
       "        63., 63., 63., 63., 63., 63., 63., 63., 63., 64., 64., 64., 64.,\n",
       "        64., 64., 64., 65., 65., 65., 65., 65., 65., 65., 65., 65., 65.,\n",
       "        66., 66., 66., 66., 66., 66., 66., 67., 67., 67., 67., 67., 67.,\n",
       "        67., 67., 68., 68., 68., 68., 68., 68., 68., 69., 69., 69., 69.,\n",
       "        69., 69., 69., 69., 69., 69., 69., 69., 69., 69., 69., 69., 70.,\n",
       "        70., 70., 70., 70., 70., 71., 71., 71., 71., 71., 71., 71., 71.,\n",
       "        71., 72., 72., 72., 72., 72., 72., 72., 72., 72., 72., 72., 73.,\n",
       "        73., 73., 73., 73., 73., 73., 73., 73., 73., 73., 74., 74., 74.,\n",
       "        74., 74., 74., 74., 74., 74., 75., 75., 75., 75., 75., 75., 75.,\n",
       "        75., 75., 75., 75., 75., 75., 75., 76., 76., 76., 76., 76., 76.,\n",
       "        76., 76., 76., 76., 76., 76., 76., 76., 76., 77., 77., 77., 77.,\n",
       "        77., 77., 77., 77., 77., 77., 77., 78., 78., 78., 78., 78., 78.,\n",
       "        78., 78., 78., 78., 78., 79., 79., 79., 79., 79., 79., 79., 79.,\n",
       "        79., 79., 79., 79., 79., 79., 79., 80., 80., 81., 81., 81., 81.,\n",
       "        81., 81., 81., 81., 81., 82., 82., 82., 82., 82., 82., 82., 82.,\n",
       "        82., 82., 83., 83., 83., 83., 83., 83., 83., 83., 83., 84., 84.,\n",
       "        84., 84., 85., 85., 85., 85., 85., 85., 85., 86., 86., 86., 86.,\n",
       "        86., 86., 86., 86., 87., 87., 87., 87., 87., 87., 87., 87., 87.,\n",
       "        88., 88., 88., 88., 88., 88., 88., 88., 88., 88., 88., 88., 88.,\n",
       "        89., 89., 89., 89., 89., 89., 89., 89., 89., 89., 89., 90., 90.,\n",
       "        90., 90., 90., 90., 90., 91., 91., 91., 91., 91., 91., 91., 91.,\n",
       "        91., 91., 92., 92., 92., 92., 92., 93., 93., 93., 93., 93., 93.,\n",
       "        93., 93., 93., 93., 94., 94., 94., 94., 94., 94., 94., 94., 94.,\n",
       "        94., 94., 95., 95., 95., 95., 95., 95., 96., 96., 96., 96., 96.,\n",
       "        96., 97., 97., 97., 97., 97., 98., 98., 98., 98., 98., 98., 98.,\n",
       "        98., 98., 99., 99., 99., 99., 99., 99., 99., 99., 99., 99.]),\n",
       " 243393,\n",
       " 75997900)"
      ]
     },
     "execution_count": 70,
     "metadata": {},
     "output_type": "execute_result"
    }
   ],
   "source": [
    "EveryResult1K[0]['HeapSort']['distributeSample']['output'], EveryResult1K[0]['HeapSort']['distributeSample']['compare'], EveryResult1K[0]['HeapSort']['distributeSample']['time']"
   ]
  },
  {
   "cell_type": "code",
   "execution_count": 71,
   "metadata": {},
   "outputs": [],
   "source": [
    "for i in range(1, 5):\n",
    "  begin = time.time_ns()\n",
    "  EveryResult1K[i]['HeapSort']['distributeSample']['output'], EveryResult1K[i]['HeapSort']['distributeSample']['compare'] = InsertionSort(DistributeSampleSet1K[i])\n",
    "  end = time.time_ns()\n",
    "  EveryResult1K[i]['HeapSort']['distributeSample']['time'] = end-begin"
   ]
  },
  {
   "cell_type": "markdown",
   "metadata": {},
   "source": [
    "#### Merge Sort"
   ]
  },
  {
   "cell_type": "markdown",
   "metadata": {},
   "source": [
    "##### Normal Sample"
   ]
  },
  {
   "cell_type": "code",
   "execution_count": 72,
   "metadata": {},
   "outputs": [],
   "source": [
    "begin = time.time_ns()\n",
    "Mergetest = np.copy(NormalSampleSet1K[0])\n",
    "compare = 0\n",
    "compare = MergeSort(Mergetest,0,len(Mergetest)-1, compare)\n",
    "EveryResult1K[0]['MergeSort']['normalSample']['output'], EveryResult1K[0]['MergeSort']['normalSample']['compare'] = Mergetest, compare\n",
    "end = time.time_ns()\n",
    "EveryResult1K[0]['MergeSort']['normalSample']['time'] = end-begin"
   ]
  },
  {
   "cell_type": "code",
   "execution_count": 73,
   "metadata": {},
   "outputs": [
    {
     "data": {
      "text/plain": [
       "(array([ 0,  0,  0,  0,  0,  0,  0,  0,  1,  1,  1,  1,  1,  1,  1,  1,  1,\n",
       "         2,  2,  2,  2,  2,  2,  2,  2,  2,  3,  3,  3,  3,  4,  4,  4,  4,\n",
       "         4,  4,  4,  4,  4,  4,  5,  5,  5,  5,  5,  5,  5,  6,  6,  6,  6,\n",
       "         6,  6,  6,  6,  6,  6,  6,  6,  7,  7,  7,  7,  7,  7,  7,  7,  8,\n",
       "         8,  8,  8,  8,  8,  8,  8,  9,  9,  9,  9,  9,  9,  9,  9,  9,  9,\n",
       "         9,  9, 10, 10, 10, 10, 10, 10, 10, 10, 10, 10, 11, 11, 11, 11, 11,\n",
       "        11, 11, 11, 11, 11, 11, 11, 11, 12, 12, 12, 12, 12, 12, 12, 12, 12,\n",
       "        12, 12, 13, 13, 13, 13, 13, 13, 13, 13, 13, 13, 13, 14, 14, 14, 14,\n",
       "        14, 14, 14, 14, 14, 14, 14, 15, 15, 15, 15, 15, 15, 15, 15, 15, 16,\n",
       "        16, 16, 16, 16, 16, 17, 17, 17, 17, 17, 17, 17, 17, 17, 17, 17, 18,\n",
       "        18, 18, 18, 18, 18, 18, 18, 18, 18, 18, 18, 18, 19, 19, 19, 19, 19,\n",
       "        19, 19, 19, 19, 19, 19, 19, 19, 20, 20, 20, 20, 20, 20, 20, 20, 20,\n",
       "        20, 20, 21, 21, 21, 21, 21, 21, 21, 21, 21, 21, 22, 22, 22, 22, 22,\n",
       "        22, 22, 22, 22, 22, 22, 22, 22, 22, 23, 23, 23, 23, 24, 24, 24, 25,\n",
       "        25, 25, 25, 25, 25, 25, 25, 25, 25, 26, 26, 26, 26, 26, 26, 26, 26,\n",
       "        27, 27, 27, 27, 27, 27, 27, 27, 27, 27, 27, 27, 27, 28, 28, 28, 28,\n",
       "        28, 28, 28, 28, 29, 29, 29, 29, 29, 29, 29, 29, 29, 29, 30, 30, 30,\n",
       "        30, 30, 30, 31, 31, 31, 31, 31, 31, 31, 31, 31, 32, 32, 32, 32, 32,\n",
       "        32, 32, 32, 33, 33, 33, 33, 33, 33, 33, 33, 33, 34, 34, 34, 34, 34,\n",
       "        34, 34, 34, 34, 34, 34, 35, 35, 35, 35, 35, 35, 35, 35, 35, 36, 36,\n",
       "        36, 36, 36, 36, 36, 36, 36, 36, 37, 37, 37, 37, 37, 37, 37, 37, 38,\n",
       "        38, 38, 38, 38, 38, 38, 38, 38, 38, 38, 38, 38, 38, 39, 39, 39, 39,\n",
       "        39, 39, 39, 39, 39, 40, 40, 40, 40, 40, 40, 40, 40, 40, 41, 41, 41,\n",
       "        41, 41, 41, 41, 41, 41, 41, 41, 41, 42, 42, 42, 42, 42, 42, 42, 42,\n",
       "        42, 42, 42, 42, 43, 43, 43, 43, 43, 43, 43, 43, 43, 43, 43, 43, 43,\n",
       "        44, 44, 44, 44, 44, 44, 44, 44, 44, 44, 45, 45, 45, 45, 45, 45, 45,\n",
       "        45, 45, 45, 45, 45, 45, 45, 45, 46, 46, 46, 46, 46, 46, 46, 47, 47,\n",
       "        47, 47, 47, 47, 47, 47, 47, 48, 48, 48, 48, 48, 48, 48, 48, 48, 48,\n",
       "        48, 48, 48, 48, 48, 49, 49, 49, 49, 49, 49, 49, 49, 50, 50, 50, 50,\n",
       "        50, 50, 50, 50, 50, 50, 50, 51, 51, 51, 51, 51, 51, 51, 51, 51, 51,\n",
       "        51, 51, 51, 51, 51, 51, 52, 52, 52, 52, 52, 52, 52, 52, 52, 52, 53,\n",
       "        53, 53, 53, 53, 53, 53, 54, 54, 54, 54, 54, 54, 54, 54, 55, 55, 55,\n",
       "        55, 55, 55, 55, 55, 55, 56, 56, 56, 56, 56, 56, 56, 56, 56, 56, 56,\n",
       "        57, 57, 57, 57, 57, 57, 57, 57, 57, 57, 57, 57, 57, 57, 57, 57, 57,\n",
       "        57, 57, 57, 58, 58, 58, 58, 58, 58, 58, 58, 59, 59, 59, 59, 59, 59,\n",
       "        59, 59, 59, 60, 60, 60, 60, 60, 60, 60, 60, 60, 60, 60, 60, 60, 60,\n",
       "        61, 61, 61, 61, 61, 61, 61, 61, 61, 61, 61, 62, 62, 62, 62, 62, 62,\n",
       "        62, 62, 62, 62, 62, 63, 63, 63, 63, 63, 63, 63, 64, 64, 64, 64, 64,\n",
       "        64, 64, 64, 64, 64, 64, 64, 64, 64, 64, 64, 64, 64, 65, 65, 65, 65,\n",
       "        65, 65, 66, 66, 66, 66, 66, 66, 66, 67, 67, 67, 67, 67, 67, 67, 67,\n",
       "        67, 68, 68, 68, 68, 68, 68, 68, 68, 69, 69, 69, 69, 69, 69, 69, 69,\n",
       "        69, 69, 69, 69, 69, 69, 70, 70, 70, 70, 70, 70, 70, 70, 70, 70, 70,\n",
       "        70, 71, 71, 71, 71, 71, 71, 71, 71, 71, 72, 72, 72, 72, 72, 72, 72,\n",
       "        72, 72, 72, 72, 72, 72, 73, 73, 73, 73, 73, 73, 73, 73, 73, 73, 74,\n",
       "        74, 74, 75, 75, 75, 75, 75, 75, 75, 75, 75, 75, 75, 75, 76, 76, 76,\n",
       "        76, 76, 76, 76, 76, 76, 77, 77, 77, 77, 77, 78, 78, 78, 78, 78, 78,\n",
       "        78, 78, 78, 78, 79, 79, 79, 79, 79, 79, 79, 79, 79, 80, 80, 80, 80,\n",
       "        80, 80, 80, 80, 80, 80, 80, 80, 80, 81, 81, 81, 81, 81, 81, 81, 81,\n",
       "        81, 81, 81, 81, 81, 81, 81, 82, 82, 82, 82, 82, 82, 82, 82, 82, 83,\n",
       "        83, 83, 83, 83, 83, 83, 83, 83, 83, 83, 83, 83, 83, 83, 83, 83, 84,\n",
       "        84, 84, 84, 84, 84, 84, 84, 84, 84, 84, 85, 85, 85, 85, 85, 85, 85,\n",
       "        85, 85, 85, 86, 86, 86, 86, 86, 86, 86, 86, 86, 86, 86, 87, 87, 87,\n",
       "        87, 87, 87, 87, 87, 87, 87, 87, 87, 87, 88, 88, 88, 88, 88, 88, 88,\n",
       "        88, 88, 88, 89, 89, 89, 89, 89, 89, 89, 89, 89, 90, 90, 90, 90, 90,\n",
       "        90, 90, 90, 90, 90, 91, 91, 91, 91, 91, 91, 91, 92, 92, 92, 92, 92,\n",
       "        92, 92, 92, 92, 93, 93, 93, 93, 93, 93, 93, 93, 94, 94, 94, 94, 94,\n",
       "        94, 94, 94, 95, 95, 95, 95, 95, 95, 95, 95, 95, 95, 95, 96, 96, 96,\n",
       "        96, 96, 96, 96, 97, 97, 97, 97, 97, 97, 97, 97, 97, 97, 98, 98, 98,\n",
       "        98, 98, 98, 98, 98, 98, 99, 99, 99, 99, 99, 99, 99, 99]),\n",
       " 30644,\n",
       " 5000300)"
      ]
     },
     "execution_count": 73,
     "metadata": {},
     "output_type": "execute_result"
    }
   ],
   "source": [
    "EveryResult1K[0]['MergeSort']['normalSample']['output'], EveryResult1K[0]['MergeSort']['normalSample']['compare'], EveryResult1K[0]['HeapSort']['normalSample']['time']"
   ]
  },
  {
   "cell_type": "code",
   "execution_count": 74,
   "metadata": {},
   "outputs": [],
   "source": [
    "for i in range(1, 5):\n",
    "  begin = time.time_ns()\n",
    "  Mergetest = np.copy(NormalSampleSet1K[i])\n",
    "  compare = 0\n",
    "  compare = MergeSort(Mergetest, 0, len(Mergetest)-1, compare)\n",
    "  EveryResult1K[i]['MergeSort']['normalSample']['output'], EveryResult1K[i]['MergeSort']['normalSample']['compare'] = Mergetest, compare\n",
    "  end = time.time_ns()\n",
    "  EveryResult1K[i]['MergeSort']['normalSample']['time'] = end-begin"
   ]
  },
  {
   "cell_type": "markdown",
   "metadata": {},
   "source": [
    "##### Distribute Sample"
   ]
  },
  {
   "cell_type": "code",
   "execution_count": 75,
   "metadata": {},
   "outputs": [],
   "source": [
    "begin = time.time()\n",
    "Mergetest = np.copy(DistributeSampleSet1K[0])\n",
    "compare = 0\n",
    "compare = MergeSort(Mergetest,0,len(Mergetest)-1, compare)\n",
    "EveryResult1K[0]['MergeSort']['distributeSample']['output'], EveryResult1K[0]['MergeSort']['distributeSample']['compare'] = Mergetest, compare\n",
    "end = time.time()\n",
    "EveryResult1K[0]['MergeSort']['distributeSample']['time'] = end-begin"
   ]
  },
  {
   "cell_type": "code",
   "execution_count": 76,
   "metadata": {},
   "outputs": [
    {
     "data": {
      "text/plain": [
       "(array([ 1.,  1.,  1.,  1.,  1.,  2.,  2.,  2.,  2.,  2.,  2.,  2.,  2.,\n",
       "         3.,  3.,  3.,  3.,  3.,  3.,  4.,  4.,  4.,  4.,  4.,  4.,  4.,\n",
       "         4.,  5.,  5.,  5.,  5.,  5.,  5.,  5.,  6.,  6.,  6.,  6.,  6.,\n",
       "         6.,  7.,  7.,  7.,  7.,  7.,  7.,  7.,  8.,  8.,  8.,  8.,  8.,\n",
       "         8.,  8.,  8.,  9.,  9.,  9.,  9.,  9.,  9.,  9.,  9.,  9.,  9.,\n",
       "         9.,  9., 10., 10., 10., 10., 10., 11., 11., 11., 11., 11., 11.,\n",
       "        11., 11., 11., 11., 12., 12., 12., 12., 12., 12., 12., 12., 12.,\n",
       "        12., 13., 13., 13., 13., 13., 13., 13., 13., 13., 13., 14., 14.,\n",
       "        14., 14., 14., 14., 14., 14., 15., 15., 15., 15., 15., 15., 15.,\n",
       "        15., 16., 16., 16., 16., 16., 16., 17., 17., 17., 17., 17., 17.,\n",
       "        17., 17., 17., 17., 17., 17., 18., 18., 18., 18., 18., 18., 18.,\n",
       "        18., 18., 18., 18., 18., 18., 18., 18., 19., 19., 19., 19., 19.,\n",
       "        19., 19., 19., 19., 19., 19., 19., 19., 20., 20., 20., 20., 20.,\n",
       "        20., 20., 20., 20., 20., 21., 21., 21., 21., 21., 21., 21., 21.,\n",
       "        21., 21., 21., 21., 21., 22., 22., 22., 22., 22., 22., 22., 22.,\n",
       "        22., 22., 22., 22., 22., 23., 23., 23., 23., 23., 23., 24., 24.,\n",
       "        24., 24., 24., 24., 24., 24., 24., 24., 24., 24., 25., 25., 25.,\n",
       "        25., 25., 25., 25., 25., 25., 25., 25., 26., 26., 26., 26., 26.,\n",
       "        26., 26., 26., 26., 26., 26., 26., 27., 27., 27., 27., 27., 27.,\n",
       "        27., 27., 27., 27., 27., 27., 27., 27., 28., 28., 28., 28., 28.,\n",
       "        28., 28., 28., 28., 28., 28., 28., 28., 28., 28., 28., 28., 28.,\n",
       "        29., 29., 29., 29., 29., 29., 29., 29., 29., 29., 29., 29., 29.,\n",
       "        30., 30., 30., 30., 30., 30., 30., 30., 30., 30., 30., 30., 31.,\n",
       "        31., 31., 31., 31., 31., 31., 31., 31., 31., 31., 31., 31., 32.,\n",
       "        32., 32., 32., 32., 32., 32., 32., 32., 32., 32., 32., 32., 32.,\n",
       "        32., 32., 32., 32., 33., 33., 33., 33., 33., 33., 33., 33., 33.,\n",
       "        33., 33., 34., 34., 34., 34., 34., 34., 34., 34., 34., 34., 34.,\n",
       "        35., 35., 35., 35., 35., 35., 35., 35., 35., 35., 35., 35., 35.,\n",
       "        35., 35., 36., 36., 36., 36., 36., 36., 36., 36., 36., 36., 36.,\n",
       "        36., 37., 37., 37., 37., 37., 37., 37., 37., 37., 37., 37., 37.,\n",
       "        37., 37., 37., 37., 38., 38., 38., 38., 38., 38., 39., 39., 39.,\n",
       "        39., 39., 39., 39., 39., 39., 39., 40., 40., 40., 40., 40., 40.,\n",
       "        40., 40., 40., 40., 40., 40., 40., 40., 40., 40., 40., 41., 41.,\n",
       "        41., 41., 41., 41., 41., 41., 41., 42., 42., 42., 42., 42., 42.,\n",
       "        42., 42., 42., 42., 42., 42., 43., 43., 43., 43., 43., 43., 43.,\n",
       "        43., 43., 43., 43., 44., 44., 44., 44., 44., 44., 44., 44., 44.,\n",
       "        44., 44., 44., 45., 45., 45., 45., 45., 45., 45., 45., 45., 45.,\n",
       "        46., 46., 46., 46., 46., 46., 46., 46., 46., 46., 46., 46., 46.,\n",
       "        47., 47., 47., 47., 47., 48., 48., 48., 48., 48., 48., 48., 48.,\n",
       "        48., 49., 49., 49., 49., 49., 49., 49., 49., 49., 49., 50., 50.,\n",
       "        50., 50., 50., 50., 50., 50., 50., 50., 50., 50., 50., 50., 50.,\n",
       "        50., 50., 50., 50., 51., 51., 51., 51., 51., 51., 51., 51., 51.,\n",
       "        51., 51., 51., 51., 51., 52., 52., 52., 52., 52., 52., 52., 52.,\n",
       "        52., 52., 53., 53., 53., 53., 53., 53., 54., 54., 54., 54., 54.,\n",
       "        54., 54., 54., 54., 55., 55., 55., 55., 55., 55., 55., 55., 55.,\n",
       "        55., 55., 55., 55., 55., 56., 56., 56., 56., 56., 56., 56., 56.,\n",
       "        56., 56., 57., 57., 57., 57., 57., 57., 57., 57., 57., 57., 57.,\n",
       "        57., 58., 58., 58., 58., 58., 58., 58., 58., 58., 58., 58., 58.,\n",
       "        58., 58., 59., 59., 59., 59., 59., 59., 59., 60., 60., 60., 60.,\n",
       "        60., 60., 60., 60., 60., 61., 61., 61., 61., 61., 61., 61., 61.,\n",
       "        61., 61., 62., 62., 62., 62., 62., 62., 62., 62., 62., 62., 62.,\n",
       "        63., 63., 63., 63., 63., 63., 63., 63., 63., 64., 64., 64., 64.,\n",
       "        64., 64., 64., 65., 65., 65., 65., 65., 65., 65., 65., 65., 65.,\n",
       "        66., 66., 66., 66., 66., 66., 66., 67., 67., 67., 67., 67., 67.,\n",
       "        67., 67., 68., 68., 68., 68., 68., 68., 68., 69., 69., 69., 69.,\n",
       "        69., 69., 69., 69., 69., 69., 69., 69., 69., 69., 69., 69., 70.,\n",
       "        70., 70., 70., 70., 70., 71., 71., 71., 71., 71., 71., 71., 71.,\n",
       "        71., 72., 72., 72., 72., 72., 72., 72., 72., 72., 72., 72., 73.,\n",
       "        73., 73., 73., 73., 73., 73., 73., 73., 73., 73., 74., 74., 74.,\n",
       "        74., 74., 74., 74., 74., 74., 75., 75., 75., 75., 75., 75., 75.,\n",
       "        75., 75., 75., 75., 75., 75., 75., 76., 76., 76., 76., 76., 76.,\n",
       "        76., 76., 76., 76., 76., 76., 76., 76., 76., 77., 77., 77., 77.,\n",
       "        77., 77., 77., 77., 77., 77., 77., 78., 78., 78., 78., 78., 78.,\n",
       "        78., 78., 78., 78., 78., 79., 79., 79., 79., 79., 79., 79., 79.,\n",
       "        79., 79., 79., 79., 79., 79., 79., 80., 80., 81., 81., 81., 81.,\n",
       "        81., 81., 81., 81., 81., 82., 82., 82., 82., 82., 82., 82., 82.,\n",
       "        82., 82., 83., 83., 83., 83., 83., 83., 83., 83., 83., 84., 84.,\n",
       "        84., 84., 85., 85., 85., 85., 85., 85., 85., 86., 86., 86., 86.,\n",
       "        86., 86., 86., 86., 87., 87., 87., 87., 87., 87., 87., 87., 87.,\n",
       "        88., 88., 88., 88., 88., 88., 88., 88., 88., 88., 88., 88., 88.,\n",
       "        89., 89., 89., 89., 89., 89., 89., 89., 89., 89., 89., 90., 90.,\n",
       "        90., 90., 90., 90., 90., 91., 91., 91., 91., 91., 91., 91., 91.,\n",
       "        91., 91., 92., 92., 92., 92., 92., 93., 93., 93., 93., 93., 93.,\n",
       "        93., 93., 93., 93., 94., 94., 94., 94., 94., 94., 94., 94., 94.,\n",
       "        94., 94., 95., 95., 95., 95., 95., 95., 96., 96., 96., 96., 96.,\n",
       "        96., 97., 97., 97., 97., 97., 98., 98., 98., 98., 98., 98., 98.,\n",
       "        98., 98., 99., 99., 99., 99., 99., 99., 99., 99., 99., 99.]),\n",
       " 30658,\n",
       " 75997900)"
      ]
     },
     "execution_count": 76,
     "metadata": {},
     "output_type": "execute_result"
    }
   ],
   "source": [
    "EveryResult1K[0]['MergeSort']['distributeSample']['output'], EveryResult1K[0]['MergeSort']['distributeSample']['compare'], EveryResult1K[0]['HeapSort']['distributeSample']['time']"
   ]
  },
  {
   "cell_type": "code",
   "execution_count": 77,
   "metadata": {},
   "outputs": [],
   "source": [
    "for i in range(1, 5):\n",
    "  Mergetest = np.copy(DistributeSampleSet1K[i])\n",
    "  compare = 0\n",
    "  compare = MergeSort(Mergetest,0,len(Mergetest)-1, compare)\n",
    "  begin = time.time_ns()\n",
    "  EveryResult1K[i]['MergeSort']['distributeSample']['output'], EveryResult1K[i]['MergeSort']['distributeSample']['compare'] = Mergetest, compare\n",
    "  end = time.time_ns()\n",
    "  EveryResult1K[i]['MergeSort']['distributeSample']['time'] = end-begin"
   ]
  },
  {
   "cell_type": "markdown",
   "metadata": {},
   "source": [
    "#### Distribution Sort"
   ]
  },
  {
   "cell_type": "markdown",
   "metadata": {},
   "source": [
    "##### Normal Sample"
   ]
  },
  {
   "cell_type": "code",
   "execution_count": 78,
   "metadata": {},
   "outputs": [],
   "source": [
    "begin = time.time_ns()\n",
    "EveryResult1K[0]['DistributionSort']['normalSample']['output'], EveryResult1K[0]['DistributionSort']['normalSample']['compare'] = DistributionSort(NormalSampleSet1K[0], min(NormalSampleSet1K[0]), max(NormalSampleSet1K[0]))\n",
    "end = time.time_ns()\n",
    "EveryResult1K[0]['DistributionSort']['normalSample']['time'] = end-begin"
   ]
  },
  {
   "cell_type": "code",
   "execution_count": 79,
   "metadata": {},
   "outputs": [
    {
     "data": {
      "text/plain": [
       "(array([ 0,  0,  0,  0,  0,  0,  0,  0,  1,  1,  1,  1,  1,  1,  1,  1,  1,\n",
       "         2,  2,  2,  2,  2,  2,  2,  2,  2,  3,  3,  3,  3,  4,  4,  4,  4,\n",
       "         4,  4,  4,  4,  4,  4,  5,  5,  5,  5,  5,  5,  5,  6,  6,  6,  6,\n",
       "         6,  6,  6,  6,  6,  6,  6,  6,  7,  7,  7,  7,  7,  7,  7,  7,  8,\n",
       "         8,  8,  8,  8,  8,  8,  8,  9,  9,  9,  9,  9,  9,  9,  9,  9,  9,\n",
       "         9,  9, 10, 10, 10, 10, 10, 10, 10, 10, 10, 10, 11, 11, 11, 11, 11,\n",
       "        11, 11, 11, 11, 11, 11, 11, 11, 12, 12, 12, 12, 12, 12, 12, 12, 12,\n",
       "        12, 12, 13, 13, 13, 13, 13, 13, 13, 13, 13, 13, 13, 14, 14, 14, 14,\n",
       "        14, 14, 14, 14, 14, 14, 14, 15, 15, 15, 15, 15, 15, 15, 15, 15, 16,\n",
       "        16, 16, 16, 16, 16, 17, 17, 17, 17, 17, 17, 17, 17, 17, 17, 17, 18,\n",
       "        18, 18, 18, 18, 18, 18, 18, 18, 18, 18, 18, 18, 19, 19, 19, 19, 19,\n",
       "        19, 19, 19, 19, 19, 19, 19, 19, 20, 20, 20, 20, 20, 20, 20, 20, 20,\n",
       "        20, 20, 21, 21, 21, 21, 21, 21, 21, 21, 21, 21, 22, 22, 22, 22, 22,\n",
       "        22, 22, 22, 22, 22, 22, 22, 22, 22, 23, 23, 23, 23, 24, 24, 24, 25,\n",
       "        25, 25, 25, 25, 25, 25, 25, 25, 25, 26, 26, 26, 26, 26, 26, 26, 26,\n",
       "        27, 27, 27, 27, 27, 27, 27, 27, 27, 27, 27, 27, 27, 28, 28, 28, 28,\n",
       "        28, 28, 28, 28, 29, 29, 29, 29, 29, 29, 29, 29, 29, 29, 30, 30, 30,\n",
       "        30, 30, 30, 31, 31, 31, 31, 31, 31, 31, 31, 31, 32, 32, 32, 32, 32,\n",
       "        32, 32, 32, 33, 33, 33, 33, 33, 33, 33, 33, 33, 34, 34, 34, 34, 34,\n",
       "        34, 34, 34, 34, 34, 34, 35, 35, 35, 35, 35, 35, 35, 35, 35, 36, 36,\n",
       "        36, 36, 36, 36, 36, 36, 36, 36, 37, 37, 37, 37, 37, 37, 37, 37, 38,\n",
       "        38, 38, 38, 38, 38, 38, 38, 38, 38, 38, 38, 38, 38, 39, 39, 39, 39,\n",
       "        39, 39, 39, 39, 39, 40, 40, 40, 40, 40, 40, 40, 40, 40, 41, 41, 41,\n",
       "        41, 41, 41, 41, 41, 41, 41, 41, 41, 42, 42, 42, 42, 42, 42, 42, 42,\n",
       "        42, 42, 42, 42, 43, 43, 43, 43, 43, 43, 43, 43, 43, 43, 43, 43, 43,\n",
       "        44, 44, 44, 44, 44, 44, 44, 44, 44, 44, 45, 45, 45, 45, 45, 45, 45,\n",
       "        45, 45, 45, 45, 45, 45, 45, 45, 46, 46, 46, 46, 46, 46, 46, 47, 47,\n",
       "        47, 47, 47, 47, 47, 47, 47, 48, 48, 48, 48, 48, 48, 48, 48, 48, 48,\n",
       "        48, 48, 48, 48, 48, 49, 49, 49, 49, 49, 49, 49, 49, 50, 50, 50, 50,\n",
       "        50, 50, 50, 50, 50, 50, 50, 51, 51, 51, 51, 51, 51, 51, 51, 51, 51,\n",
       "        51, 51, 51, 51, 51, 51, 52, 52, 52, 52, 52, 52, 52, 52, 52, 52, 53,\n",
       "        53, 53, 53, 53, 53, 53, 54, 54, 54, 54, 54, 54, 54, 54, 55, 55, 55,\n",
       "        55, 55, 55, 55, 55, 55, 56, 56, 56, 56, 56, 56, 56, 56, 56, 56, 56,\n",
       "        57, 57, 57, 57, 57, 57, 57, 57, 57, 57, 57, 57, 57, 57, 57, 57, 57,\n",
       "        57, 57, 57, 58, 58, 58, 58, 58, 58, 58, 58, 59, 59, 59, 59, 59, 59,\n",
       "        59, 59, 59, 60, 60, 60, 60, 60, 60, 60, 60, 60, 60, 60, 60, 60, 60,\n",
       "        61, 61, 61, 61, 61, 61, 61, 61, 61, 61, 61, 62, 62, 62, 62, 62, 62,\n",
       "        62, 62, 62, 62, 62, 63, 63, 63, 63, 63, 63, 63, 64, 64, 64, 64, 64,\n",
       "        64, 64, 64, 64, 64, 64, 64, 64, 64, 64, 64, 64, 64, 65, 65, 65, 65,\n",
       "        65, 65, 66, 66, 66, 66, 66, 66, 66, 67, 67, 67, 67, 67, 67, 67, 67,\n",
       "        67, 68, 68, 68, 68, 68, 68, 68, 68, 69, 69, 69, 69, 69, 69, 69, 69,\n",
       "        69, 69, 69, 69, 69, 69, 70, 70, 70, 70, 70, 70, 70, 70, 70, 70, 70,\n",
       "        70, 71, 71, 71, 71, 71, 71, 71, 71, 71, 72, 72, 72, 72, 72, 72, 72,\n",
       "        72, 72, 72, 72, 72, 72, 73, 73, 73, 73, 73, 73, 73, 73, 73, 73, 74,\n",
       "        74, 74, 75, 75, 75, 75, 75, 75, 75, 75, 75, 75, 75, 75, 76, 76, 76,\n",
       "        76, 76, 76, 76, 76, 76, 77, 77, 77, 77, 77, 78, 78, 78, 78, 78, 78,\n",
       "        78, 78, 78, 78, 79, 79, 79, 79, 79, 79, 79, 79, 79, 80, 80, 80, 80,\n",
       "        80, 80, 80, 80, 80, 80, 80, 80, 80, 81, 81, 81, 81, 81, 81, 81, 81,\n",
       "        81, 81, 81, 81, 81, 81, 81, 82, 82, 82, 82, 82, 82, 82, 82, 82, 83,\n",
       "        83, 83, 83, 83, 83, 83, 83, 83, 83, 83, 83, 83, 83, 83, 83, 83, 84,\n",
       "        84, 84, 84, 84, 84, 84, 84, 84, 84, 84, 85, 85, 85, 85, 85, 85, 85,\n",
       "        85, 85, 85, 86, 86, 86, 86, 86, 86, 86, 86, 86, 86, 86, 87, 87, 87,\n",
       "        87, 87, 87, 87, 87, 87, 87, 87, 87, 87, 88, 88, 88, 88, 88, 88, 88,\n",
       "        88, 88, 88, 89, 89, 89, 89, 89, 89, 89, 89, 89, 90, 90, 90, 90, 90,\n",
       "        90, 90, 90, 90, 90, 91, 91, 91, 91, 91, 91, 91, 92, 92, 92, 92, 92,\n",
       "        92, 92, 92, 92, 93, 93, 93, 93, 93, 93, 93, 93, 94, 94, 94, 94, 94,\n",
       "        94, 94, 94, 95, 95, 95, 95, 95, 95, 95, 95, 95, 95, 95, 96, 96, 96,\n",
       "        96, 96, 96, 96, 97, 97, 97, 97, 97, 97, 97, 97, 97, 97, 98, 98, 98,\n",
       "        98, 98, 98, 98, 98, 98, 99, 99, 99, 99, 99, 99, 99, 99]),\n",
       " 3100,\n",
       " 999100)"
      ]
     },
     "execution_count": 79,
     "metadata": {},
     "output_type": "execute_result"
    }
   ],
   "source": [
    "EveryResult1K[0]['DistributionSort']['normalSample']['output'], EveryResult1K[0]['DistributionSort']['normalSample']['compare'], EveryResult1K[0]['DistributionSort']['normalSample']['time']"
   ]
  },
  {
   "cell_type": "code",
   "execution_count": 80,
   "metadata": {},
   "outputs": [],
   "source": [
    "for i in range(1, 5):\n",
    "  begin = time.time_ns()\n",
    "  EveryResult1K[i]['DistributionSort']['normalSample']['output'], EveryResult1K[i]['DistributionSort']['normalSample']['compare'] = DistributionSort(NormalSampleSet1K[i], min(NormalSampleSet1K[i]), max(NormalSampleSet1K[i]))\n",
    "  end = time.time_ns()\n",
    "  EveryResult1K[i]['DistributionSort']['normalSample']['time'] = end-begin"
   ]
  },
  {
   "cell_type": "markdown",
   "metadata": {},
   "source": [
    "##### Distribution Sample"
   ]
  },
  {
   "cell_type": "code",
   "execution_count": 81,
   "metadata": {},
   "outputs": [],
   "source": [
    "begin = time.time_ns()\n",
    "EveryResult1K[0]['DistributionSort']['distributeSample']['output'], EveryResult1K[0]['DistributionSort']['distributeSample']['compare'] = DistributionSort(DistributeSampleSet1K[0],int(min(DistributeSampleSet1K[0])), int(max(DistributeSampleSet1K[0])))\n",
    "end = time.time_ns()\n",
    "EveryResult1K[0]['DistributionSort']['distributeSample']['time'] = end-begin"
   ]
  },
  {
   "cell_type": "code",
   "execution_count": 82,
   "metadata": {},
   "outputs": [
    {
     "data": {
      "text/plain": [
       "(array([ 1,  1,  1,  1,  1,  2,  2,  2,  2,  2,  2,  2,  2,  3,  3,  3,  3,\n",
       "         3,  3,  4,  4,  4,  4,  4,  4,  4,  4,  5,  5,  5,  5,  5,  5,  5,\n",
       "         6,  6,  6,  6,  6,  6,  7,  7,  7,  7,  7,  7,  7,  8,  8,  8,  8,\n",
       "         8,  8,  8,  8,  9,  9,  9,  9,  9,  9,  9,  9,  9,  9,  9,  9, 10,\n",
       "        10, 10, 10, 10, 11, 11, 11, 11, 11, 11, 11, 11, 11, 11, 12, 12, 12,\n",
       "        12, 12, 12, 12, 12, 12, 12, 13, 13, 13, 13, 13, 13, 13, 13, 13, 13,\n",
       "        14, 14, 14, 14, 14, 14, 14, 14, 15, 15, 15, 15, 15, 15, 15, 15, 16,\n",
       "        16, 16, 16, 16, 16, 17, 17, 17, 17, 17, 17, 17, 17, 17, 17, 17, 17,\n",
       "        18, 18, 18, 18, 18, 18, 18, 18, 18, 18, 18, 18, 18, 18, 18, 19, 19,\n",
       "        19, 19, 19, 19, 19, 19, 19, 19, 19, 19, 19, 20, 20, 20, 20, 20, 20,\n",
       "        20, 20, 20, 20, 21, 21, 21, 21, 21, 21, 21, 21, 21, 21, 21, 21, 21,\n",
       "        22, 22, 22, 22, 22, 22, 22, 22, 22, 22, 22, 22, 22, 23, 23, 23, 23,\n",
       "        23, 23, 24, 24, 24, 24, 24, 24, 24, 24, 24, 24, 24, 24, 25, 25, 25,\n",
       "        25, 25, 25, 25, 25, 25, 25, 25, 26, 26, 26, 26, 26, 26, 26, 26, 26,\n",
       "        26, 26, 26, 27, 27, 27, 27, 27, 27, 27, 27, 27, 27, 27, 27, 27, 27,\n",
       "        28, 28, 28, 28, 28, 28, 28, 28, 28, 28, 28, 28, 28, 28, 28, 28, 28,\n",
       "        28, 29, 29, 29, 29, 29, 29, 29, 29, 29, 29, 29, 29, 29, 30, 30, 30,\n",
       "        30, 30, 30, 30, 30, 30, 30, 30, 30, 31, 31, 31, 31, 31, 31, 31, 31,\n",
       "        31, 31, 31, 31, 31, 32, 32, 32, 32, 32, 32, 32, 32, 32, 32, 32, 32,\n",
       "        32, 32, 32, 32, 32, 32, 33, 33, 33, 33, 33, 33, 33, 33, 33, 33, 33,\n",
       "        34, 34, 34, 34, 34, 34, 34, 34, 34, 34, 34, 35, 35, 35, 35, 35, 35,\n",
       "        35, 35, 35, 35, 35, 35, 35, 35, 35, 36, 36, 36, 36, 36, 36, 36, 36,\n",
       "        36, 36, 36, 36, 37, 37, 37, 37, 37, 37, 37, 37, 37, 37, 37, 37, 37,\n",
       "        37, 37, 37, 38, 38, 38, 38, 38, 38, 39, 39, 39, 39, 39, 39, 39, 39,\n",
       "        39, 39, 40, 40, 40, 40, 40, 40, 40, 40, 40, 40, 40, 40, 40, 40, 40,\n",
       "        40, 40, 41, 41, 41, 41, 41, 41, 41, 41, 41, 42, 42, 42, 42, 42, 42,\n",
       "        42, 42, 42, 42, 42, 42, 43, 43, 43, 43, 43, 43, 43, 43, 43, 43, 43,\n",
       "        44, 44, 44, 44, 44, 44, 44, 44, 44, 44, 44, 44, 45, 45, 45, 45, 45,\n",
       "        45, 45, 45, 45, 45, 46, 46, 46, 46, 46, 46, 46, 46, 46, 46, 46, 46,\n",
       "        46, 47, 47, 47, 47, 47, 48, 48, 48, 48, 48, 48, 48, 48, 48, 49, 49,\n",
       "        49, 49, 49, 49, 49, 49, 49, 49, 50, 50, 50, 50, 50, 50, 50, 50, 50,\n",
       "        50, 50, 50, 50, 50, 50, 50, 50, 50, 50, 51, 51, 51, 51, 51, 51, 51,\n",
       "        51, 51, 51, 51, 51, 51, 51, 52, 52, 52, 52, 52, 52, 52, 52, 52, 52,\n",
       "        53, 53, 53, 53, 53, 53, 54, 54, 54, 54, 54, 54, 54, 54, 54, 55, 55,\n",
       "        55, 55, 55, 55, 55, 55, 55, 55, 55, 55, 55, 55, 56, 56, 56, 56, 56,\n",
       "        56, 56, 56, 56, 56, 57, 57, 57, 57, 57, 57, 57, 57, 57, 57, 57, 57,\n",
       "        58, 58, 58, 58, 58, 58, 58, 58, 58, 58, 58, 58, 58, 58, 59, 59, 59,\n",
       "        59, 59, 59, 59, 60, 60, 60, 60, 60, 60, 60, 60, 60, 61, 61, 61, 61,\n",
       "        61, 61, 61, 61, 61, 61, 62, 62, 62, 62, 62, 62, 62, 62, 62, 62, 62,\n",
       "        63, 63, 63, 63, 63, 63, 63, 63, 63, 64, 64, 64, 64, 64, 64, 64, 65,\n",
       "        65, 65, 65, 65, 65, 65, 65, 65, 65, 66, 66, 66, 66, 66, 66, 66, 67,\n",
       "        67, 67, 67, 67, 67, 67, 67, 68, 68, 68, 68, 68, 68, 68, 69, 69, 69,\n",
       "        69, 69, 69, 69, 69, 69, 69, 69, 69, 69, 69, 69, 69, 70, 70, 70, 70,\n",
       "        70, 70, 71, 71, 71, 71, 71, 71, 71, 71, 71, 72, 72, 72, 72, 72, 72,\n",
       "        72, 72, 72, 72, 72, 73, 73, 73, 73, 73, 73, 73, 73, 73, 73, 73, 74,\n",
       "        74, 74, 74, 74, 74, 74, 74, 74, 75, 75, 75, 75, 75, 75, 75, 75, 75,\n",
       "        75, 75, 75, 75, 75, 76, 76, 76, 76, 76, 76, 76, 76, 76, 76, 76, 76,\n",
       "        76, 76, 76, 77, 77, 77, 77, 77, 77, 77, 77, 77, 77, 77, 78, 78, 78,\n",
       "        78, 78, 78, 78, 78, 78, 78, 78, 79, 79, 79, 79, 79, 79, 79, 79, 79,\n",
       "        79, 79, 79, 79, 79, 79, 80, 80, 81, 81, 81, 81, 81, 81, 81, 81, 81,\n",
       "        82, 82, 82, 82, 82, 82, 82, 82, 82, 82, 83, 83, 83, 83, 83, 83, 83,\n",
       "        83, 83, 84, 84, 84, 84, 85, 85, 85, 85, 85, 85, 85, 86, 86, 86, 86,\n",
       "        86, 86, 86, 86, 87, 87, 87, 87, 87, 87, 87, 87, 87, 88, 88, 88, 88,\n",
       "        88, 88, 88, 88, 88, 88, 88, 88, 88, 89, 89, 89, 89, 89, 89, 89, 89,\n",
       "        89, 89, 89, 90, 90, 90, 90, 90, 90, 90, 91, 91, 91, 91, 91, 91, 91,\n",
       "        91, 91, 91, 92, 92, 92, 92, 92, 93, 93, 93, 93, 93, 93, 93, 93, 93,\n",
       "        93, 94, 94, 94, 94, 94, 94, 94, 94, 94, 94, 94, 95, 95, 95, 95, 95,\n",
       "        95, 96, 96, 96, 96, 96, 96, 97, 97, 97, 97, 97, 98, 98, 98, 98, 98,\n",
       "        98, 98, 98, 98, 99, 99, 99, 99, 99, 99, 99, 99, 99, 99]),\n",
       " 3099,\n",
       " 1000800)"
      ]
     },
     "execution_count": 82,
     "metadata": {},
     "output_type": "execute_result"
    }
   ],
   "source": [
    "EveryResult1K[0]['DistributionSort']['distributeSample']['output'], EveryResult1K[0]['DistributionSort']['distributeSample']['compare'], EveryResult1K[0]['DistributionSort']['distributeSample']['time']"
   ]
  },
  {
   "cell_type": "code",
   "execution_count": 83,
   "metadata": {},
   "outputs": [],
   "source": [
    "for i in range(1, 5):\n",
    "  begin = time.time_ns()\n",
    "  EveryResult1K[i]['DistributionSort']['distributeSample']['output'], EveryResult1K[i]['DistributionSort']['distributeSample']['compare'] = DistributionSort(DistributeSampleSet1K[i],int(min(DistributeSampleSet1K[i])), int(max(DistributeSampleSet1K[i])))\n",
    "  end = time.time_ns()\n",
    "  EveryResult1K[i]['DistributionSort']['distributeSample']['time'] = end-begin"
   ]
  },
  {
   "cell_type": "markdown",
   "metadata": {},
   "source": [
    "### Test the algorithm(10000)"
   ]
  },
  {
   "cell_type": "code",
   "execution_count": 84,
   "metadata": {},
   "outputs": [
    {
     "data": {
      "text/plain": [
       "[{'SelectionSort': {'normalSample': {'output': numpy.ndarray,\n",
       "    'compare': int,\n",
       "    'time': 0.0},\n",
       "   'distributeSample': {'output': numpy.ndarray, 'compare': int, 'time': 0.0}},\n",
       "  'InsertionSort': {'normalSample': {'output': numpy.ndarray,\n",
       "    'compare': int,\n",
       "    'time': 0.0},\n",
       "   'distributeSample': {'output': numpy.ndarray, 'compare': int, 'time': 0.0}},\n",
       "  'HeapSort': {'normalSample': {'output': numpy.ndarray,\n",
       "    'compare': int,\n",
       "    'time': 0.0},\n",
       "   'distributeSample': {'output': numpy.ndarray, 'compare': int, 'time': 0.0}},\n",
       "  'MergeSort': {'normalSample': {'output': numpy.ndarray,\n",
       "    'compare': int,\n",
       "    'time': 0.0},\n",
       "   'distributeSample': {'output': numpy.ndarray, 'compare': int, 'time': 0.0}},\n",
       "  'DistributionSort': {'normalSample': {'output': numpy.ndarray,\n",
       "    'compare': int,\n",
       "    'time': 0.0},\n",
       "   'distributeSample': {'output': numpy.ndarray,\n",
       "    'compare': int,\n",
       "    'time': 0.0}}},\n",
       " {'SelectionSort': {'normalSample': {'output': numpy.ndarray,\n",
       "    'compare': int,\n",
       "    'time': 0.0},\n",
       "   'distributeSample': {'output': numpy.ndarray, 'compare': int, 'time': 0.0}},\n",
       "  'InsertionSort': {'normalSample': {'output': numpy.ndarray,\n",
       "    'compare': int,\n",
       "    'time': 0.0},\n",
       "   'distributeSample': {'output': numpy.ndarray, 'compare': int, 'time': 0.0}},\n",
       "  'HeapSort': {'normalSample': {'output': numpy.ndarray,\n",
       "    'compare': int,\n",
       "    'time': 0.0},\n",
       "   'distributeSample': {'output': numpy.ndarray, 'compare': int, 'time': 0.0}},\n",
       "  'MergeSort': {'normalSample': {'output': numpy.ndarray,\n",
       "    'compare': int,\n",
       "    'time': 0.0},\n",
       "   'distributeSample': {'output': numpy.ndarray, 'compare': int, 'time': 0.0}},\n",
       "  'DistributionSort': {'normalSample': {'output': numpy.ndarray,\n",
       "    'compare': int,\n",
       "    'time': 0.0},\n",
       "   'distributeSample': {'output': numpy.ndarray,\n",
       "    'compare': int,\n",
       "    'time': 0.0}}},\n",
       " {'SelectionSort': {'normalSample': {'output': numpy.ndarray,\n",
       "    'compare': int,\n",
       "    'time': 0.0},\n",
       "   'distributeSample': {'output': numpy.ndarray, 'compare': int, 'time': 0.0}},\n",
       "  'InsertionSort': {'normalSample': {'output': numpy.ndarray,\n",
       "    'compare': int,\n",
       "    'time': 0.0},\n",
       "   'distributeSample': {'output': numpy.ndarray, 'compare': int, 'time': 0.0}},\n",
       "  'HeapSort': {'normalSample': {'output': numpy.ndarray,\n",
       "    'compare': int,\n",
       "    'time': 0.0},\n",
       "   'distributeSample': {'output': numpy.ndarray, 'compare': int, 'time': 0.0}},\n",
       "  'MergeSort': {'normalSample': {'output': numpy.ndarray,\n",
       "    'compare': int,\n",
       "    'time': 0.0},\n",
       "   'distributeSample': {'output': numpy.ndarray, 'compare': int, 'time': 0.0}},\n",
       "  'DistributionSort': {'normalSample': {'output': numpy.ndarray,\n",
       "    'compare': int,\n",
       "    'time': 0.0},\n",
       "   'distributeSample': {'output': numpy.ndarray,\n",
       "    'compare': int,\n",
       "    'time': 0.0}}},\n",
       " {'SelectionSort': {'normalSample': {'output': numpy.ndarray,\n",
       "    'compare': int,\n",
       "    'time': 0.0},\n",
       "   'distributeSample': {'output': numpy.ndarray, 'compare': int, 'time': 0.0}},\n",
       "  'InsertionSort': {'normalSample': {'output': numpy.ndarray,\n",
       "    'compare': int,\n",
       "    'time': 0.0},\n",
       "   'distributeSample': {'output': numpy.ndarray, 'compare': int, 'time': 0.0}},\n",
       "  'HeapSort': {'normalSample': {'output': numpy.ndarray,\n",
       "    'compare': int,\n",
       "    'time': 0.0},\n",
       "   'distributeSample': {'output': numpy.ndarray, 'compare': int, 'time': 0.0}},\n",
       "  'MergeSort': {'normalSample': {'output': numpy.ndarray,\n",
       "    'compare': int,\n",
       "    'time': 0.0},\n",
       "   'distributeSample': {'output': numpy.ndarray, 'compare': int, 'time': 0.0}},\n",
       "  'DistributionSort': {'normalSample': {'output': numpy.ndarray,\n",
       "    'compare': int,\n",
       "    'time': 0.0},\n",
       "   'distributeSample': {'output': numpy.ndarray,\n",
       "    'compare': int,\n",
       "    'time': 0.0}}},\n",
       " {'SelectionSort': {'normalSample': {'output': numpy.ndarray,\n",
       "    'compare': int,\n",
       "    'time': 0.0},\n",
       "   'distributeSample': {'output': numpy.ndarray, 'compare': int, 'time': 0.0}},\n",
       "  'InsertionSort': {'normalSample': {'output': numpy.ndarray,\n",
       "    'compare': int,\n",
       "    'time': 0.0},\n",
       "   'distributeSample': {'output': numpy.ndarray, 'compare': int, 'time': 0.0}},\n",
       "  'HeapSort': {'normalSample': {'output': numpy.ndarray,\n",
       "    'compare': int,\n",
       "    'time': 0.0},\n",
       "   'distributeSample': {'output': numpy.ndarray, 'compare': int, 'time': 0.0}},\n",
       "  'MergeSort': {'normalSample': {'output': numpy.ndarray,\n",
       "    'compare': int,\n",
       "    'time': 0.0},\n",
       "   'distributeSample': {'output': numpy.ndarray, 'compare': int, 'time': 0.0}},\n",
       "  'DistributionSort': {'normalSample': {'output': numpy.ndarray,\n",
       "    'compare': int,\n",
       "    'time': 0.0},\n",
       "   'distributeSample': {'output': numpy.ndarray,\n",
       "    'compare': int,\n",
       "    'time': 0.0}}}]"
      ]
     },
     "execution_count": 84,
     "metadata": {},
     "output_type": "execute_result"
    }
   ],
   "source": [
    "EveryResult10K = [copy.deepcopy(result) for i in range(5)]\n",
    "EveryResult10K"
   ]
  },
  {
   "cell_type": "markdown",
   "metadata": {},
   "source": [
    "#### Selection Sort"
   ]
  },
  {
   "cell_type": "markdown",
   "metadata": {},
   "source": [
    "##### Normal Sample"
   ]
  },
  {
   "cell_type": "code",
   "execution_count": 85,
   "metadata": {},
   "outputs": [],
   "source": [
    "begin = time.time()\n",
    "EveryResult10K[0]['SelectionSort']['normalSample']['output'], EveryResult10K[0]['SelectionSort']['normalSample']['compare'] = SelectionSort(NormalSampleSet10K[0])\n",
    "end = time.time()\n",
    "EveryResult10K[0]['SelectionSort']['normalSample']['time'] = end-begin"
   ]
  },
  {
   "cell_type": "code",
   "execution_count": 86,
   "metadata": {},
   "outputs": [
    {
     "data": {
      "text/plain": [
       "(array([ 0,  0,  0, ..., 99, 99, 99]), 100009895, 11.694998025894165)"
      ]
     },
     "execution_count": 86,
     "metadata": {},
     "output_type": "execute_result"
    }
   ],
   "source": [
    "EveryResult10K[0]['SelectionSort']['normalSample']['output'], EveryResult10K[0]['SelectionSort']['normalSample']['compare'], EveryResult10K[0]['SelectionSort']['normalSample']['time']"
   ]
  },
  {
   "cell_type": "code",
   "execution_count": 87,
   "metadata": {},
   "outputs": [],
   "source": [
    "for i in range(1,5):\n",
    "  begin = time.time()\n",
    "  EveryResult10K[i]['SelectionSort']['normalSample']['output'], EveryResult10K[i]['SelectionSort']['normalSample']['compare'] = SelectionSort(NormalSampleSet10K[i])\n",
    "  end = time.time()\n",
    "  EveryResult10K[i]['SelectionSort']['normalSample']['time'] = end-begin"
   ]
  },
  {
   "cell_type": "markdown",
   "metadata": {},
   "source": [
    "##### Distribution Sample"
   ]
  },
  {
   "cell_type": "code",
   "execution_count": 88,
   "metadata": {},
   "outputs": [],
   "source": [
    "begin = time.time()\n",
    "EveryResult10K[0]['SelectionSort']['distributeSample']['output'], EveryResult10K[0]['SelectionSort']['distributeSample']['compare'] = SelectionSort(DistributeSampleSet10K[0])\n",
    "end = time.time()\n",
    "EveryResult10K[0]['SelectionSort']['distributeSample']['time'] = end-begin"
   ]
  },
  {
   "cell_type": "code",
   "execution_count": 89,
   "metadata": {},
   "outputs": [
    {
     "data": {
      "text/plain": [
       "(array([ 1.,  1.,  1., ..., 99., 99., 99.]), 100009921, 11.62399697303772)"
      ]
     },
     "execution_count": 89,
     "metadata": {},
     "output_type": "execute_result"
    }
   ],
   "source": [
    "EveryResult10K[0]['SelectionSort']['distributeSample']['output'], EveryResult10K[0]['SelectionSort']['distributeSample']['compare'], EveryResult10K[0]['SelectionSort']['distributeSample']['time']"
   ]
  },
  {
   "cell_type": "code",
   "execution_count": 90,
   "metadata": {},
   "outputs": [],
   "source": [
    "for i in range(1,5):\n",
    "  begin = time.time()\n",
    "  EveryResult10K[i]['SelectionSort']['distributeSample']['output'], EveryResult10K[i]['SelectionSort']['distributeSample']['compare'] = SelectionSort(DistributeSampleSet10K[i])\n",
    "  end = time.time()\n",
    "  EveryResult10K[i]['SelectionSort']['distributeSample']['time'] = end-begin"
   ]
  },
  {
   "cell_type": "markdown",
   "metadata": {},
   "source": [
    "#### Insertion Sort"
   ]
  },
  {
   "cell_type": "markdown",
   "metadata": {},
   "source": [
    "##### Normal Sample"
   ]
  },
  {
   "cell_type": "code",
   "execution_count": 91,
   "metadata": {},
   "outputs": [],
   "source": [
    "begin = time.time()\n",
    "EveryResult10K[0]['InsertionSort']['normalSample']['output'], EveryResult10K[0]['InsertionSort']['normalSample']['compare'] = InsertionSort(NormalSampleSet10K[0])\n",
    "end = time.time()\n",
    "EveryResult10K[0]['InsertionSort']['normalSample']['time'] = end-begin"
   ]
  },
  {
   "cell_type": "code",
   "execution_count": 92,
   "metadata": {},
   "outputs": [
    {
     "data": {
      "text/plain": [
       "(array([ 0,  0,  0, ..., 99, 99, 99]), 24505481, 7.240000247955322)"
      ]
     },
     "execution_count": 92,
     "metadata": {},
     "output_type": "execute_result"
    }
   ],
   "source": [
    "EveryResult10K[0]['InsertionSort']['normalSample']['output'], EveryResult10K[0]['InsertionSort']['normalSample']['compare'], EveryResult10K[0]['InsertionSort']['normalSample']['time']"
   ]
  },
  {
   "cell_type": "code",
   "execution_count": 93,
   "metadata": {},
   "outputs": [],
   "source": [
    "for i in range(1,5):\n",
    "  begin = time.time()\n",
    "  EveryResult10K[i]['InsertionSort']['normalSample']['output'], EveryResult10K[i]['InsertionSort']['normalSample']['compare'] = InsertionSort(NormalSampleSet10K[i])\n",
    "  end = time.time()\n",
    "  EveryResult10K[i]['InsertionSort']['normalSample']['time'] = end-begin"
   ]
  },
  {
   "cell_type": "markdown",
   "metadata": {},
   "source": [
    "##### Distribution Sample"
   ]
  },
  {
   "cell_type": "code",
   "execution_count": 94,
   "metadata": {},
   "outputs": [],
   "source": [
    "begin = time.time()\n",
    "EveryResult10K[0]['InsertionSort']['distributeSample']['output'], EveryResult10K[0]['InsertionSort']['distributeSample']['compare'] = InsertionSort(DistributeSampleSet10K[0])\n",
    "end = time.time()\n",
    "EveryResult10K[0]['InsertionSort']['distributeSample']['time'] = end-begin"
   ]
  },
  {
   "cell_type": "code",
   "execution_count": 95,
   "metadata": {},
   "outputs": [
    {
     "data": {
      "text/plain": [
       "(array([ 1.,  1.,  1., ..., 99., 99., 99.]), 24714389, 6.9389965534210205)"
      ]
     },
     "execution_count": 95,
     "metadata": {},
     "output_type": "execute_result"
    }
   ],
   "source": [
    "EveryResult10K[0]['InsertionSort']['distributeSample']['output'], EveryResult10K[0]['InsertionSort']['distributeSample']['compare'], EveryResult10K[0]['InsertionSort']['distributeSample']['time']"
   ]
  },
  {
   "cell_type": "code",
   "execution_count": 96,
   "metadata": {},
   "outputs": [],
   "source": [
    "for i in range(1, 5):\n",
    "  begin = time.time()\n",
    "  EveryResult10K[i]['InsertionSort']['distributeSample']['output'], EveryResult10K[i]['InsertionSort']['distributeSample']['compare'] = InsertionSort(DistributeSampleSet10K[i])\n",
    "  end = time.time()\n",
    "  EveryResult10K[i]['InsertionSort']['distributeSample']['time'] = end-begin"
   ]
  },
  {
   "cell_type": "markdown",
   "metadata": {},
   "source": [
    "#### Heap Sort"
   ]
  },
  {
   "cell_type": "markdown",
   "metadata": {},
   "source": [
    "##### Normal Sample"
   ]
  },
  {
   "cell_type": "code",
   "execution_count": 97,
   "metadata": {},
   "outputs": [],
   "source": [
    "begin = time.time()\n",
    "EveryResult10K[0]['HeapSort']['normalSample']['output'], EveryResult10K[0]['HeapSort']['normalSample']['compare'] = HeapSort(NormalSampleSet10K[0])\n",
    "end = time.time()\n",
    "EveryResult10K[0]['HeapSort']['normalSample']['time'] = end-begin"
   ]
  },
  {
   "cell_type": "code",
   "execution_count": 98,
   "metadata": {},
   "outputs": [
    {
     "data": {
      "text/plain": [
       "(array([ 0,  0,  0, ..., 99, 99, 99]), 384597, 0.1009976863861084)"
      ]
     },
     "execution_count": 98,
     "metadata": {},
     "output_type": "execute_result"
    }
   ],
   "source": [
    "EveryResult10K[0]['HeapSort']['normalSample']['output'], EveryResult10K[0]['HeapSort']['normalSample']['compare'], EveryResult10K[0]['HeapSort']['normalSample']['time']"
   ]
  },
  {
   "cell_type": "code",
   "execution_count": 99,
   "metadata": {},
   "outputs": [],
   "source": [
    "for i in range(1, 5):\n",
    "  begin = time.time()\n",
    "  EveryResult10K[i]['HeapSort']['normalSample']['output'], EveryResult10K[i]['HeapSort']['normalSample']['compare'] = HeapSort(NormalSampleSet10K[i])\n",
    "  end = time.time()\n",
    "  EveryResult10K[i]['HeapSort']['normalSample']['time'] = end-begin"
   ]
  },
  {
   "cell_type": "markdown",
   "metadata": {},
   "source": [
    "##### Distribute Sample"
   ]
  },
  {
   "cell_type": "code",
   "execution_count": 100,
   "metadata": {},
   "outputs": [],
   "source": [
    "begin = time.time()\n",
    "EveryResult10K[0]['HeapSort']['distributeSample']['output'], EveryResult10K[0]['HeapSort']['distributeSample']['compare'] = InsertionSort(DistributeSampleSet10K[0])\n",
    "end = time.time()\n",
    "EveryResult10K[0]['HeapSort']['distributeSample']['time'] = end-begin"
   ]
  },
  {
   "cell_type": "code",
   "execution_count": 101,
   "metadata": {},
   "outputs": [
    {
     "data": {
      "text/plain": [
       "(array([ 1.,  1.,  1., ..., 99., 99., 99.]), 24714389, 7.698997259140015)"
      ]
     },
     "execution_count": 101,
     "metadata": {},
     "output_type": "execute_result"
    }
   ],
   "source": [
    "EveryResult10K[0]['HeapSort']['distributeSample']['output'], EveryResult10K[0]['HeapSort']['distributeSample']['compare'], EveryResult10K[0]['HeapSort']['distributeSample']['time']"
   ]
  },
  {
   "cell_type": "code",
   "execution_count": 102,
   "metadata": {},
   "outputs": [],
   "source": [
    "for i in range(1, 5):\n",
    "  begin = time.time()\n",
    "  EveryResult10K[i]['HeapSort']['distributeSample']['output'], EveryResult10K[i]['HeapSort']['distributeSample']['compare'] = InsertionSort(DistributeSampleSet10K[i])\n",
    "  end = time.time()\n",
    "  EveryResult10K[i]['HeapSort']['distributeSample']['time'] = end-begin"
   ]
  },
  {
   "cell_type": "markdown",
   "metadata": {},
   "source": [
    "#### Merge Sort"
   ]
  },
  {
   "cell_type": "markdown",
   "metadata": {},
   "source": [
    "##### Normal Sample"
   ]
  },
  {
   "cell_type": "code",
   "execution_count": 103,
   "metadata": {},
   "outputs": [],
   "source": [
    "begin = time.time()\n",
    "Mergetest = np.copy(NormalSampleSet10K[0])\n",
    "compare = 0\n",
    "compare = MergeSort(Mergetest,0,len(Mergetest)-1, compare)\n",
    "EveryResult10K[0]['MergeSort']['normalSample']['output'], EveryResult10K[0]['MergeSort']['normalSample']['compare'] = Mergetest, compare\n",
    "end = time.time()\n",
    "EveryResult10K[0]['MergeSort']['normalSample']['time'] = end-begin"
   ]
  },
  {
   "cell_type": "code",
   "execution_count": 104,
   "metadata": {},
   "outputs": [
    {
     "data": {
      "text/plain": [
       "(array([ 0,  0,  0, ..., 99, 99, 99]), 407545, 0.1009976863861084)"
      ]
     },
     "execution_count": 104,
     "metadata": {},
     "output_type": "execute_result"
    }
   ],
   "source": [
    "EveryResult10K[0]['MergeSort']['normalSample']['output'], EveryResult10K[0]['MergeSort']['normalSample']['compare'], EveryResult10K[0]['HeapSort']['normalSample']['time']"
   ]
  },
  {
   "cell_type": "code",
   "execution_count": 105,
   "metadata": {},
   "outputs": [],
   "source": [
    "for i in range(1, 5):\n",
    "  begin = time.time()\n",
    "  Mergetest = np.copy(NormalSampleSet10K[i])\n",
    "  compare = 0\n",
    "  compare = MergeSort(Mergetest, 0, len(Mergetest)-1, compare)\n",
    "  EveryResult10K[i]['MergeSort']['normalSample']['output'], EveryResult10K[i]['MergeSort']['normalSample']['compare'] = Mergetest, compare\n",
    "  end = time.time()\n",
    "  EveryResult10K[i]['MergeSort']['normalSample']['time'] = end-begin"
   ]
  },
  {
   "cell_type": "markdown",
   "metadata": {},
   "source": [
    "##### Distribute Sample"
   ]
  },
  {
   "cell_type": "code",
   "execution_count": 106,
   "metadata": {},
   "outputs": [],
   "source": [
    "begin = time.time()\n",
    "Mergetest = np.copy(DistributeSampleSet10K[0])\n",
    "compare = 0\n",
    "compare = MergeSort(Mergetest,0,len(Mergetest)-1, compare)\n",
    "EveryResult10K[0]['MergeSort']['distributeSample']['output'], EveryResult10K[0]['MergeSort']['distributeSample']['compare'] = Mergetest, compare\n",
    "end = time.time()\n",
    "EveryResult10K[0]['MergeSort']['distributeSample']['time'] = end-begin"
   ]
  },
  {
   "cell_type": "code",
   "execution_count": 107,
   "metadata": {},
   "outputs": [
    {
     "data": {
      "text/plain": [
       "(array([ 1.,  1.,  1., ..., 99., 99., 99.]), 407571, 7.698997259140015)"
      ]
     },
     "execution_count": 107,
     "metadata": {},
     "output_type": "execute_result"
    }
   ],
   "source": [
    "EveryResult10K[0]['MergeSort']['distributeSample']['output'], EveryResult10K[0]['MergeSort']['distributeSample']['compare'], EveryResult10K[0]['HeapSort']['distributeSample']['time']"
   ]
  },
  {
   "cell_type": "code",
   "execution_count": 108,
   "metadata": {},
   "outputs": [],
   "source": [
    "for i in range(1, 5):\n",
    "  Mergetest = np.copy(DistributeSampleSet10K[i])\n",
    "  compare = 0\n",
    "  compare = MergeSort(Mergetest,0,len(Mergetest)-1, compare)\n",
    "  EveryResult10K[i]['MergeSort']['distributeSample']['output'], EveryResult10K[i]['MergeSort']['distributeSample']['compare'] = Mergetest, compare\n",
    "  end = time.time()\n",
    "  EveryResult10K[i]['MergeSort']['distributeSample']['time'] = end-begin"
   ]
  },
  {
   "cell_type": "markdown",
   "metadata": {},
   "source": [
    "#### Distribution Sort"
   ]
  },
  {
   "cell_type": "markdown",
   "metadata": {},
   "source": [
    "##### Normal Sample"
   ]
  },
  {
   "cell_type": "code",
   "execution_count": 109,
   "metadata": {},
   "outputs": [],
   "source": [
    "begin = time.time()\n",
    "EveryResult10K[0]['DistributionSort']['normalSample']['output'], EveryResult10K[0]['DistributionSort']['normalSample']['compare'] = DistributionSort(NormalSampleSet10K[0], min(NormalSampleSet10K[0]), max(NormalSampleSet10K[0]))\n",
    "end = time.time()\n",
    "EveryResult10K[0]['DistributionSort']['normalSample']['time'] = end-begin"
   ]
  },
  {
   "cell_type": "code",
   "execution_count": 110,
   "metadata": {},
   "outputs": [
    {
     "data": {
      "text/plain": [
       "(array([ 0,  0,  0, ..., 99, 99, 99]), 30100, 0.009999275207519531)"
      ]
     },
     "execution_count": 110,
     "metadata": {},
     "output_type": "execute_result"
    }
   ],
   "source": [
    "EveryResult10K[0]['DistributionSort']['normalSample']['output'], EveryResult10K[0]['DistributionSort']['normalSample']['compare'], EveryResult10K[0]['DistributionSort']['normalSample']['time']"
   ]
  },
  {
   "cell_type": "code",
   "execution_count": 111,
   "metadata": {},
   "outputs": [],
   "source": [
    "for i in range(1, 5):\n",
    "  begin = time.time()\n",
    "  EveryResult10K[i]['DistributionSort']['normalSample']['output'], EveryResult10K[i]['DistributionSort']['normalSample']['compare'] = DistributionSort(NormalSampleSet10K[i], min(NormalSampleSet10K[i]), max(NormalSampleSet10K[i]))\n",
    "  end = time.time()\n",
    "  EveryResult10K[i]['DistributionSort']['normalSample']['time'] = end-begin"
   ]
  },
  {
   "cell_type": "markdown",
   "metadata": {},
   "source": [
    "##### Distribution Sample"
   ]
  },
  {
   "cell_type": "code",
   "execution_count": 112,
   "metadata": {},
   "outputs": [],
   "source": [
    "begin = time.time()\n",
    "EveryResult10K[0]['DistributionSort']['distributeSample']['output'], EveryResult10K[0]['DistributionSort']['distributeSample']['compare'] = DistributionSort(DistributeSampleSet10K[0],int(min(DistributeSampleSet10K[0])), int(max(DistributeSampleSet10K[0])))\n",
    "end = time.time()\n",
    "EveryResult10K[0]['DistributionSort']['distributeSample']['time'] = end-begin"
   ]
  },
  {
   "cell_type": "code",
   "execution_count": 113,
   "metadata": {},
   "outputs": [
    {
     "data": {
      "text/plain": [
       "(array([ 1,  1,  1, ..., 99, 99, 99]), 30099, 0.009999752044677734)"
      ]
     },
     "execution_count": 113,
     "metadata": {},
     "output_type": "execute_result"
    }
   ],
   "source": [
    "EveryResult10K[0]['DistributionSort']['distributeSample']['output'], EveryResult10K[0]['DistributionSort']['distributeSample']['compare'], EveryResult10K[0]['DistributionSort']['distributeSample']['time']"
   ]
  },
  {
   "cell_type": "code",
   "execution_count": 114,
   "metadata": {},
   "outputs": [
    {
     "name": "stdout",
     "output_type": "stream",
     "text": [
      "0.008997917175292969\n",
      "0.008999109268188477\n",
      "0.00700068473815918\n",
      "0.008000612258911133\n"
     ]
    }
   ],
   "source": [
    "for i in range(1, 5):\n",
    "  begin = time.time()\n",
    "  EveryResult10K[i]['DistributionSort']['distributeSample']['output'], EveryResult10K[i]['DistributionSort']['distributeSample']['compare'] = DistributionSort(DistributeSampleSet10K[i],int(min(DistributeSampleSet10K[i])), int(max(DistributeSampleSet10K[i])))\n",
    "  end = time.time()\n",
    "  EveryResult10K[i]['DistributionSort']['distributeSample']['time'] = end-begin\n",
    "  print(EveryResult10K[i]['DistributionSort']['distributeSample']['time'])"
   ]
  },
  {
   "cell_type": "markdown",
   "metadata": {},
   "source": [
    "## Analysis part"
   ]
  },
  {
   "cell_type": "markdown",
   "metadata": {},
   "source": [
    "### Normal Sample Summary"
   ]
  },
  {
   "cell_type": "code",
   "execution_count": 115,
   "metadata": {},
   "outputs": [
    {
     "name": "stdout",
     "output_type": "stream",
     "text": [
      "Requirement already satisfied: seaborn in c:\\users\\user\\anaconda3\\envs\\speechrec\\lib\\site-packages (0.12.0)\n",
      "Requirement already satisfied: numpy>=1.17 in c:\\users\\user\\anaconda3\\envs\\speechrec\\lib\\site-packages (from seaborn) (1.22.3)\n",
      "Requirement already satisfied: matplotlib>=3.1 in c:\\users\\user\\anaconda3\\envs\\speechrec\\lib\\site-packages (from seaborn) (3.5.1)\n",
      "Requirement already satisfied: pandas>=0.25 in c:\\users\\user\\anaconda3\\envs\\speechrec\\lib\\site-packages (from seaborn) (1.4.3)\n",
      "Requirement already satisfied: fonttools>=4.22.0 in c:\\users\\user\\anaconda3\\envs\\speechrec\\lib\\site-packages (from matplotlib>=3.1->seaborn) (4.25.0)\n",
      "Requirement already satisfied: python-dateutil>=2.7 in c:\\users\\user\\anaconda3\\envs\\speechrec\\lib\\site-packages (from matplotlib>=3.1->seaborn) (2.8.2)\n",
      "Requirement already satisfied: cycler>=0.10 in c:\\users\\user\\anaconda3\\envs\\speechrec\\lib\\site-packages (from matplotlib>=3.1->seaborn) (0.11.0)\n",
      "Requirement already satisfied: pyparsing>=2.2.1 in c:\\users\\user\\anaconda3\\envs\\speechrec\\lib\\site-packages (from matplotlib>=3.1->seaborn) (3.0.4)\n",
      "Requirement already satisfied: packaging>=20.0 in c:\\users\\user\\anaconda3\\envs\\speechrec\\lib\\site-packages (from matplotlib>=3.1->seaborn) (21.3)\n",
      "Requirement already satisfied: kiwisolver>=1.0.1 in c:\\users\\user\\anaconda3\\envs\\speechrec\\lib\\site-packages (from matplotlib>=3.1->seaborn) (1.4.2)\n",
      "Requirement already satisfied: pillow>=6.2.0 in c:\\users\\user\\anaconda3\\envs\\speechrec\\lib\\site-packages (from matplotlib>=3.1->seaborn) (9.2.0)\n",
      "Requirement already satisfied: pytz>=2020.1 in c:\\users\\user\\anaconda3\\envs\\speechrec\\lib\\site-packages (from pandas>=0.25->seaborn) (2022.2.1)\n",
      "Requirement already satisfied: six>=1.5 in c:\\users\\user\\anaconda3\\envs\\speechrec\\lib\\site-packages (from python-dateutil>=2.7->matplotlib>=3.1->seaborn) (1.16.0)\n"
     ]
    }
   ],
   "source": [
    "# !pip install pandas\n",
    "!pip install seaborn"
   ]
  },
  {
   "cell_type": "code",
   "execution_count": 116,
   "metadata": {},
   "outputs": [],
   "source": [
    "import seaborn as sns\n",
    "import pandas as pd"
   ]
  },
  {
   "cell_type": "markdown",
   "metadata": {},
   "source": [
    "#### Table of time for each algorithm"
   ]
  },
  {
   "cell_type": "markdown",
   "metadata": {},
   "source": [
    "##### 100 samples (nano second)"
   ]
  },
  {
   "cell_type": "code",
   "execution_count": 117,
   "metadata": {},
   "outputs": [
    {
     "data": {
      "text/html": [
       "<div>\n",
       "<style scoped>\n",
       "    .dataframe tbody tr th:only-of-type {\n",
       "        vertical-align: middle;\n",
       "    }\n",
       "\n",
       "    .dataframe tbody tr th {\n",
       "        vertical-align: top;\n",
       "    }\n",
       "\n",
       "    .dataframe thead th {\n",
       "        text-align: right;\n",
       "    }\n",
       "</style>\n",
       "<table border=\"1\" class=\"dataframe\">\n",
       "  <thead>\n",
       "    <tr style=\"text-align: right;\">\n",
       "      <th></th>\n",
       "      <th>SelectionSort</th>\n",
       "      <th>InsertionSort</th>\n",
       "      <th>MergeSort</th>\n",
       "      <th>HeapSort</th>\n",
       "      <th>DistributionSort</th>\n",
       "    </tr>\n",
       "    <tr>\n",
       "      <th>Round</th>\n",
       "      <th></th>\n",
       "      <th></th>\n",
       "      <th></th>\n",
       "      <th></th>\n",
       "      <th></th>\n",
       "    </tr>\n",
       "  </thead>\n",
       "  <tbody>\n",
       "    <tr>\n",
       "      <th>1</th>\n",
       "      <td>1001100</td>\n",
       "      <td>1000500</td>\n",
       "      <td>1001100</td>\n",
       "      <td>998800</td>\n",
       "      <td>0</td>\n",
       "    </tr>\n",
       "    <tr>\n",
       "      <th>2</th>\n",
       "      <td>1000200</td>\n",
       "      <td>0</td>\n",
       "      <td>0</td>\n",
       "      <td>1001200</td>\n",
       "      <td>0</td>\n",
       "    </tr>\n",
       "    <tr>\n",
       "      <th>3</th>\n",
       "      <td>0</td>\n",
       "      <td>1000000</td>\n",
       "      <td>0</td>\n",
       "      <td>0</td>\n",
       "      <td>1001900</td>\n",
       "    </tr>\n",
       "    <tr>\n",
       "      <th>4</th>\n",
       "      <td>998300</td>\n",
       "      <td>0</td>\n",
       "      <td>999900</td>\n",
       "      <td>0</td>\n",
       "      <td>0</td>\n",
       "    </tr>\n",
       "    <tr>\n",
       "      <th>5</th>\n",
       "      <td>0</td>\n",
       "      <td>1001300</td>\n",
       "      <td>0</td>\n",
       "      <td>999200</td>\n",
       "      <td>0</td>\n",
       "    </tr>\n",
       "  </tbody>\n",
       "</table>\n",
       "</div>"
      ],
      "text/plain": [
       "       SelectionSort  InsertionSort  MergeSort  HeapSort  DistributionSort\n",
       "Round                                                                     \n",
       "1            1001100        1000500    1001100    998800                 0\n",
       "2            1000200              0          0   1001200                 0\n",
       "3                  0        1000000          0         0           1001900\n",
       "4             998300              0     999900         0                 0\n",
       "5                  0        1001300          0    999200                 0"
      ]
     },
     "execution_count": 117,
     "metadata": {},
     "output_type": "execute_result"
    }
   ],
   "source": [
    "Normal1stTime = [\n",
    "[1,EveryResult100[0]['SelectionSort']['normalSample']['time'], EveryResult100[0]['InsertionSort']['normalSample']['time'], EveryResult100[0]['MergeSort']['normalSample']['time'], EveryResult100[0]['HeapSort']['normalSample']['time'], EveryResult100[0]['DistributionSort']['normalSample']['time']],\n",
    "[2,EveryResult100[1]['SelectionSort']['normalSample']['time'], EveryResult100[1]['InsertionSort']['normalSample']['time'], EveryResult100[1]['MergeSort']['normalSample']['time'], EveryResult100[1]['HeapSort']['normalSample']['time'], EveryResult100[1]['DistributionSort']['normalSample']['time']],\n",
    "[3,EveryResult100[2]['SelectionSort']['normalSample']['time'], EveryResult100[2]['InsertionSort']['normalSample']['time'], EveryResult100[2]['MergeSort']['normalSample']['time'], EveryResult100[2]['HeapSort']['normalSample']['time'], EveryResult100[2]['DistributionSort']['normalSample']['time']],\n",
    "[4,EveryResult100[3]['SelectionSort']['normalSample']['time'], EveryResult100[3]['InsertionSort']['normalSample']['time'], EveryResult100[3]['MergeSort']['normalSample']['time'], EveryResult100[3]['HeapSort']['normalSample']['time'], EveryResult100[3]['DistributionSort']['normalSample']['time']],\n",
    "[5,EveryResult100[4]['SelectionSort']['normalSample']['time'], EveryResult100[4]['InsertionSort']['normalSample']['time'], EveryResult100[4]['MergeSort']['normalSample']['time'], EveryResult100[4]['HeapSort']['normalSample']['time'], EveryResult100[4]['DistributionSort']['normalSample']['time']]\n",
    "]\n",
    "dfNormal1stTime = pd.DataFrame(Normal1stTime, columns=['Round', 'SelectionSort', 'InsertionSort', 'MergeSort', 'HeapSort', 'DistributionSort'])\n",
    "dfNormal1stTime = dfNormal1stTime.set_index(['Round'])\n",
    "dfNormal1stTime"
   ]
  },
  {
   "cell_type": "code",
   "execution_count": 118,
   "metadata": {},
   "outputs": [
    {
     "data": {
      "text/plain": [
       "<AxesSubplot:ylabel='Round'>"
      ]
     },
     "execution_count": 118,
     "metadata": {},
     "output_type": "execute_result"
    },
    {
     "data": {
      "image/png": "[encoded data removed]",
      "text/plain": [
       "<Figure size 432x288 with 2 Axes>"
      ]
     },
     "metadata": {
      "needs_background": "light"
     },
     "output_type": "display_data"
    }
   ],
   "source": [
    "sns.heatmap(dfNormal1stTime)"
   ]
  },
  {
   "cell_type": "markdown",
   "metadata": {},
   "source": [
    "##### 1000 samples (nano second)"
   ]
  },
  {
   "cell_type": "code",
   "execution_count": 119,
   "metadata": {},
   "outputs": [
    {
     "data": {
      "text/html": [
       "<div>\n",
       "<style scoped>\n",
       "    .dataframe tbody tr th:only-of-type {\n",
       "        vertical-align: middle;\n",
       "    }\n",
       "\n",
       "    .dataframe tbody tr th {\n",
       "        vertical-align: top;\n",
       "    }\n",
       "\n",
       "    .dataframe thead th {\n",
       "        text-align: right;\n",
       "    }\n",
       "</style>\n",
       "<table border=\"1\" class=\"dataframe\">\n",
       "  <thead>\n",
       "    <tr style=\"text-align: right;\">\n",
       "      <th></th>\n",
       "      <th>SelectionSort</th>\n",
       "      <th>InsertionSort</th>\n",
       "      <th>MergeSort</th>\n",
       "      <th>HeapSort</th>\n",
       "      <th>DistributionSort</th>\n",
       "    </tr>\n",
       "    <tr>\n",
       "      <th>Round</th>\n",
       "      <th></th>\n",
       "      <th></th>\n",
       "      <th></th>\n",
       "      <th></th>\n",
       "      <th></th>\n",
       "    </tr>\n",
       "  </thead>\n",
       "  <tbody>\n",
       "    <tr>\n",
       "      <th>1</th>\n",
       "      <td>64997800</td>\n",
       "      <td>48000400</td>\n",
       "      <td>6002000</td>\n",
       "      <td>5000300</td>\n",
       "      <td>999100</td>\n",
       "    </tr>\n",
       "    <tr>\n",
       "      <th>2</th>\n",
       "      <td>65998600</td>\n",
       "      <td>57000400</td>\n",
       "      <td>6000300</td>\n",
       "      <td>4999900</td>\n",
       "      <td>2000800</td>\n",
       "    </tr>\n",
       "    <tr>\n",
       "      <th>3</th>\n",
       "      <td>119000600</td>\n",
       "      <td>69000600</td>\n",
       "      <td>4999900</td>\n",
       "      <td>5000300</td>\n",
       "      <td>999700</td>\n",
       "    </tr>\n",
       "    <tr>\n",
       "      <th>4</th>\n",
       "      <td>116001000</td>\n",
       "      <td>78001500</td>\n",
       "      <td>6001000</td>\n",
       "      <td>4999400</td>\n",
       "      <td>1999500</td>\n",
       "    </tr>\n",
       "    <tr>\n",
       "      <th>5</th>\n",
       "      <td>115999100</td>\n",
       "      <td>72000900</td>\n",
       "      <td>4999500</td>\n",
       "      <td>5000600</td>\n",
       "      <td>1001000</td>\n",
       "    </tr>\n",
       "  </tbody>\n",
       "</table>\n",
       "</div>"
      ],
      "text/plain": [
       "       SelectionSort  InsertionSort  MergeSort  HeapSort  DistributionSort\n",
       "Round                                                                     \n",
       "1           64997800       48000400    6002000   5000300            999100\n",
       "2           65998600       57000400    6000300   4999900           2000800\n",
       "3          119000600       69000600    4999900   5000300            999700\n",
       "4          116001000       78001500    6001000   4999400           1999500\n",
       "5          115999100       72000900    4999500   5000600           1001000"
      ]
     },
     "execution_count": 119,
     "metadata": {},
     "output_type": "execute_result"
    }
   ],
   "source": [
    "Normal2ndTime = [\n",
    "[1,EveryResult1K[0]['SelectionSort']['normalSample']['time'], EveryResult1K[0]['InsertionSort']['normalSample']['time'], EveryResult1K[0]['MergeSort']['normalSample']['time'], EveryResult1K[0]['HeapSort']['normalSample']['time'], EveryResult1K[0]['DistributionSort']['normalSample']['time']],\n",
    "[2,EveryResult1K[1]['SelectionSort']['normalSample']['time'], EveryResult1K[1]['InsertionSort']['normalSample']['time'], EveryResult1K[1]['MergeSort']['normalSample']['time'], EveryResult1K[1]['HeapSort']['normalSample']['time'], EveryResult1K[1]['DistributionSort']['normalSample']['time']],\n",
    "[3,EveryResult1K[2]['SelectionSort']['normalSample']['time'], EveryResult1K[2]['InsertionSort']['normalSample']['time'], EveryResult1K[2]['MergeSort']['normalSample']['time'], EveryResult1K[2]['HeapSort']['normalSample']['time'], EveryResult1K[2]['DistributionSort']['normalSample']['time']],\n",
    "[4,EveryResult1K[3]['SelectionSort']['normalSample']['time'], EveryResult1K[3]['InsertionSort']['normalSample']['time'], EveryResult1K[3]['MergeSort']['normalSample']['time'], EveryResult1K[3]['HeapSort']['normalSample']['time'], EveryResult1K[3]['DistributionSort']['normalSample']['time']],\n",
    "[5,EveryResult1K[4]['SelectionSort']['normalSample']['time'], EveryResult1K[4]['InsertionSort']['normalSample']['time'], EveryResult1K[4]['MergeSort']['normalSample']['time'], EveryResult1K[4]['HeapSort']['normalSample']['time'], EveryResult1K[4]['DistributionSort']['normalSample']['time']]\n",
    "]\n",
    "dfNormal2ndTime = pd.DataFrame(Normal2ndTime, columns=['Round', 'SelectionSort', 'InsertionSort', 'MergeSort', 'HeapSort', 'DistributionSort'])\n",
    "dfNormal2ndTime = dfNormal2ndTime.set_index(['Round'])\n",
    "dfNormal2ndTime"
   ]
  },
  {
   "cell_type": "code",
   "execution_count": 120,
   "metadata": {},
   "outputs": [
    {
     "data": {
      "text/plain": [
       "<AxesSubplot:ylabel='Round'>"
      ]
     },
     "execution_count": 120,
     "metadata": {},
     "output_type": "execute_result"
    },
    {
     "data": {
      "image/png": "[encoded data removed]",
      "text/plain": [
       "<Figure size 432x288 with 2 Axes>"
      ]
     },
     "metadata": {
      "needs_background": "light"
     },
     "output_type": "display_data"
    }
   ],
   "source": [
    "sns.heatmap(dfNormal2ndTime)"
   ]
  },
  {
   "cell_type": "markdown",
   "metadata": {},
   "source": [
    "##### 10000 samples (second)"
   ]
  },
  {
   "cell_type": "code",
   "execution_count": 121,
   "metadata": {},
   "outputs": [
    {
     "data": {
      "text/html": [
       "<div>\n",
       "<style scoped>\n",
       "    .dataframe tbody tr th:only-of-type {\n",
       "        vertical-align: middle;\n",
       "    }\n",
       "\n",
       "    .dataframe tbody tr th {\n",
       "        vertical-align: top;\n",
       "    }\n",
       "\n",
       "    .dataframe thead th {\n",
       "        text-align: right;\n",
       "    }\n",
       "</style>\n",
       "<table border=\"1\" class=\"dataframe\">\n",
       "  <thead>\n",
       "    <tr style=\"text-align: right;\">\n",
       "      <th></th>\n",
       "      <th>SelectionSort</th>\n",
       "      <th>InsertionSort</th>\n",
       "      <th>MergeSort</th>\n",
       "      <th>HeapSort</th>\n",
       "      <th>DistributionSort</th>\n",
       "    </tr>\n",
       "    <tr>\n",
       "      <th>Round</th>\n",
       "      <th></th>\n",
       "      <th></th>\n",
       "      <th></th>\n",
       "      <th></th>\n",
       "      <th></th>\n",
       "    </tr>\n",
       "  </thead>\n",
       "  <tbody>\n",
       "    <tr>\n",
       "      <th>1</th>\n",
       "      <td>11.694998</td>\n",
       "      <td>7.240000</td>\n",
       "      <td>0.117000</td>\n",
       "      <td>0.100998</td>\n",
       "      <td>0.009999</td>\n",
       "    </tr>\n",
       "    <tr>\n",
       "      <th>2</th>\n",
       "      <td>11.656997</td>\n",
       "      <td>7.228999</td>\n",
       "      <td>0.130000</td>\n",
       "      <td>0.085998</td>\n",
       "      <td>0.007998</td>\n",
       "    </tr>\n",
       "    <tr>\n",
       "      <th>3</th>\n",
       "      <td>11.832000</td>\n",
       "      <td>7.235000</td>\n",
       "      <td>0.124002</td>\n",
       "      <td>0.069003</td>\n",
       "      <td>0.013001</td>\n",
       "    </tr>\n",
       "    <tr>\n",
       "      <th>4</th>\n",
       "      <td>11.647003</td>\n",
       "      <td>7.168000</td>\n",
       "      <td>0.117998</td>\n",
       "      <td>0.070998</td>\n",
       "      <td>0.008001</td>\n",
       "    </tr>\n",
       "    <tr>\n",
       "      <th>5</th>\n",
       "      <td>11.514999</td>\n",
       "      <td>7.156002</td>\n",
       "      <td>0.116002</td>\n",
       "      <td>0.070000</td>\n",
       "      <td>0.007998</td>\n",
       "    </tr>\n",
       "  </tbody>\n",
       "</table>\n",
       "</div>"
      ],
      "text/plain": [
       "       SelectionSort  InsertionSort  MergeSort  HeapSort  DistributionSort\n",
       "Round                                                                     \n",
       "1          11.694998       7.240000   0.117000  0.100998          0.009999\n",
       "2          11.656997       7.228999   0.130000  0.085998          0.007998\n",
       "3          11.832000       7.235000   0.124002  0.069003          0.013001\n",
       "4          11.647003       7.168000   0.117998  0.070998          0.008001\n",
       "5          11.514999       7.156002   0.116002  0.070000          0.007998"
      ]
     },
     "execution_count": 121,
     "metadata": {},
     "output_type": "execute_result"
    }
   ],
   "source": [
    "Normal3rdTime = [\n",
    "[1,EveryResult10K[0]['SelectionSort']['normalSample']['time'], EveryResult10K[0]['InsertionSort']['normalSample']['time'], EveryResult10K[0]['MergeSort']['normalSample']['time'], EveryResult10K[0]['HeapSort']['normalSample']['time'], EveryResult10K[0]['DistributionSort']['normalSample']['time']],\n",
    "[2,EveryResult10K[1]['SelectionSort']['normalSample']['time'], EveryResult10K[1]['InsertionSort']['normalSample']['time'], EveryResult10K[1]['MergeSort']['normalSample']['time'], EveryResult10K[1]['HeapSort']['normalSample']['time'], EveryResult10K[1]['DistributionSort']['normalSample']['time']],\n",
    "[3,EveryResult10K[2]['SelectionSort']['normalSample']['time'], EveryResult10K[2]['InsertionSort']['normalSample']['time'], EveryResult10K[2]['MergeSort']['normalSample']['time'], EveryResult10K[2]['HeapSort']['normalSample']['time'], EveryResult10K[2]['DistributionSort']['normalSample']['time']],\n",
    "[4,EveryResult10K[3]['SelectionSort']['normalSample']['time'], EveryResult10K[3]['InsertionSort']['normalSample']['time'], EveryResult10K[3]['MergeSort']['normalSample']['time'], EveryResult10K[3]['HeapSort']['normalSample']['time'], EveryResult10K[3]['DistributionSort']['normalSample']['time']],\n",
    "[5,EveryResult10K[4]['SelectionSort']['normalSample']['time'], EveryResult10K[4]['InsertionSort']['normalSample']['time'], EveryResult10K[4]['MergeSort']['normalSample']['time'], EveryResult10K[4]['HeapSort']['normalSample']['time'], EveryResult10K[4]['DistributionSort']['normalSample']['time']]\n",
    "]\n",
    "dfNormal3rdTime = pd.DataFrame(Normal3rdTime, columns=['Round', 'SelectionSort', 'InsertionSort', 'MergeSort', 'HeapSort', 'DistributionSort'])\n",
    "dfNormal3rdTime = dfNormal3rdTime.set_index(['Round'])\n",
    "dfNormal3rdTime"
   ]
  },
  {
   "cell_type": "code",
   "execution_count": 122,
   "metadata": {},
   "outputs": [
    {
     "data": {
      "text/plain": [
       "<AxesSubplot:ylabel='Round'>"
      ]
     },
     "execution_count": 122,
     "metadata": {},
     "output_type": "execute_result"
    },
    {
     "data": {
      "image/png": "[encoded data removed]",
      "text/plain": [
       "<Figure size 432x288 with 2 Axes>"
      ]
     },
     "metadata": {
      "needs_background": "light"
     },
     "output_type": "display_data"
    }
   ],
   "source": [
    "sns.heatmap(dfNormal3rdTime)"
   ]
  },
  {
   "cell_type": "markdown",
   "metadata": {},
   "source": [
    "##### Summary\n",
    "for the normal random sample in 100 sample every sort work very well they sorted the 100 number in array in nano second(At my test if TA run the kernel again the result will different. )\n",
    "| Round | Selection | Insertion | Merge | Heap | Distribution | \n",
    "|-------|-----------|-----------|-------|------|--------------|\n",
    "|1 |\t1001100 | 1000500 |\t1001100 |\t998800 | 0 |\n",
    "|2 |\t1000200 |\t 0 |\t0 |\t1001200 |\t0 |\n",
    "|3 |\t0 |\t100000 0 |\t0 |\t0 |\t1001900 |\n",
    "|4 |\t998300 |\t0 |\t999900 |\t0\t| 0 |\n",
    "|5 |\t0 |\t100130 | 0 |\t0 |\t999200 |\t0 |\n",
    "\n",
    "Sometime python reckon time as 0 ns beacause it run very quickly.\n",
    "In this sample we can't summary which algorithm is better.\n",
    "\n",
    "Next, The table show the time of each algorithm sort 1000 sample complete(in nano second).\n",
    "| Round | Selection | Insertion | Merge | Heap | Distribution |\n",
    "|-------|-----------|-----------|-------|------|--------------|\n",
    "| 1\t|64997800\t| 48000400 | 6002000 |\t5000300 |\t999100 |\n",
    "| 2\t|65998600\t| 57000400 | 6000300 |\t4999900 |\t2000800 |\n",
    "| 3\t|119000600| 69000600 | 4999900 |\t5000300 |\t999700 |\n",
    "| 4\t|116001000|\t78001500 | 6001000 |\t4999400 |\t1999500 |\n",
    "| 5\t|115999100|\t72000900 | 4999500 |\t5000600 |\t1001000 |\n",
    "\n",
    "from the table and Heatmap that visualize from above, in 1000 random sample **Selection sort** is the algorithm that take the **most time**.  and the second most is Insertion sort that consume mid time(compare with min and max time) but other algorithm(Merge, Heap, Count) still run quickly.\n",
    "<br/>\n",
    "<br/>\n",
    "The 10000 random sample result in second unit\n",
    "| Round | Selection | Insertion | Merge | Heap | Distribution |\n",
    "|-------|-----------|-----------|-------|------|--------------|\n",
    "| 1 |\t11.694998 |\t7.240000 |\t0.117000\t| 0.100998 |\t0.009999 |\n",
    "| 2 |\t11.656997 |\t7.228999 |\t0.130000\t| 0.085998 |\t0.007998 |\n",
    "| 3 |\t11.832000 |\t7.235000 |\t0.124002\t| 0.069003 |\t0.013001 |\n",
    "| 4 |\t11.647003 |\t7.168000 |\t0.117998\t| 0.070998 |\t0.008001 |\n",
    "| 5 |\t11.514999 |\t7.156002 |\t0.116002\t| 0.070000 |\t0.007998 |\n",
    "\n",
    "from the result of 1000 and 10000 sample it seem **decrease and conquer** algorithm type is running slower than **divide and conquer** algorithm type ostensibly. "
   ]
  },
  {
   "cell_type": "markdown",
   "metadata": {},
   "source": [
    "#### Table of comparision count for each algorithm"
   ]
  },
  {
   "cell_type": "markdown",
   "metadata": {},
   "source": [
    "##### 100 samples"
   ]
  },
  {
   "cell_type": "code",
   "execution_count": 123,
   "metadata": {},
   "outputs": [
    {
     "data": {
      "text/html": [
       "<div>\n",
       "<style scoped>\n",
       "    .dataframe tbody tr th:only-of-type {\n",
       "        vertical-align: middle;\n",
       "    }\n",
       "\n",
       "    .dataframe tbody tr th {\n",
       "        vertical-align: top;\n",
       "    }\n",
       "\n",
       "    .dataframe thead th {\n",
       "        text-align: right;\n",
       "    }\n",
       "</style>\n",
       "<table border=\"1\" class=\"dataframe\">\n",
       "  <thead>\n",
       "    <tr style=\"text-align: right;\">\n",
       "      <th></th>\n",
       "      <th>SelectionSort</th>\n",
       "      <th>InsertionSort</th>\n",
       "      <th>MergeSort</th>\n",
       "      <th>HeapSort</th>\n",
       "      <th>DistributionSort</th>\n",
       "    </tr>\n",
       "    <tr>\n",
       "      <th>Round</th>\n",
       "      <th></th>\n",
       "      <th></th>\n",
       "      <th></th>\n",
       "      <th></th>\n",
       "      <th></th>\n",
       "    </tr>\n",
       "  </thead>\n",
       "  <tbody>\n",
       "    <tr>\n",
       "      <th>1</th>\n",
       "      <td>10095</td>\n",
       "      <td>2542</td>\n",
       "      <td>2079</td>\n",
       "      <td>1860</td>\n",
       "      <td>399</td>\n",
       "    </tr>\n",
       "    <tr>\n",
       "      <th>2</th>\n",
       "      <td>10095</td>\n",
       "      <td>2755</td>\n",
       "      <td>2084</td>\n",
       "      <td>1872</td>\n",
       "      <td>399</td>\n",
       "    </tr>\n",
       "    <tr>\n",
       "      <th>3</th>\n",
       "      <td>10091</td>\n",
       "      <td>2395</td>\n",
       "      <td>2075</td>\n",
       "      <td>1902</td>\n",
       "      <td>400</td>\n",
       "    </tr>\n",
       "    <tr>\n",
       "      <th>4</th>\n",
       "      <td>10097</td>\n",
       "      <td>2549</td>\n",
       "      <td>2080</td>\n",
       "      <td>1866</td>\n",
       "      <td>396</td>\n",
       "    </tr>\n",
       "    <tr>\n",
       "      <th>5</th>\n",
       "      <td>10091</td>\n",
       "      <td>2453</td>\n",
       "      <td>2089</td>\n",
       "      <td>1914</td>\n",
       "      <td>400</td>\n",
       "    </tr>\n",
       "  </tbody>\n",
       "</table>\n",
       "</div>"
      ],
      "text/plain": [
       "       SelectionSort  InsertionSort  MergeSort  HeapSort  DistributionSort\n",
       "Round                                                                     \n",
       "1              10095           2542       2079      1860               399\n",
       "2              10095           2755       2084      1872               399\n",
       "3              10091           2395       2075      1902               400\n",
       "4              10097           2549       2080      1866               396\n",
       "5              10091           2453       2089      1914               400"
      ]
     },
     "execution_count": 123,
     "metadata": {},
     "output_type": "execute_result"
    }
   ],
   "source": [
    "Normal1stCompare = [\n",
    "[1,EveryResult100[0]['SelectionSort']['normalSample']['compare'], EveryResult100[0]['InsertionSort']['normalSample']['compare'], EveryResult100[0]['MergeSort']['normalSample']['compare'], EveryResult100[0]['HeapSort']['normalSample']['compare'], EveryResult100[0]['DistributionSort']['normalSample']['compare']],\n",
    "[2,EveryResult100[1]['SelectionSort']['normalSample']['compare'], EveryResult100[1]['InsertionSort']['normalSample']['compare'], EveryResult100[1]['MergeSort']['normalSample']['compare'], EveryResult100[1]['HeapSort']['normalSample']['compare'], EveryResult100[1]['DistributionSort']['normalSample']['compare']],\n",
    "[3,EveryResult100[2]['SelectionSort']['normalSample']['compare'], EveryResult100[2]['InsertionSort']['normalSample']['compare'], EveryResult100[2]['MergeSort']['normalSample']['compare'], EveryResult100[2]['HeapSort']['normalSample']['compare'], EveryResult100[2]['DistributionSort']['normalSample']['compare']],\n",
    "[4,EveryResult100[3]['SelectionSort']['normalSample']['compare'], EveryResult100[3]['InsertionSort']['normalSample']['compare'], EveryResult100[3]['MergeSort']['normalSample']['compare'], EveryResult100[3]['HeapSort']['normalSample']['compare'], EveryResult100[3]['DistributionSort']['normalSample']['compare']],\n",
    "[5,EveryResult100[4]['SelectionSort']['normalSample']['compare'], EveryResult100[4]['InsertionSort']['normalSample']['compare'], EveryResult100[4]['MergeSort']['normalSample']['compare'], EveryResult100[4]['HeapSort']['normalSample']['compare'], EveryResult100[4]['DistributionSort']['normalSample']['compare']]\n",
    "]\n",
    "dfNormal1stCompare = pd.DataFrame(Normal1stCompare, columns=['Round', 'SelectionSort', 'InsertionSort', 'MergeSort', 'HeapSort', 'DistributionSort'])\n",
    "dfNormal1stCompare = dfNormal1stCompare.set_index(['Round'])\n",
    "dfNormal1stCompare"
   ]
  },
  {
   "cell_type": "code",
   "execution_count": 124,
   "metadata": {},
   "outputs": [
    {
     "data": {
      "text/plain": [
       "<AxesSubplot:ylabel='Round'>"
      ]
     },
     "execution_count": 124,
     "metadata": {},
     "output_type": "execute_result"
    },
    {
     "data": {
      "image/png": "[encoded data removed]",
      "text/plain": [
       "<Figure size 432x288 with 2 Axes>"
      ]
     },
     "metadata": {
      "needs_background": "light"
     },
     "output_type": "display_data"
    }
   ],
   "source": [
    "sns.heatmap(dfNormal1stCompare)"
   ]
  },
  {
   "cell_type": "markdown",
   "metadata": {},
   "source": [
    "##### 1000 samples"
   ]
  },
  {
   "cell_type": "code",
   "execution_count": 125,
   "metadata": {},
   "outputs": [
    {
     "data": {
      "text/html": [
       "<div>\n",
       "<style scoped>\n",
       "    .dataframe tbody tr th:only-of-type {\n",
       "        vertical-align: middle;\n",
       "    }\n",
       "\n",
       "    .dataframe tbody tr th {\n",
       "        vertical-align: top;\n",
       "    }\n",
       "\n",
       "    .dataframe thead th {\n",
       "        text-align: right;\n",
       "    }\n",
       "</style>\n",
       "<table border=\"1\" class=\"dataframe\">\n",
       "  <thead>\n",
       "    <tr style=\"text-align: right;\">\n",
       "      <th></th>\n",
       "      <th>SelectionSort</th>\n",
       "      <th>InsertionSort</th>\n",
       "      <th>MergeSort</th>\n",
       "      <th>HeapSort</th>\n",
       "      <th>DistributionSort</th>\n",
       "    </tr>\n",
       "    <tr>\n",
       "      <th>Round</th>\n",
       "      <th></th>\n",
       "      <th></th>\n",
       "      <th></th>\n",
       "      <th></th>\n",
       "      <th></th>\n",
       "    </tr>\n",
       "  </thead>\n",
       "  <tbody>\n",
       "    <tr>\n",
       "      <th>1</th>\n",
       "      <td>1000982</td>\n",
       "      <td>246397</td>\n",
       "      <td>30644</td>\n",
       "      <td>28641</td>\n",
       "      <td>3100</td>\n",
       "    </tr>\n",
       "    <tr>\n",
       "      <th>2</th>\n",
       "      <td>1000985</td>\n",
       "      <td>250979</td>\n",
       "      <td>30630</td>\n",
       "      <td>28677</td>\n",
       "      <td>3100</td>\n",
       "    </tr>\n",
       "    <tr>\n",
       "      <th>3</th>\n",
       "      <td>1000984</td>\n",
       "      <td>248464</td>\n",
       "      <td>30660</td>\n",
       "      <td>28545</td>\n",
       "      <td>3100</td>\n",
       "    </tr>\n",
       "    <tr>\n",
       "      <th>4</th>\n",
       "      <td>1000989</td>\n",
       "      <td>249026</td>\n",
       "      <td>30664</td>\n",
       "      <td>28587</td>\n",
       "      <td>3100</td>\n",
       "    </tr>\n",
       "    <tr>\n",
       "      <th>5</th>\n",
       "      <td>1000985</td>\n",
       "      <td>250050</td>\n",
       "      <td>30652</td>\n",
       "      <td>28680</td>\n",
       "      <td>3100</td>\n",
       "    </tr>\n",
       "  </tbody>\n",
       "</table>\n",
       "</div>"
      ],
      "text/plain": [
       "       SelectionSort  InsertionSort  MergeSort  HeapSort  DistributionSort\n",
       "Round                                                                     \n",
       "1            1000982         246397      30644     28641              3100\n",
       "2            1000985         250979      30630     28677              3100\n",
       "3            1000984         248464      30660     28545              3100\n",
       "4            1000989         249026      30664     28587              3100\n",
       "5            1000985         250050      30652     28680              3100"
      ]
     },
     "execution_count": 125,
     "metadata": {},
     "output_type": "execute_result"
    }
   ],
   "source": [
    "Normal2nd = [\n",
    "[1,EveryResult1K[0]['SelectionSort']['normalSample']['compare'], EveryResult1K[0]['InsertionSort']['normalSample']['compare'], EveryResult1K[0]['MergeSort']['normalSample']['compare'], EveryResult1K[0]['HeapSort']['normalSample']['compare'], EveryResult1K[0]['DistributionSort']['normalSample']['compare']],\n",
    "[2,EveryResult1K[1]['SelectionSort']['normalSample']['compare'], EveryResult1K[1]['InsertionSort']['normalSample']['compare'], EveryResult1K[1]['MergeSort']['normalSample']['compare'], EveryResult1K[1]['HeapSort']['normalSample']['compare'], EveryResult1K[1]['DistributionSort']['normalSample']['compare']],\n",
    "[3,EveryResult1K[2]['SelectionSort']['normalSample']['compare'], EveryResult1K[2]['InsertionSort']['normalSample']['compare'], EveryResult1K[2]['MergeSort']['normalSample']['compare'], EveryResult1K[2]['HeapSort']['normalSample']['compare'], EveryResult1K[2]['DistributionSort']['normalSample']['compare']],\n",
    "[4,EveryResult1K[3]['SelectionSort']['normalSample']['compare'], EveryResult1K[3]['InsertionSort']['normalSample']['compare'], EveryResult1K[3]['MergeSort']['normalSample']['compare'], EveryResult1K[3]['HeapSort']['normalSample']['compare'], EveryResult1K[3]['DistributionSort']['normalSample']['compare']],\n",
    "[5,EveryResult1K[4]['SelectionSort']['normalSample']['compare'], EveryResult1K[4]['InsertionSort']['normalSample']['compare'], EveryResult1K[4]['MergeSort']['normalSample']['compare'], EveryResult1K[4]['HeapSort']['normalSample']['compare'], EveryResult1K[4]['DistributionSort']['normalSample']['compare']]\n",
    "]\n",
    "dfNormal2nd = pd.DataFrame(Normal2nd, columns=['Round', 'SelectionSort', 'InsertionSort', 'MergeSort', 'HeapSort', 'DistributionSort'])\n",
    "dfNormal2nd = dfNormal2nd.set_index(['Round'])\n",
    "dfNormal2nd"
   ]
  },
  {
   "cell_type": "code",
   "execution_count": 126,
   "metadata": {},
   "outputs": [
    {
     "data": {
      "text/plain": [
       "<AxesSubplot:ylabel='Round'>"
      ]
     },
     "execution_count": 126,
     "metadata": {},
     "output_type": "execute_result"
    },
    {
     "data": {
      "image/png": "[encoded data removed]",
      "text/plain": [
       "<Figure size 432x288 with 2 Axes>"
      ]
     },
     "metadata": {
      "needs_background": "light"
     },
     "output_type": "display_data"
    }
   ],
   "source": [
    "sns.heatmap(dfNormal2nd)"
   ]
  },
  {
   "cell_type": "markdown",
   "metadata": {},
   "source": [
    "##### 10000 samples"
   ]
  },
  {
   "cell_type": "code",
   "execution_count": 127,
   "metadata": {},
   "outputs": [
    {
     "data": {
      "text/html": [
       "<div>\n",
       "<style scoped>\n",
       "    .dataframe tbody tr th:only-of-type {\n",
       "        vertical-align: middle;\n",
       "    }\n",
       "\n",
       "    .dataframe tbody tr th {\n",
       "        vertical-align: top;\n",
       "    }\n",
       "\n",
       "    .dataframe thead th {\n",
       "        text-align: right;\n",
       "    }\n",
       "</style>\n",
       "<table border=\"1\" class=\"dataframe\">\n",
       "  <thead>\n",
       "    <tr style=\"text-align: right;\">\n",
       "      <th></th>\n",
       "      <th>SelectionSort</th>\n",
       "      <th>InsertionSort</th>\n",
       "      <th>MergeSort</th>\n",
       "      <th>HeapSort</th>\n",
       "      <th>DistributionSort</th>\n",
       "    </tr>\n",
       "    <tr>\n",
       "      <th>Round</th>\n",
       "      <th></th>\n",
       "      <th></th>\n",
       "      <th></th>\n",
       "      <th></th>\n",
       "      <th></th>\n",
       "    </tr>\n",
       "  </thead>\n",
       "  <tbody>\n",
       "    <tr>\n",
       "      <th>1</th>\n",
       "      <td>100009895</td>\n",
       "      <td>24505481</td>\n",
       "      <td>407545</td>\n",
       "      <td>384597</td>\n",
       "      <td>30100</td>\n",
       "    </tr>\n",
       "    <tr>\n",
       "      <th>2</th>\n",
       "      <td>100009900</td>\n",
       "      <td>24839998</td>\n",
       "      <td>407429</td>\n",
       "      <td>384537</td>\n",
       "      <td>30100</td>\n",
       "    </tr>\n",
       "    <tr>\n",
       "      <th>3</th>\n",
       "      <td>100009887</td>\n",
       "      <td>24852265</td>\n",
       "      <td>407389</td>\n",
       "      <td>384852</td>\n",
       "      <td>30100</td>\n",
       "    </tr>\n",
       "    <tr>\n",
       "      <th>4</th>\n",
       "      <td>100009887</td>\n",
       "      <td>24673570</td>\n",
       "      <td>407502</td>\n",
       "      <td>385059</td>\n",
       "      <td>30100</td>\n",
       "    </tr>\n",
       "    <tr>\n",
       "      <th>5</th>\n",
       "      <td>100009884</td>\n",
       "      <td>24649775</td>\n",
       "      <td>407486</td>\n",
       "      <td>384930</td>\n",
       "      <td>30100</td>\n",
       "    </tr>\n",
       "  </tbody>\n",
       "</table>\n",
       "</div>"
      ],
      "text/plain": [
       "       SelectionSort  InsertionSort  MergeSort  HeapSort  DistributionSort\n",
       "Round                                                                     \n",
       "1          100009895       24505481     407545    384597             30100\n",
       "2          100009900       24839998     407429    384537             30100\n",
       "3          100009887       24852265     407389    384852             30100\n",
       "4          100009887       24673570     407502    385059             30100\n",
       "5          100009884       24649775     407486    384930             30100"
      ]
     },
     "execution_count": 127,
     "metadata": {},
     "output_type": "execute_result"
    }
   ],
   "source": [
    "Normal3rd = [\n",
    "[1,EveryResult10K[0]['SelectionSort']['normalSample']['compare'], EveryResult10K[0]['InsertionSort']['normalSample']['compare'], EveryResult10K[0]['MergeSort']['normalSample']['compare'], EveryResult10K[0]['HeapSort']['normalSample']['compare'], EveryResult10K[0]['DistributionSort']['normalSample']['compare']],\n",
    "[2,EveryResult10K[1]['SelectionSort']['normalSample']['compare'], EveryResult10K[1]['InsertionSort']['normalSample']['compare'], EveryResult10K[1]['MergeSort']['normalSample']['compare'], EveryResult10K[1]['HeapSort']['normalSample']['compare'], EveryResult10K[1]['DistributionSort']['normalSample']['compare']],\n",
    "[3,EveryResult10K[2]['SelectionSort']['normalSample']['compare'], EveryResult10K[2]['InsertionSort']['normalSample']['compare'], EveryResult10K[2]['MergeSort']['normalSample']['compare'], EveryResult10K[2]['HeapSort']['normalSample']['compare'], EveryResult10K[2]['DistributionSort']['normalSample']['compare']],\n",
    "[4,EveryResult10K[3]['SelectionSort']['normalSample']['compare'], EveryResult10K[3]['InsertionSort']['normalSample']['compare'], EveryResult10K[3]['MergeSort']['normalSample']['compare'], EveryResult10K[3]['HeapSort']['normalSample']['compare'], EveryResult10K[3]['DistributionSort']['normalSample']['compare']],\n",
    "[5,EveryResult10K[4]['SelectionSort']['normalSample']['compare'], EveryResult10K[4]['InsertionSort']['normalSample']['compare'], EveryResult10K[4]['MergeSort']['normalSample']['compare'], EveryResult10K[4]['HeapSort']['normalSample']['compare'], EveryResult10K[4]['DistributionSort']['normalSample']['compare']]\n",
    "]\n",
    "dfNormal3rd = pd.DataFrame(Normal3rd, columns=['Round', 'SelectionSort', 'InsertionSort', 'MergeSort', 'HeapSort', 'DistributionSort'])\n",
    "dfNormal3rd = dfNormal3rd.set_index(['Round'])\n",
    "dfNormal3rd"
   ]
  },
  {
   "cell_type": "code",
   "execution_count": 128,
   "metadata": {},
   "outputs": [
    {
     "data": {
      "text/plain": [
       "<AxesSubplot:ylabel='Round'>"
      ]
     },
     "execution_count": 128,
     "metadata": {},
     "output_type": "execute_result"
    },
    {
     "data": {
      "image/png": "[encoded data removed]",
      "text/plain": [
       "<Figure size 432x288 with 2 Axes>"
      ]
     },
     "metadata": {
      "needs_background": "light"
     },
     "output_type": "display_data"
    }
   ],
   "source": [
    "sns.heatmap(dfNormal3rd)"
   ]
  },
  {
   "cell_type": "markdown",
   "metadata": {},
   "source": [
    "##### Summary\n",
    "\n",
    "The 100 normal random sample but focus on the comparision count.\n",
    "| Round | Selection | Insertion | Merge | Heap | Distribution | \n",
    "|-------|-----------|-----------|-------|------|--------------|\n",
    "| 1 |\t10095 |\t2542 |\t2079 |\t1860 | 399 |\n",
    "| 2 |\t10095 |\t2755 |\t2084 |\t1872 | 399 |\n",
    "| 3 |\t10091 |\t2395 |\t2075 |\t1902 | 400 |\n",
    "| 4 |\t10097 |\t2549 |\t2080 |\t1866 | 396 |\n",
    "| 5 |\t10091 |\t2453 |\t2089 |\t1914 | 400 |\n",
    "\n",
    "The 1000 normal random sample but focus on the comparision count.\n",
    "| Round | Selection | Insertion | Merge | Heap | Distribution | \n",
    "|-------|-----------|-----------|-------|------|--------------|\n",
    "| 1 |\t1000982 |\t246397 |\t30644 |\t28641 |\t3100 |\n",
    "| 2 |\t1000985 |\t250979 |\t30630 |\t28677 |\t3100 |\n",
    "| 3 |\t1000984 |\t248464 |\t30660 |\t28545 |\t3100 |\n",
    "| 4 |\t1000989 |\t249026 |\t30664 |\t28587 |\t3100 |\n",
    "| 5 |\t1000985 |\t250050 |\t30652 |\t28680 |\t3100 |\n",
    "\n",
    "The 10000 normal random sample but focus on the comparision count.\n",
    "| Round | Selection | Insertion | Merge | Heap | Distribution | \n",
    "|-------|-----------|-----------|-------|------|--------------|\n",
    "| 1 |\t100009895 |\t24505481 |\t407545 |\t384597 |\t30100 |\n",
    "| 2 |\t100009900 |\t24839998 |\t407429 |\t384537 |\t30100 |\n",
    "| 3 |\t100009887 |\t24852265 |\t407389 |\t384852 |\t30100 |\n",
    "| 4 |\t100009887 |\t24673570 |\t407502 |\t385059 |\t30100 |\n",
    "| 5 |\t100009884 |\t24649775 |\t407486 |\t384930 |\t30100 |\n",
    "\n",
    "for every table it seem **Selection** sort still use comparision state many time compared to other algorithm.<br/><br/>\n",
    "but **Distribution** Sort take a few times to comparision (~3.1x of number of Array). There are very few comparision becasue range of number is very low or not **apart** <br/>\n",
    "Example is, What if the range of number that can be random is not 1 - 100 but 1 - 99999. the Distribution sort will compare more times."
   ]
  },
  {
   "cell_type": "markdown",
   "metadata": {},
   "source": [
    "### Distribution Sample Summary"
   ]
  },
  {
   "cell_type": "markdown",
   "metadata": {},
   "source": [
    "#### Table of time for each algorithm"
   ]
  },
  {
   "cell_type": "markdown",
   "metadata": {},
   "source": [
    "##### 100 samples (nano second)"
   ]
  },
  {
   "cell_type": "code",
   "execution_count": 129,
   "metadata": {},
   "outputs": [
    {
     "data": {
      "text/html": [
       "<div>\n",
       "<style scoped>\n",
       "    .dataframe tbody tr th:only-of-type {\n",
       "        vertical-align: middle;\n",
       "    }\n",
       "\n",
       "    .dataframe tbody tr th {\n",
       "        vertical-align: top;\n",
       "    }\n",
       "\n",
       "    .dataframe thead th {\n",
       "        text-align: right;\n",
       "    }\n",
       "</style>\n",
       "<table border=\"1\" class=\"dataframe\">\n",
       "  <thead>\n",
       "    <tr style=\"text-align: right;\">\n",
       "      <th></th>\n",
       "      <th>SelectionSort</th>\n",
       "      <th>InsertionSort</th>\n",
       "      <th>MergeSort</th>\n",
       "      <th>HeapSort</th>\n",
       "      <th>DistributionSort</th>\n",
       "    </tr>\n",
       "    <tr>\n",
       "      <th>Round</th>\n",
       "      <th></th>\n",
       "      <th></th>\n",
       "      <th></th>\n",
       "      <th></th>\n",
       "      <th></th>\n",
       "    </tr>\n",
       "  </thead>\n",
       "  <tbody>\n",
       "    <tr>\n",
       "      <th>1</th>\n",
       "      <td>999900</td>\n",
       "      <td>997300</td>\n",
       "      <td>0</td>\n",
       "      <td>1000000</td>\n",
       "      <td>0</td>\n",
       "    </tr>\n",
       "    <tr>\n",
       "      <th>2</th>\n",
       "      <td>0</td>\n",
       "      <td>998900</td>\n",
       "      <td>0</td>\n",
       "      <td>1002800</td>\n",
       "      <td>0</td>\n",
       "    </tr>\n",
       "    <tr>\n",
       "      <th>3</th>\n",
       "      <td>999100</td>\n",
       "      <td>0</td>\n",
       "      <td>0</td>\n",
       "      <td>0</td>\n",
       "      <td>0</td>\n",
       "    </tr>\n",
       "    <tr>\n",
       "      <th>4</th>\n",
       "      <td>999200</td>\n",
       "      <td>999000</td>\n",
       "      <td>0</td>\n",
       "      <td>997200</td>\n",
       "      <td>0</td>\n",
       "    </tr>\n",
       "    <tr>\n",
       "      <th>5</th>\n",
       "      <td>999700</td>\n",
       "      <td>0</td>\n",
       "      <td>0</td>\n",
       "      <td>0</td>\n",
       "      <td>0</td>\n",
       "    </tr>\n",
       "  </tbody>\n",
       "</table>\n",
       "</div>"
      ],
      "text/plain": [
       "       SelectionSort  InsertionSort  MergeSort  HeapSort  DistributionSort\n",
       "Round                                                                     \n",
       "1             999900         997300          0   1000000                 0\n",
       "2                  0         998900          0   1002800                 0\n",
       "3             999100              0          0         0                 0\n",
       "4             999200         999000          0    997200                 0\n",
       "5             999700              0          0         0                 0"
      ]
     },
     "execution_count": 129,
     "metadata": {},
     "output_type": "execute_result"
    }
   ],
   "source": [
    "import pandas as pd\n",
    "Normal1stTime = [\n",
    "[1,EveryResult100[0]['SelectionSort']['distributeSample']['time'], EveryResult100[0]['InsertionSort']['distributeSample']['time'], EveryResult100[0]['MergeSort']['distributeSample']['time'], EveryResult100[0]['HeapSort']['distributeSample']['time'], EveryResult100[0]['DistributionSort']['distributeSample']['time']],\n",
    "[2,EveryResult100[1]['SelectionSort']['distributeSample']['time'], EveryResult100[1]['InsertionSort']['distributeSample']['time'], EveryResult100[1]['MergeSort']['distributeSample']['time'], EveryResult100[1]['HeapSort']['distributeSample']['time'], EveryResult100[1]['DistributionSort']['distributeSample']['time']],\n",
    "[3,EveryResult100[2]['SelectionSort']['distributeSample']['time'], EveryResult100[2]['InsertionSort']['distributeSample']['time'], EveryResult100[2]['MergeSort']['distributeSample']['time'], EveryResult100[2]['HeapSort']['distributeSample']['time'], EveryResult100[2]['DistributionSort']['distributeSample']['time']],\n",
    "[4,EveryResult100[3]['SelectionSort']['distributeSample']['time'], EveryResult100[3]['InsertionSort']['distributeSample']['time'], EveryResult100[3]['MergeSort']['distributeSample']['time'], EveryResult100[3]['HeapSort']['distributeSample']['time'], EveryResult100[3]['DistributionSort']['distributeSample']['time']],\n",
    "[5,EveryResult100[4]['SelectionSort']['distributeSample']['time'], EveryResult100[4]['InsertionSort']['distributeSample']['time'], EveryResult100[4]['MergeSort']['distributeSample']['time'], EveryResult100[4]['HeapSort']['distributeSample']['time'], EveryResult100[4]['DistributionSort']['distributeSample']['time']]\n",
    "]\n",
    "dfNormal1stTime = pd.DataFrame(Normal1stTime, columns=['Round', 'SelectionSort', 'InsertionSort', 'MergeSort', 'HeapSort', 'DistributionSort'])\n",
    "dfNormal1stTime = dfNormal1stTime.set_index(['Round'])\n",
    "dfNormal1stTime"
   ]
  },
  {
   "cell_type": "code",
   "execution_count": 130,
   "metadata": {},
   "outputs": [
    {
     "data": {
      "text/plain": [
       "<AxesSubplot:ylabel='Round'>"
      ]
     },
     "execution_count": 130,
     "metadata": {},
     "output_type": "execute_result"
    },
    {
     "data": {
      "image/png": "[encoded data removed]",
      "text/plain": [
       "<Figure size 432x288 with 2 Axes>"
      ]
     },
     "metadata": {
      "needs_background": "light"
     },
     "output_type": "display_data"
    }
   ],
   "source": [
    "sns.heatmap(dfNormal1stTime)"
   ]
  },
  {
   "cell_type": "markdown",
   "metadata": {},
   "source": [
    "##### 1000 samples (nano second)"
   ]
  },
  {
   "cell_type": "code",
   "execution_count": 131,
   "metadata": {},
   "outputs": [
    {
     "data": {
      "text/html": [
       "<div>\n",
       "<style scoped>\n",
       "    .dataframe tbody tr th:only-of-type {\n",
       "        vertical-align: middle;\n",
       "    }\n",
       "\n",
       "    .dataframe tbody tr th {\n",
       "        vertical-align: top;\n",
       "    }\n",
       "\n",
       "    .dataframe thead th {\n",
       "        text-align: right;\n",
       "    }\n",
       "</style>\n",
       "<table border=\"1\" class=\"dataframe\">\n",
       "  <thead>\n",
       "    <tr style=\"text-align: right;\">\n",
       "      <th></th>\n",
       "      <th>SelectionSort</th>\n",
       "      <th>InsertionSort</th>\n",
       "      <th>MergeSort</th>\n",
       "      <th>HeapSort</th>\n",
       "      <th>DistributionSort</th>\n",
       "    </tr>\n",
       "    <tr>\n",
       "      <th>Round</th>\n",
       "      <th></th>\n",
       "      <th></th>\n",
       "      <th></th>\n",
       "      <th></th>\n",
       "      <th></th>\n",
       "    </tr>\n",
       "  </thead>\n",
       "  <tbody>\n",
       "    <tr>\n",
       "      <th>1</th>\n",
       "      <td>78999900</td>\n",
       "      <td>54998600</td>\n",
       "      <td>0.004999</td>\n",
       "      <td>75997900</td>\n",
       "      <td>1000800</td>\n",
       "    </tr>\n",
       "    <tr>\n",
       "      <th>2</th>\n",
       "      <td>69997300</td>\n",
       "      <td>46999600</td>\n",
       "      <td>0.000000</td>\n",
       "      <td>51001000</td>\n",
       "      <td>1001300</td>\n",
       "    </tr>\n",
       "    <tr>\n",
       "      <th>3</th>\n",
       "      <td>69000500</td>\n",
       "      <td>52999400</td>\n",
       "      <td>0.000000</td>\n",
       "      <td>52000100</td>\n",
       "      <td>1001100</td>\n",
       "    </tr>\n",
       "    <tr>\n",
       "      <th>4</th>\n",
       "      <td>70999500</td>\n",
       "      <td>60000800</td>\n",
       "      <td>0.000000</td>\n",
       "      <td>71997200</td>\n",
       "      <td>0</td>\n",
       "    </tr>\n",
       "    <tr>\n",
       "      <th>5</th>\n",
       "      <td>88000200</td>\n",
       "      <td>51999200</td>\n",
       "      <td>0.000000</td>\n",
       "      <td>76001000</td>\n",
       "      <td>1001900</td>\n",
       "    </tr>\n",
       "  </tbody>\n",
       "</table>\n",
       "</div>"
      ],
      "text/plain": [
       "       SelectionSort  InsertionSort  MergeSort  HeapSort  DistributionSort\n",
       "Round                                                                     \n",
       "1           78999900       54998600   0.004999  75997900           1000800\n",
       "2           69997300       46999600   0.000000  51001000           1001300\n",
       "3           69000500       52999400   0.000000  52000100           1001100\n",
       "4           70999500       60000800   0.000000  71997200                 0\n",
       "5           88000200       51999200   0.000000  76001000           1001900"
      ]
     },
     "execution_count": 131,
     "metadata": {},
     "output_type": "execute_result"
    }
   ],
   "source": [
    "Normal2ndTime = [\n",
    "[1,EveryResult1K[0]['SelectionSort']['distributeSample']['time'], EveryResult1K[0]['InsertionSort']['distributeSample']['time'], EveryResult1K[0]['MergeSort']['distributeSample']['time'], EveryResult1K[0]['HeapSort']['distributeSample']['time'], EveryResult1K[0]['DistributionSort']['distributeSample']['time']],\n",
    "[2,EveryResult1K[1]['SelectionSort']['distributeSample']['time'], EveryResult1K[1]['InsertionSort']['distributeSample']['time'], EveryResult1K[1]['MergeSort']['distributeSample']['time'], EveryResult1K[1]['HeapSort']['distributeSample']['time'], EveryResult1K[1]['DistributionSort']['distributeSample']['time']],\n",
    "[3,EveryResult1K[2]['SelectionSort']['distributeSample']['time'], EveryResult1K[2]['InsertionSort']['distributeSample']['time'], EveryResult1K[2]['MergeSort']['distributeSample']['time'], EveryResult1K[2]['HeapSort']['distributeSample']['time'], EveryResult1K[2]['DistributionSort']['distributeSample']['time']],\n",
    "[4,EveryResult1K[3]['SelectionSort']['distributeSample']['time'], EveryResult1K[3]['InsertionSort']['distributeSample']['time'], EveryResult1K[3]['MergeSort']['distributeSample']['time'], EveryResult1K[3]['HeapSort']['distributeSample']['time'], EveryResult1K[3]['DistributionSort']['distributeSample']['time']],\n",
    "[5,EveryResult1K[4]['SelectionSort']['distributeSample']['time'], EveryResult1K[4]['InsertionSort']['distributeSample']['time'], EveryResult1K[4]['MergeSort']['distributeSample']['time'], EveryResult1K[4]['HeapSort']['distributeSample']['time'], EveryResult1K[4]['DistributionSort']['distributeSample']['time']]\n",
    "]\n",
    "dfNormal2ndTime = pd.DataFrame(Normal2ndTime, columns=['Round', 'SelectionSort', 'InsertionSort', 'MergeSort', 'HeapSort', 'DistributionSort'])\n",
    "dfNormal2ndTime = dfNormal2ndTime.set_index(['Round'])\n",
    "dfNormal2ndTime"
   ]
  },
  {
   "cell_type": "code",
   "execution_count": 132,
   "metadata": {},
   "outputs": [
    {
     "data": {
      "text/plain": [
       "<AxesSubplot:ylabel='Round'>"
      ]
     },
     "execution_count": 132,
     "metadata": {},
     "output_type": "execute_result"
    },
    {
     "data": {
      "image/png": "[encoded data removed]",
      "text/plain": [
       "<Figure size 432x288 with 2 Axes>"
      ]
     },
     "metadata": {
      "needs_background": "light"
     },
     "output_type": "display_data"
    }
   ],
   "source": [
    "sns.heatmap(dfNormal2ndTime)"
   ]
  },
  {
   "cell_type": "markdown",
   "metadata": {},
   "source": [
    "##### 10000 samples (second)"
   ]
  },
  {
   "cell_type": "code",
   "execution_count": 133,
   "metadata": {},
   "outputs": [
    {
     "data": {
      "text/html": [
       "<div>\n",
       "<style scoped>\n",
       "    .dataframe tbody tr th:only-of-type {\n",
       "        vertical-align: middle;\n",
       "    }\n",
       "\n",
       "    .dataframe tbody tr th {\n",
       "        vertical-align: top;\n",
       "    }\n",
       "\n",
       "    .dataframe thead th {\n",
       "        text-align: right;\n",
       "    }\n",
       "</style>\n",
       "<table border=\"1\" class=\"dataframe\">\n",
       "  <thead>\n",
       "    <tr style=\"text-align: right;\">\n",
       "      <th></th>\n",
       "      <th>SelectionSort</th>\n",
       "      <th>InsertionSort</th>\n",
       "      <th>MergeSort</th>\n",
       "      <th>HeapSort</th>\n",
       "      <th>DistributionSort</th>\n",
       "    </tr>\n",
       "    <tr>\n",
       "      <th>Round</th>\n",
       "      <th></th>\n",
       "      <th></th>\n",
       "      <th></th>\n",
       "      <th></th>\n",
       "      <th></th>\n",
       "    </tr>\n",
       "  </thead>\n",
       "  <tbody>\n",
       "    <tr>\n",
       "      <th>1</th>\n",
       "      <td>11.623997</td>\n",
       "      <td>6.938997</td>\n",
       "      <td>0.085001</td>\n",
       "      <td>7.698997</td>\n",
       "      <td>0.010000</td>\n",
       "    </tr>\n",
       "    <tr>\n",
       "      <th>2</th>\n",
       "      <td>11.701999</td>\n",
       "      <td>4.766999</td>\n",
       "      <td>0.428001</td>\n",
       "      <td>7.376000</td>\n",
       "      <td>0.008998</td>\n",
       "    </tr>\n",
       "    <tr>\n",
       "      <th>3</th>\n",
       "      <td>11.686001</td>\n",
       "      <td>5.290000</td>\n",
       "      <td>0.548001</td>\n",
       "      <td>7.263001</td>\n",
       "      <td>0.008999</td>\n",
       "    </tr>\n",
       "    <tr>\n",
       "      <th>4</th>\n",
       "      <td>11.730999</td>\n",
       "      <td>7.699999</td>\n",
       "      <td>0.650001</td>\n",
       "      <td>7.367998</td>\n",
       "      <td>0.007001</td>\n",
       "    </tr>\n",
       "    <tr>\n",
       "      <th>5</th>\n",
       "      <td>11.865000</td>\n",
       "      <td>7.277003</td>\n",
       "      <td>0.751000</td>\n",
       "      <td>7.574001</td>\n",
       "      <td>0.008001</td>\n",
       "    </tr>\n",
       "  </tbody>\n",
       "</table>\n",
       "</div>"
      ],
      "text/plain": [
       "       SelectionSort  InsertionSort  MergeSort  HeapSort  DistributionSort\n",
       "Round                                                                     \n",
       "1          11.623997       6.938997   0.085001  7.698997          0.010000\n",
       "2          11.701999       4.766999   0.428001  7.376000          0.008998\n",
       "3          11.686001       5.290000   0.548001  7.263001          0.008999\n",
       "4          11.730999       7.699999   0.650001  7.367998          0.007001\n",
       "5          11.865000       7.277003   0.751000  7.574001          0.008001"
      ]
     },
     "execution_count": 133,
     "metadata": {},
     "output_type": "execute_result"
    }
   ],
   "source": [
    "Normal3rdTime = [\n",
    "[1,EveryResult10K[0]['SelectionSort']['distributeSample']['time'], EveryResult10K[0]['InsertionSort']['distributeSample']['time'], EveryResult10K[0]['MergeSort']['distributeSample']['time'], EveryResult10K[0]['HeapSort']['distributeSample']['time'], EveryResult10K[0]['DistributionSort']['distributeSample']['time']],\n",
    "[2,EveryResult10K[1]['SelectionSort']['distributeSample']['time'], EveryResult10K[1]['InsertionSort']['distributeSample']['time'], EveryResult10K[1]['MergeSort']['distributeSample']['time'], EveryResult10K[1]['HeapSort']['distributeSample']['time'], EveryResult10K[1]['DistributionSort']['distributeSample']['time']],\n",
    "[3,EveryResult10K[2]['SelectionSort']['distributeSample']['time'], EveryResult10K[2]['InsertionSort']['distributeSample']['time'], EveryResult10K[2]['MergeSort']['distributeSample']['time'], EveryResult10K[2]['HeapSort']['distributeSample']['time'], EveryResult10K[2]['DistributionSort']['distributeSample']['time']],\n",
    "[4,EveryResult10K[3]['SelectionSort']['distributeSample']['time'], EveryResult10K[3]['InsertionSort']['distributeSample']['time'], EveryResult10K[3]['MergeSort']['distributeSample']['time'], EveryResult10K[3]['HeapSort']['distributeSample']['time'], EveryResult10K[3]['DistributionSort']['distributeSample']['time']],\n",
    "[5,EveryResult10K[4]['SelectionSort']['distributeSample']['time'], EveryResult10K[4]['InsertionSort']['distributeSample']['time'], EveryResult10K[4]['MergeSort']['distributeSample']['time'], EveryResult10K[4]['HeapSort']['distributeSample']['time'], EveryResult10K[4]['DistributionSort']['distributeSample']['time']]\n",
    "]\n",
    "dfNormal3rdTime = pd.DataFrame(Normal3rdTime, columns=['Round', 'SelectionSort', 'InsertionSort', 'MergeSort', 'HeapSort', 'DistributionSort'])\n",
    "dfNormal3rdTime = dfNormal3rdTime.set_index(['Round'])\n",
    "dfNormal3rdTime"
   ]
  },
  {
   "cell_type": "code",
   "execution_count": 134,
   "metadata": {},
   "outputs": [
    {
     "data": {
      "text/plain": [
       "<AxesSubplot:ylabel='Round'>"
      ]
     },
     "execution_count": 134,
     "metadata": {},
     "output_type": "execute_result"
    },
    {
     "data": {
      "image/png": "[encoded data removed]",
      "text/plain": [
       "<Figure size 432x288 with 2 Axes>"
      ]
     },
     "metadata": {
      "needs_background": "light"
     },
     "output_type": "display_data"
    }
   ],
   "source": [
    "sns.heatmap(dfNormal3rdTime)"
   ]
  },
  {
   "cell_type": "markdown",
   "metadata": {},
   "source": [
    "##### Summary\n",
    "\n",
    "The Table of time that used to sort 100 distribute in each of algorithm\n",
    "| Round | Selection | Insertion | Merge | Heap | Distribution | \n",
    "|-------|-----------|-----------|-------|------|--------------|\n",
    "| 1 |\t999900 | 997300 | 0 |\t1000000 |\t0 |\n",
    "| 2 |\t0 |\t998900 |\t0 |\t1002800 |\t0 |\n",
    "| 3 |\t999100 |\t0 |\t0 |\t0 |\t0 |\n",
    "| 4 |\t999200 | 999000 |\t0 |\t997200 |\t0 |\n",
    "| 5 |\t999700 | 0 |\t0 |\t0 |\t0 |\n",
    "\n",
    "Same as the result of 100 normal random it take time in nano secend.\n",
    "<br>\n",
    "The Table of time that used to sort 1000 distribute in each of algorithm\n",
    "| Round | Selection | Insertion | Merge | Heap | Distribution | \n",
    "|-------|-----------|-----------|-------|------|--------------|\n",
    "| 1 |\t78999900 | 54998600 | 0.004999 | 75997900 |\t1000800 |\n",
    "| 2 |\t69997300 | 46999600 | 0.000000 | 51001000 |\t1001300 |\n",
    "| 3 |\t69000500 | 52999400 | 0.000000 | 52000100 |\t1001100 |\n",
    "| 4 |\t70999500 | 60000800 | 0.000000 | 71997200 |\t0 |\n",
    "| 5 | 88000200 | 51999200 | 0.000000 | 76001000 |\t1001900 |\n",
    "\n",
    "From this table everything is very normal except **Heap Sort** it's seem take a time like **decrease and conquer** algorithm type and some random sample **Insertion  Sort** running faster than ***Heap Sort** That very weird.\n",
    "<br>\n",
    "The Table of time that used to sort 10000 distribute in each of algorithm\n",
    "| Round | Selection | Insertion | Merge | Heap | Distribution | \n",
    "|-------|-----------|-----------|-------|------|--------------|\n",
    "| 1 |\t11.623997 |\t6.938997 | 0.085001 | 7.698997 | 0.010000 |\n",
    "| 2 |\t11.701999 |\t4.766999 | 0.428001 | 7.376000 | 0.008998 |\n",
    "| 3 |\t11.686001 |\t5.290000 | 0.548001 | 7.263001 | 0.008999 |\n",
    "| 4 |\t11.730999 |\t7.699999 | 0.650001 | 7.367998 | 0.007001 |\n",
    "| 5 |\t11.865000 |\t7.277003 | 0.751000 | 7.574001 | 0.008001 |\n",
    "\n",
    "It's look like 1000 random sample but it very clearly about **Insertion sort** and **Heap sort**. Heap sort can instead with Insertion sort when data is the normal distribution."
   ]
  },
  {
   "cell_type": "markdown",
   "metadata": {},
   "source": [
    "#### Table of comparision for each algorithm using Distribute random"
   ]
  },
  {
   "cell_type": "markdown",
   "metadata": {},
   "source": [
    "##### 100 samples"
   ]
  },
  {
   "cell_type": "code",
   "execution_count": 135,
   "metadata": {},
   "outputs": [
    {
     "data": {
      "text/html": [
       "<div>\n",
       "<style scoped>\n",
       "    .dataframe tbody tr th:only-of-type {\n",
       "        vertical-align: middle;\n",
       "    }\n",
       "\n",
       "    .dataframe tbody tr th {\n",
       "        vertical-align: top;\n",
       "    }\n",
       "\n",
       "    .dataframe thead th {\n",
       "        text-align: right;\n",
       "    }\n",
       "</style>\n",
       "<table border=\"1\" class=\"dataframe\">\n",
       "  <thead>\n",
       "    <tr style=\"text-align: right;\">\n",
       "      <th></th>\n",
       "      <th>SelectionSort</th>\n",
       "      <th>InsertionSort</th>\n",
       "      <th>MergeSort</th>\n",
       "      <th>HeapSort</th>\n",
       "      <th>DistributionSort</th>\n",
       "    </tr>\n",
       "    <tr>\n",
       "      <th>Round</th>\n",
       "      <th></th>\n",
       "      <th></th>\n",
       "      <th></th>\n",
       "      <th></th>\n",
       "      <th></th>\n",
       "    </tr>\n",
       "  </thead>\n",
       "  <tbody>\n",
       "    <tr>\n",
       "      <th>1</th>\n",
       "      <td>10096</td>\n",
       "      <td>2425</td>\n",
       "      <td>2087</td>\n",
       "      <td>2425</td>\n",
       "      <td>395</td>\n",
       "    </tr>\n",
       "    <tr>\n",
       "      <th>2</th>\n",
       "      <td>10096</td>\n",
       "      <td>2488</td>\n",
       "      <td>2089</td>\n",
       "      <td>2488</td>\n",
       "      <td>397</td>\n",
       "    </tr>\n",
       "    <tr>\n",
       "      <th>3</th>\n",
       "      <td>10093</td>\n",
       "      <td>2732</td>\n",
       "      <td>2093</td>\n",
       "      <td>2732</td>\n",
       "      <td>399</td>\n",
       "    </tr>\n",
       "    <tr>\n",
       "      <th>4</th>\n",
       "      <td>10092</td>\n",
       "      <td>2346</td>\n",
       "      <td>2091</td>\n",
       "      <td>2346</td>\n",
       "      <td>398</td>\n",
       "    </tr>\n",
       "    <tr>\n",
       "      <th>5</th>\n",
       "      <td>10093</td>\n",
       "      <td>2658</td>\n",
       "      <td>2075</td>\n",
       "      <td>2658</td>\n",
       "      <td>399</td>\n",
       "    </tr>\n",
       "  </tbody>\n",
       "</table>\n",
       "</div>"
      ],
      "text/plain": [
       "       SelectionSort  InsertionSort  MergeSort  HeapSort  DistributionSort\n",
       "Round                                                                     \n",
       "1              10096           2425       2087      2425               395\n",
       "2              10096           2488       2089      2488               397\n",
       "3              10093           2732       2093      2732               399\n",
       "4              10092           2346       2091      2346               398\n",
       "5              10093           2658       2075      2658               399"
      ]
     },
     "execution_count": 135,
     "metadata": {},
     "output_type": "execute_result"
    }
   ],
   "source": [
    "Normal1stCompare = [\n",
    "[1,EveryResult100[0]['SelectionSort']['distributeSample']['compare'], EveryResult100[0]['InsertionSort']['distributeSample']['compare'], EveryResult100[0]['MergeSort']['distributeSample']['compare'], EveryResult100[0]['HeapSort']['distributeSample']['compare'], EveryResult100[0]['DistributionSort']['distributeSample']['compare']],\n",
    "[2,EveryResult100[1]['SelectionSort']['distributeSample']['compare'], EveryResult100[1]['InsertionSort']['distributeSample']['compare'], EveryResult100[1]['MergeSort']['distributeSample']['compare'], EveryResult100[1]['HeapSort']['distributeSample']['compare'], EveryResult100[1]['DistributionSort']['distributeSample']['compare']],\n",
    "[3,EveryResult100[2]['SelectionSort']['distributeSample']['compare'], EveryResult100[2]['InsertionSort']['distributeSample']['compare'], EveryResult100[2]['MergeSort']['distributeSample']['compare'], EveryResult100[2]['HeapSort']['distributeSample']['compare'], EveryResult100[2]['DistributionSort']['distributeSample']['compare']],\n",
    "[4,EveryResult100[3]['SelectionSort']['distributeSample']['compare'], EveryResult100[3]['InsertionSort']['distributeSample']['compare'], EveryResult100[3]['MergeSort']['distributeSample']['compare'], EveryResult100[3]['HeapSort']['distributeSample']['compare'], EveryResult100[3]['DistributionSort']['distributeSample']['compare']],\n",
    "[5,EveryResult100[4]['SelectionSort']['distributeSample']['compare'], EveryResult100[4]['InsertionSort']['distributeSample']['compare'], EveryResult100[4]['MergeSort']['distributeSample']['compare'], EveryResult100[4]['HeapSort']['distributeSample']['compare'], EveryResult100[4]['DistributionSort']['distributeSample']['compare']]\n",
    "]\n",
    "dfNormal1stCompare = pd.DataFrame(Normal1stCompare, columns=['Round', 'SelectionSort', 'InsertionSort', 'MergeSort', 'HeapSort', 'DistributionSort'])\n",
    "dfNormal1stCompare = dfNormal1stCompare.set_index(['Round'])\n",
    "dfNormal1stCompare"
   ]
  },
  {
   "cell_type": "code",
   "execution_count": 136,
   "metadata": {},
   "outputs": [
    {
     "data": {
      "text/plain": [
       "<AxesSubplot:ylabel='Round'>"
      ]
     },
     "execution_count": 136,
     "metadata": {},
     "output_type": "execute_result"
    },
    {
     "data": {
      "image/png": "[encoded data removed]",
      "text/plain": [
       "<Figure size 432x288 with 2 Axes>"
      ]
     },
     "metadata": {
      "needs_background": "light"
     },
     "output_type": "display_data"
    }
   ],
   "source": [
    "sns.heatmap(dfNormal1stCompare)"
   ]
  },
  {
   "cell_type": "markdown",
   "metadata": {},
   "source": [
    "##### 1000 samples"
   ]
  },
  {
   "cell_type": "code",
   "execution_count": 137,
   "metadata": {},
   "outputs": [
    {
     "data": {
      "text/html": [
       "<div>\n",
       "<style scoped>\n",
       "    .dataframe tbody tr th:only-of-type {\n",
       "        vertical-align: middle;\n",
       "    }\n",
       "\n",
       "    .dataframe tbody tr th {\n",
       "        vertical-align: top;\n",
       "    }\n",
       "\n",
       "    .dataframe thead th {\n",
       "        text-align: right;\n",
       "    }\n",
       "</style>\n",
       "<table border=\"1\" class=\"dataframe\">\n",
       "  <thead>\n",
       "    <tr style=\"text-align: right;\">\n",
       "      <th></th>\n",
       "      <th>SelectionSort</th>\n",
       "      <th>InsertionSort</th>\n",
       "      <th>MergeSort</th>\n",
       "      <th>HeapSort</th>\n",
       "      <th>DistributionSort</th>\n",
       "    </tr>\n",
       "    <tr>\n",
       "      <th>Round</th>\n",
       "      <th></th>\n",
       "      <th></th>\n",
       "      <th></th>\n",
       "      <th></th>\n",
       "      <th></th>\n",
       "    </tr>\n",
       "  </thead>\n",
       "  <tbody>\n",
       "    <tr>\n",
       "      <th>1</th>\n",
       "      <td>1000980</td>\n",
       "      <td>243393</td>\n",
       "      <td>30658</td>\n",
       "      <td>243393</td>\n",
       "      <td>3099</td>\n",
       "    </tr>\n",
       "    <tr>\n",
       "      <th>2</th>\n",
       "      <td>1000987</td>\n",
       "      <td>243461</td>\n",
       "      <td>30651</td>\n",
       "      <td>243461</td>\n",
       "      <td>3099</td>\n",
       "    </tr>\n",
       "    <tr>\n",
       "      <th>3</th>\n",
       "      <td>1000987</td>\n",
       "      <td>253166</td>\n",
       "      <td>30674</td>\n",
       "      <td>253166</td>\n",
       "      <td>3099</td>\n",
       "    </tr>\n",
       "    <tr>\n",
       "      <th>4</th>\n",
       "      <td>1000984</td>\n",
       "      <td>248463</td>\n",
       "      <td>30691</td>\n",
       "      <td>248463</td>\n",
       "      <td>3099</td>\n",
       "    </tr>\n",
       "    <tr>\n",
       "      <th>5</th>\n",
       "      <td>1000988</td>\n",
       "      <td>258891</td>\n",
       "      <td>30643</td>\n",
       "      <td>258891</td>\n",
       "      <td>3099</td>\n",
       "    </tr>\n",
       "  </tbody>\n",
       "</table>\n",
       "</div>"
      ],
      "text/plain": [
       "       SelectionSort  InsertionSort  MergeSort  HeapSort  DistributionSort\n",
       "Round                                                                     \n",
       "1            1000980         243393      30658    243393              3099\n",
       "2            1000987         243461      30651    243461              3099\n",
       "3            1000987         253166      30674    253166              3099\n",
       "4            1000984         248463      30691    248463              3099\n",
       "5            1000988         258891      30643    258891              3099"
      ]
     },
     "execution_count": 137,
     "metadata": {},
     "output_type": "execute_result"
    }
   ],
   "source": [
    "Normal2ndCompare = [\n",
    "[1,EveryResult1K[0]['SelectionSort']['distributeSample']['compare'], EveryResult1K[0]['InsertionSort']['distributeSample']['compare'], EveryResult1K[0]['MergeSort']['distributeSample']['compare'], EveryResult1K[0]['HeapSort']['distributeSample']['compare'], EveryResult1K[0]['DistributionSort']['distributeSample']['compare']],\n",
    "[2,EveryResult1K[1]['SelectionSort']['distributeSample']['compare'], EveryResult1K[1]['InsertionSort']['distributeSample']['compare'], EveryResult1K[1]['MergeSort']['distributeSample']['compare'], EveryResult1K[1]['HeapSort']['distributeSample']['compare'], EveryResult1K[1]['DistributionSort']['distributeSample']['compare']],\n",
    "[3,EveryResult1K[2]['SelectionSort']['distributeSample']['compare'], EveryResult1K[2]['InsertionSort']['distributeSample']['compare'], EveryResult1K[2]['MergeSort']['distributeSample']['compare'], EveryResult1K[2]['HeapSort']['distributeSample']['compare'], EveryResult1K[2]['DistributionSort']['distributeSample']['compare']],\n",
    "[4,EveryResult1K[3]['SelectionSort']['distributeSample']['compare'], EveryResult1K[3]['InsertionSort']['distributeSample']['compare'], EveryResult1K[3]['MergeSort']['distributeSample']['compare'], EveryResult1K[3]['HeapSort']['distributeSample']['compare'], EveryResult1K[3]['DistributionSort']['distributeSample']['compare']],\n",
    "[5,EveryResult1K[4]['SelectionSort']['distributeSample']['compare'], EveryResult1K[4]['InsertionSort']['distributeSample']['compare'], EveryResult1K[4]['MergeSort']['distributeSample']['compare'], EveryResult1K[4]['HeapSort']['distributeSample']['compare'], EveryResult1K[4]['DistributionSort']['distributeSample']['compare']]\n",
    "]\n",
    "dfNormal2ndCompare = pd.DataFrame(Normal2ndCompare, columns=['Round', 'SelectionSort', 'InsertionSort', 'MergeSort', 'HeapSort', 'DistributionSort'])\n",
    "dfNormal2ndCompare =  dfNormal2ndCompare.set_index(['Round'])\n",
    "dfNormal2ndCompare"
   ]
  },
  {
   "cell_type": "code",
   "execution_count": 138,
   "metadata": {},
   "outputs": [
    {
     "data": {
      "text/plain": [
       "<AxesSubplot:ylabel='Round'>"
      ]
     },
     "execution_count": 138,
     "metadata": {},
     "output_type": "execute_result"
    },
    {
     "data": {
      "image/png": "[encoded data removed]",
      "text/plain": [
       "<Figure size 432x288 with 2 Axes>"
      ]
     },
     "metadata": {
      "needs_background": "light"
     },
     "output_type": "display_data"
    }
   ],
   "source": [
    "sns.heatmap(dfNormal2ndCompare)"
   ]
  },
  {
   "cell_type": "markdown",
   "metadata": {},
   "source": [
    "##### 10000 samples"
   ]
  },
  {
   "cell_type": "code",
   "execution_count": 139,
   "metadata": {},
   "outputs": [
    {
     "data": {
      "text/html": [
       "<div>\n",
       "<style scoped>\n",
       "    .dataframe tbody tr th:only-of-type {\n",
       "        vertical-align: middle;\n",
       "    }\n",
       "\n",
       "    .dataframe tbody tr th {\n",
       "        vertical-align: top;\n",
       "    }\n",
       "\n",
       "    .dataframe thead th {\n",
       "        text-align: right;\n",
       "    }\n",
       "</style>\n",
       "<table border=\"1\" class=\"dataframe\">\n",
       "  <thead>\n",
       "    <tr style=\"text-align: right;\">\n",
       "      <th></th>\n",
       "      <th>SelectionSort</th>\n",
       "      <th>InsertionSort</th>\n",
       "      <th>MergeSort</th>\n",
       "      <th>HeapSort</th>\n",
       "      <th>DistributionSort</th>\n",
       "    </tr>\n",
       "    <tr>\n",
       "      <th>Round</th>\n",
       "      <th></th>\n",
       "      <th></th>\n",
       "      <th></th>\n",
       "      <th></th>\n",
       "      <th></th>\n",
       "    </tr>\n",
       "  </thead>\n",
       "  <tbody>\n",
       "    <tr>\n",
       "      <th>1</th>\n",
       "      <td>100009921</td>\n",
       "      <td>24714389</td>\n",
       "      <td>407571</td>\n",
       "      <td>24714389</td>\n",
       "      <td>30099</td>\n",
       "    </tr>\n",
       "    <tr>\n",
       "      <th>2</th>\n",
       "      <td>100009914</td>\n",
       "      <td>24719058</td>\n",
       "      <td>407571</td>\n",
       "      <td>24719058</td>\n",
       "      <td>30099</td>\n",
       "    </tr>\n",
       "    <tr>\n",
       "      <th>3</th>\n",
       "      <td>100009919</td>\n",
       "      <td>24591662</td>\n",
       "      <td>407600</td>\n",
       "      <td>24591662</td>\n",
       "      <td>30099</td>\n",
       "    </tr>\n",
       "    <tr>\n",
       "      <th>4</th>\n",
       "      <td>100009927</td>\n",
       "      <td>24818130</td>\n",
       "      <td>407574</td>\n",
       "      <td>24818130</td>\n",
       "      <td>30099</td>\n",
       "    </tr>\n",
       "    <tr>\n",
       "      <th>5</th>\n",
       "      <td>100009909</td>\n",
       "      <td>24694455</td>\n",
       "      <td>407421</td>\n",
       "      <td>24694455</td>\n",
       "      <td>30099</td>\n",
       "    </tr>\n",
       "  </tbody>\n",
       "</table>\n",
       "</div>"
      ],
      "text/plain": [
       "       SelectionSort  InsertionSort  MergeSort  HeapSort  DistributionSort\n",
       "Round                                                                     \n",
       "1          100009921       24714389     407571  24714389             30099\n",
       "2          100009914       24719058     407571  24719058             30099\n",
       "3          100009919       24591662     407600  24591662             30099\n",
       "4          100009927       24818130     407574  24818130             30099\n",
       "5          100009909       24694455     407421  24694455             30099"
      ]
     },
     "execution_count": 139,
     "metadata": {},
     "output_type": "execute_result"
    }
   ],
   "source": [
    "Normal3rdCompare = [\n",
    "[1,EveryResult10K[0]['SelectionSort']['distributeSample']['compare'], EveryResult10K[0]['InsertionSort']['distributeSample']['compare'], EveryResult10K[0]['MergeSort']['distributeSample']['compare'], EveryResult10K[0]['HeapSort']['distributeSample']['compare'], EveryResult10K[0]['DistributionSort']['distributeSample']['compare']],\n",
    "[2,EveryResult10K[1]['SelectionSort']['distributeSample']['compare'], EveryResult10K[1]['InsertionSort']['distributeSample']['compare'], EveryResult10K[1]['MergeSort']['distributeSample']['compare'], EveryResult10K[1]['HeapSort']['distributeSample']['compare'], EveryResult10K[1]['DistributionSort']['distributeSample']['compare']],\n",
    "[3,EveryResult10K[2]['SelectionSort']['distributeSample']['compare'], EveryResult10K[2]['InsertionSort']['distributeSample']['compare'], EveryResult10K[2]['MergeSort']['distributeSample']['compare'], EveryResult10K[2]['HeapSort']['distributeSample']['compare'], EveryResult10K[2]['DistributionSort']['distributeSample']['compare']],\n",
    "[4,EveryResult10K[3]['SelectionSort']['distributeSample']['compare'], EveryResult10K[3]['InsertionSort']['distributeSample']['compare'], EveryResult10K[3]['MergeSort']['distributeSample']['compare'], EveryResult10K[3]['HeapSort']['distributeSample']['compare'], EveryResult10K[3]['DistributionSort']['distributeSample']['compare']],\n",
    "[5,EveryResult10K[4]['SelectionSort']['distributeSample']['compare'], EveryResult10K[4]['InsertionSort']['distributeSample']['compare'], EveryResult10K[4]['MergeSort']['distributeSample']['compare'], EveryResult10K[4]['HeapSort']['distributeSample']['compare'], EveryResult10K[4]['DistributionSort']['distributeSample']['compare']]\n",
    "]\n",
    "dfNormal3rdCompare  = pd.DataFrame(Normal3rdCompare , columns=['Round', 'SelectionSort', 'InsertionSort', 'MergeSort', 'HeapSort', 'DistributionSort'])\n",
    "dfNormal3rdCompare = dfNormal3rdCompare.set_index(['Round'])\n",
    "dfNormal3rdCompare"
   ]
  },
  {
   "cell_type": "code",
   "execution_count": 140,
   "metadata": {},
   "outputs": [
    {
     "data": {
      "text/plain": [
       "<AxesSubplot:ylabel='Round'>"
      ]
     },
     "execution_count": 140,
     "metadata": {},
     "output_type": "execute_result"
    },
    {
     "data": {
      "image/png": "[encoded data removed]",
      "text/plain": [
       "<Figure size 432x288 with 2 Axes>"
      ]
     },
     "metadata": {
      "needs_background": "light"
     },
     "output_type": "display_data"
    }
   ],
   "source": [
    "sns.heatmap(dfNormal3rdCompare)"
   ]
  },
  {
   "cell_type": "markdown",
   "metadata": {},
   "source": [
    "##### Summary\n",
    "The 100 normal random sample but focus on the comparision count.\n",
    "| Round | Selection | Insertion | Merge | Heap | Distribution | \n",
    "|:-------:|-----------|-----------|-------|------|--------------|\n",
    "| 1 | 10096 | 2425 | 2087 | 2425 |\t395 |\n",
    "| 2 | 10096 | 2488 | 2089 | 2488 |\t397 |\n",
    "| 3 | 10093 | 2732 | 2093 | 2732 |\t399 |\n",
    "| 4 | 10092 | 2346 | 2091 | 2346 |\t398 |\n",
    "| 5 | 10093 | 2658 | 2075 | 2658 |\t399 |\n",
    "\n",
    "from this table **Distribution Sort** still use comparision less time than other algorithm\n",
    "<br>\n",
    "The 1000 normal random sample but focus on the comparision count.\n",
    "| Round | Selection | Insertion | Merge | Heap | Distribution | \n",
    "|:-------:|-----------|-----------|-------|------|--------------|\n",
    "| 1 | 1000980 | 243393 | 30658 | 243393 | 3099 |\n",
    "| 2 | 1000987 | 243461 | 30651 | 243461 | 3099 |\n",
    "| 3 | 1000987 | 253166 | 30674 | 253166 | 3099 |\n",
    "| 4 | 1000984 | 248463 | 30691 | 248463 | 3099 |\n",
    "| 5 | 1000988 | 258891 | 30643 | 258891 | 3099 |\n",
    "\n",
    "The 10000 normal random sample but focus on the comparision count.\n",
    "| Round | Selection | Insertion | Merge | Heap | Distribution | \n",
    "|:-------:|-----------|-----------|-------|------|--------------|\n",
    "| 1 | 100009921 | 24714389 | 407571 | 24714389 | 30099 |\n",
    "| 2 | 100009914 | 24719058 | 407571 | 24719058 | 30099 |\n",
    "| 3 | 100009919 | 24591662 | 407600 | 24591662 | 30099 |\n",
    "| 4 | 100009927 | 24818130 | 407574 | 24818130 | 30099 |\n",
    "| 5 | 100009909 | 24694455 | 407421 | 24694455 | 30099 |\n",
    "\n",
    "\n",
    "from the 3 table from above we can see Heap sort maybe not compatible with distributive sample. In other meaning using Distribution sort or Merge sort is better than Heap sort.<br/>"
   ]
  },
  {
   "cell_type": "markdown",
   "metadata": {},
   "source": [
    "## Summary of Experiment"
   ]
  },
  {
   "cell_type": "markdown",
   "metadata": {},
   "source": [
    "In summary. Each algorithm has its own advantages which depend on situation(scale, data pattern, etc.)\n",
    "but in this experiment We have concluded as followed\n",
    "1. Decrease and Conquer algorithm strategy(Selection, Insertion) is suitable for beginer and a few data sample.\n",
    "2. Divide and Conquer algorithm strategy is suitable for every data scale.\n",
    "3. Merge sort if you have limit memory, maybe other algorithm is better.\n",
    "4. Except Heap sort that not compatible for distributive sample (compare with other Divide and Conquer algorithm strategy) this algorithm running time and comapre times equal or worse than insertion sort\n",
    "5. Run time of each algorithm is varies by comparision time and other thing(swap, variable access)."
   ]
  },
  {
   "cell_type": "markdown",
   "metadata": {},
   "source": [
    "### Limit of Experiment\n",
    "- Time limit make me can't test other case like sort the sorted array, revert array etc."
   ]
  },
  {
   "cell_type": "markdown",
   "metadata": {},
   "source": [
    "Author\n",
    "-------------\n",
    "Punnawat Namwongsa [64070501032] <br>\n",
    "@CPE KMUTT"
   ]
  }
 ],
 "metadata": {
  "kernelspec": {
   "display_name": "Python 3.9.12 ('SpeechRec')",
   "language": "python",
   "name": "python3"
  },
  "language_info": {
   "codemirror_mode": {
    "name": "ipython",
    "version": 3
   },
   "file_extension": ".py",
   "mimetype": "text/x-python",
   "name": "python",
   "nbconvert_exporter": "python",
   "pygments_lexer": "ipython3",
   "version": "3.9.12"
  },
  "orig_nbformat": 4,
  "vscode": {
   "interpreter": {
    "hash": "86d3a50532539a39c0f3f69ccd557458e38e4ce355bfe9ccdc1627657ba6dfbd"
   }
  }
 },
 "nbformat": 4,
 "nbformat_minor": 2
}
