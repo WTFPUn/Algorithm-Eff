{
 "cells": [
  {
   "cell_type": "markdown",
   "metadata": {},
   "source": [
    "# Sorting Experiment\n",
    "To find which algorithm is faster\n",
    "\n",
    "---\n",
    "\n",
    "using 5 algorithm\n",
    "1. Selection Sort\n",
    "2. Insertion Sort\n",
    "3. Heap Sort\n",
    "4. Merge Sort\n",
    "5. Distribution Sort"
   ]
  },
  {
   "cell_type": "markdown",
   "metadata": {},
   "source": [
    "## Project Initialize"
   ]
  },
  {
   "cell_type": "code",
   "execution_count": 1,
   "metadata": {},
   "outputs": [],
   "source": [
    "# !pip install numpy\n",
    "# !pip install pandas"
   ]
  },
  {
   "cell_type": "code",
   "execution_count": 1,
   "metadata": {},
   "outputs": [],
   "source": [
    "import numpy as np\n",
    "import pandas as pd"
   ]
  },
  {
   "cell_type": "markdown",
   "metadata": {},
   "source": [
    "## Function Initialize"
   ]
  },
  {
   "cell_type": "markdown",
   "metadata": {},
   "source": [
    "### 1. Selection Sort"
   ]
  },
  {
   "cell_type": "markdown",
   "metadata": {},
   "source": [
    "#### Pseudo Code\n",
    "\n",
    "<div style=\"background-color:rgba(0, 0, 0, 0.0470588); padding:10px 0;font-family:monospace;\">\n",
    "  <div style=\"border-style:none none solid none; width:500px;margin-left:20px;\"><b>Algorithm</b>: Selection Sort</div>\n",
    "  <p>1.&nbsp;&nbsp;<b>for</b> i = 1 <b>to</b> n-1 <b>do</b></p>\n",
    "  <p>2.&nbsp;&nbsp;&nbsp;&nbsp;min = i</p>\n",
    "  <p>3.&nbsp;&nbsp;&nbsp;&nbsp;<b>for</b> j = i + 1 <b>to</b> n <b>do</b></p>\n",
    "  <p>4.&nbsp;&nbsp;&nbsp;&nbsp;&nbsp;&nbsp;<b>if</b> array[j] < array[min] <b>then</b></p>\n",
    "  <p>5.&nbsp;&nbsp;&nbsp;&nbsp;&nbsp;&nbsp;&nbsp;&nbsp;min = j</p>\n",
    "  <p>6.&nbsp;&nbsp;&nbsp;&nbsp;&nbsp;&nbsp;<b>if</b> min != i <b>then</b></p>\n",
    "  <p>7.&nbsp;&nbsp;&nbsp;&nbsp;&nbsp;&nbsp;&nbsp;&nbsp;swap(array[min], arrai[i])</p>\n",
    "  <p>8.&nbsp;&nbsp;&nbsp;&nbsp;<b>end for</b></p>\n",
    "  <p>9.&nbsp;&nbsp;<b>end for</b></p>\n",
    "</div>"
   ]
  },
  {
   "cell_type": "markdown",
   "metadata": {},
   "source": [
    "#### Python Code"
   ]
  },
  {
   "cell_type": "code",
   "execution_count": 2,
   "metadata": {},
   "outputs": [],
   "source": [
    "def SelectionSort(Array: np.ndarray):\n",
    "  compare = 0\n",
    "  out = np.copy(Array)\n",
    "  length = len(out)\n",
    "  for i in range(0, length-1):\n",
    "    minIndex = i\n",
    "    for j in range(i+1, length):\n",
    "      minIndex = j if out[j] < out[minIndex] else minIndex\n",
    "      # print('compare')\n",
    "      compare+=1\n",
    "    if minIndex != i:\n",
    "      out[minIndex], out[i] = out[i], out[minIndex]\n",
    "      compare+=1\n",
    "      # print('compare')\n",
    "  return out, compare"
   ]
  },
  {
   "cell_type": "code",
   "execution_count": 3,
   "metadata": {},
   "outputs": [
    {
     "name": "stdout",
     "output_type": "stream",
     "text": [
      "(array([2, 4, 5, 7, 8]), 13)\n"
     ]
    }
   ],
   "source": [
    "a = np.array([8,7,2,4,5])\n",
    "print(SelectionSort(a))"
   ]
  },
  {
   "cell_type": "markdown",
   "metadata": {},
   "source": [
    "### 2. Insertion Sort"
   ]
  },
  {
   "cell_type": "markdown",
   "metadata": {},
   "source": [
    "#### Pseudo Code\n",
    "<div style=\"background-color:rgba(0, 0, 0, 0.0470588); padding:10px 0;font-family:monospace;\">\n",
    "<div style=\"border-style:none none solid none; width:500px;margin-left:20px;\"><b>Algorithm</b>: Insertion Sort</div>\n",
    "<p>1.&nbsp;&nbsp;<b>for</b> j = 1 <b>to</b> length(A) <b>do</b></p>\n",
    "<p>2.&nbsp;&nbsp;&nbsp;&nbsp;key = A[j]</p>\n",
    "<p>3.&nbsp;&nbsp;&nbsp;&nbsp;i = j - 1</p>\n",
    "<p>4.&nbsp;&nbsp;&nbsp;&nbsp;<b>while</b> i >= 0 <b>and</b> key < out[i] <b>do</b></p>\n",
    "<p>5.&nbsp;&nbsp;&nbsp;&nbsp;&nbsp;&nbsp;A[i+1] = A[i]</p>\n",
    "<p>6.&nbsp;&nbsp;&nbsp;&nbsp;&nbsp;&nbsp;i = i - 1</p>\n",
    "<p>7.&nbsp;&nbsp;&nbsp;&nbsp;<b>end while</b></p>\n",
    "<p>8.&nbsp;&nbsp;&nbsp;&nbsp;A[i+1] = key</p>\n",
    "<p>9.&nbsp;&nbsp;<b>end for</b></p>\n",
    "</div>"
   ]
  },
  {
   "cell_type": "markdown",
   "metadata": {},
   "source": [
    "#### Python Code"
   ]
  },
  {
   "cell_type": "code",
   "execution_count": 4,
   "metadata": {},
   "outputs": [],
   "source": [
    "def InsertionSort(Array: np.ndarray):\n",
    "  out = np.copy(Array)\n",
    "  compare = 0\n",
    "\n",
    "  for j in range(1, len(out)):\n",
    "    key = out[j]\n",
    "    i = j - 1\n",
    "    compare+=1\n",
    "    while i >= 0 and key < out[i] :\n",
    "      out[i+1] = out[i]\n",
    "      i = i - 1\n",
    "      compare+=1\n",
    "    out[i+1] = key\n",
    "  return out, compare"
   ]
  },
  {
   "cell_type": "markdown",
   "metadata": {},
   "source": [
    "### 3. Heap Sort"
   ]
  },
  {
   "cell_type": "markdown",
   "metadata": {},
   "source": [
    "#### Part of Heap Sort\n",
    "To use this algorithm we must have 2 part of this sort\n",
    "1. Heapify(Min Heapify)\n",
    "2. Heap sort\n",
    "\n",
    "**P.S.** using Min Heap, and Heapify because need this algorithm ascending priority(Max Heap is descending priority)."
   ]
  },
  {
   "cell_type": "markdown",
   "metadata": {},
   "source": [
    "#### Pseudo Code: Heapify\n",
    "<div style=\"background-color:rgba(0, 0, 0, 0.0470588); padding:10px 0;font-family:monospace;\">\n",
    "<div style=\"border-style:none none solid none; width:500px;margin-left:20px;\">Algorithm: Heapify</div>\n",
    "<p>1.&nbsp;&nbsp;left = 2 * index + 1</p>\n",
    "<p>2.&nbsp;&nbsp;right = 2 * index + 2</p>\n",
    "<p>3.&nbsp;&nbsp;<b>if</b> left < max <b>and</b> A[left] < A[index] <b>then</b></p>\n",
    "<p>4.&nbsp;&nbsp;&nbsp;&nbsp;largest = left</p>\n",
    "<p>5.&nbsp;&nbsp;<b>else</b> largest = index</p>\n",
    "<p>6.&nbsp;&nbsp;<b>if</b> right < max  and A[right] < A[largest] <b>then</b></p>\n",
    "<p>7.&nbsp;&nbsp;&nbsp;&nbsp;largest = right</p>\n",
    "<p>8.&nbsp;&nbsp;<b>if</b> largest != index <b>then</b></p>\n",
    "<p>9.&nbsp;&nbsp;&nbsp;&nbsp;swap(A[i], A[largest])</p>\n",
    "<p>10.&nbsp;&nbsp;&nbsp;&nbsp;<b>Heapify(A, largest, max)</b></p>\n",
    "</div>"
   ]
  },
  {
   "cell_type": "markdown",
   "metadata": {},
   "source": [
    "#### Python Code: Heapify(Min Heap)"
   ]
  },
  {
   "cell_type": "code",
   "execution_count": 5,
   "metadata": {},
   "outputs": [],
   "source": [
    "def Heapify(Array: np.ndarray, N: int, i: int, compare: int):\n",
    "  left = 2 * i + 1\n",
    "  right = 2 * i + 2\n",
    "\n",
    "  if left < N and Array[left] < Array[i]:\n",
    "    largest = left\n",
    "  else :\n",
    "    largest = i\n",
    "  compare+=1\n",
    "  largest = right if right < N and Array[right] < Array[largest] else largest\n",
    "  compare+=1\n",
    "  if largest != i:\n",
    "    Array[i], Array[largest] = Array[largest], Array[i]\n",
    "    Heapify(Array, N, largest)\n",
    "  return compare"
   ]
  },
  {
   "cell_type": "markdown",
   "metadata": {},
   "source": [
    "#### Pseudo Code: Heap Sort\n",
    "<div style=\"background-color:rgba(0, 0, 0, 0.0470588); padding:10px 0;font-family:monospace;\">\n",
    "  <div style=\"border-style:none none solid none; width:500px;margin-left:20px;\"><b>Algorithm</b>: Heap Sort</div>\n",
    "  <p>1.&nbsp;&nbsp;N = A.length()</p>\n",
    "  <p>2.&nbsp;&nbsp;<b>for</b> i = floor(N/2 - 1) <b>downto</b> 0 <b>do</b></p>\n",
    "  <p>3.&nbsp;&nbsp;&nbsp;&nbsp;<b>Heapify(A, N, i)</b></p>\n",
    "  <p>4.&nbsp;&nbsp;<b>for</b> i = N - 1 <b>downto</b> 1 <b>do</b></p>\n",
    "  <p>5.&nbsp;&nbsp;&nbsp;&nbsp;<b>swap(A[i], A[0])</b></p>\n",
    "  <p>6.&nbsp;&nbsp;&nbsp;&nbsp;<b>Heapify(A, i, 0)</b></p>\n",
    "</div>"
   ]
  },
  {
   "cell_type": "markdown",
   "metadata": {},
   "source": [
    "#### Python Code: Heap Sort"
   ]
  },
  {
   "cell_type": "code",
   "execution_count": 27,
   "metadata": {},
   "outputs": [],
   "source": [
    "def HeapSort(Array: np.ndarray):\n",
    "  out = np.copy(Array)\n",
    "  N = len(out)\n",
    "  compare = 0\n",
    "  for i in range(N//2, -1, -1):\n",
    "    compare = Heapify(out, N, i, compare)\n",
    "  for i in range(N-1, 0, 1):\n",
    "    out[i], out[0] = out[0], out[i]\n",
    "    Heapify(out, i, 0, compare)\n",
    "  return out, compare"
   ]
  },
  {
   "cell_type": "code",
   "execution_count": 7,
   "metadata": {},
   "outputs": [
    {
     "ename": "TypeError",
     "evalue": "Heapify() missing 1 required positional argument: 'compare'",
     "output_type": "error",
     "traceback": [
      "\u001b[1;31m---------------------------------------------------------------------------\u001b[0m",
      "\u001b[1;31mTypeError\u001b[0m                                 Traceback (most recent call last)",
      "\u001b[1;32mc:\\Users\\USER\\OneDrive\\Documents\\Python\\New folder\\SortingExperiment.ipynb Cell 23\u001b[0m in \u001b[0;36m<cell line: 2>\u001b[1;34m()\u001b[0m\n\u001b[0;32m      <a href='vscode-notebook-cell:/c%3A/Users/USER/OneDrive/Documents/Python/New%20folder/SortingExperiment.ipynb#X31sZmlsZQ%3D%3D?line=0'>1</a>\u001b[0m arr \u001b[39m=\u001b[39m [\u001b[39m12\u001b[39m, \u001b[39m11\u001b[39m, \u001b[39m13\u001b[39m, \u001b[39m5\u001b[39m, \u001b[39m6\u001b[39m, \u001b[39m7\u001b[39m]\n\u001b[1;32m----> <a href='vscode-notebook-cell:/c%3A/Users/USER/OneDrive/Documents/Python/New%20folder/SortingExperiment.ipynb#X31sZmlsZQ%3D%3D?line=1'>2</a>\u001b[0m HeapSort(arr)\n",
      "\u001b[1;32mc:\\Users\\USER\\OneDrive\\Documents\\Python\\New folder\\SortingExperiment.ipynb Cell 23\u001b[0m in \u001b[0;36mHeapSort\u001b[1;34m(Array)\u001b[0m\n\u001b[0;32m      <a href='vscode-notebook-cell:/c%3A/Users/USER/OneDrive/Documents/Python/New%20folder/SortingExperiment.ipynb#X31sZmlsZQ%3D%3D?line=3'>4</a>\u001b[0m compare \u001b[39m=\u001b[39m \u001b[39m0\u001b[39m\n\u001b[0;32m      <a href='vscode-notebook-cell:/c%3A/Users/USER/OneDrive/Documents/Python/New%20folder/SortingExperiment.ipynb#X31sZmlsZQ%3D%3D?line=4'>5</a>\u001b[0m \u001b[39mfor\u001b[39;00m i \u001b[39min\u001b[39;00m \u001b[39mrange\u001b[39m(N\u001b[39m/\u001b[39m\u001b[39m/\u001b[39m\u001b[39m2\u001b[39m, \u001b[39m-\u001b[39m\u001b[39m1\u001b[39m, \u001b[39m-\u001b[39m\u001b[39m1\u001b[39m):\n\u001b[1;32m----> <a href='vscode-notebook-cell:/c%3A/Users/USER/OneDrive/Documents/Python/New%20folder/SortingExperiment.ipynb#X31sZmlsZQ%3D%3D?line=5'>6</a>\u001b[0m   compare \u001b[39m=\u001b[39m Heapify(out, N, i, compare)\n\u001b[0;32m      <a href='vscode-notebook-cell:/c%3A/Users/USER/OneDrive/Documents/Python/New%20folder/SortingExperiment.ipynb#X31sZmlsZQ%3D%3D?line=6'>7</a>\u001b[0m \u001b[39mfor\u001b[39;00m i \u001b[39min\u001b[39;00m \u001b[39mrange\u001b[39m(N\u001b[39m-\u001b[39m\u001b[39m1\u001b[39m, \u001b[39m0\u001b[39m, \u001b[39m1\u001b[39m):\n\u001b[0;32m      <a href='vscode-notebook-cell:/c%3A/Users/USER/OneDrive/Documents/Python/New%20folder/SortingExperiment.ipynb#X31sZmlsZQ%3D%3D?line=7'>8</a>\u001b[0m   out[i], out[\u001b[39m0\u001b[39m] \u001b[39m=\u001b[39m out[\u001b[39m0\u001b[39m], out[i]\n",
      "\u001b[1;32mc:\\Users\\USER\\OneDrive\\Documents\\Python\\New folder\\SortingExperiment.ipynb Cell 23\u001b[0m in \u001b[0;36mHeapify\u001b[1;34m(Array, N, i, compare)\u001b[0m\n\u001b[0;32m     <a href='vscode-notebook-cell:/c%3A/Users/USER/OneDrive/Documents/Python/New%20folder/SortingExperiment.ipynb#X31sZmlsZQ%3D%3D?line=11'>12</a>\u001b[0m \u001b[39mif\u001b[39;00m largest \u001b[39m!=\u001b[39m i:\n\u001b[0;32m     <a href='vscode-notebook-cell:/c%3A/Users/USER/OneDrive/Documents/Python/New%20folder/SortingExperiment.ipynb#X31sZmlsZQ%3D%3D?line=12'>13</a>\u001b[0m   Array[i], Array[largest] \u001b[39m=\u001b[39m Array[largest], Array[i]\n\u001b[1;32m---> <a href='vscode-notebook-cell:/c%3A/Users/USER/OneDrive/Documents/Python/New%20folder/SortingExperiment.ipynb#X31sZmlsZQ%3D%3D?line=13'>14</a>\u001b[0m   Heapify(Array, N, largest)\n\u001b[0;32m     <a href='vscode-notebook-cell:/c%3A/Users/USER/OneDrive/Documents/Python/New%20folder/SortingExperiment.ipynb#X31sZmlsZQ%3D%3D?line=14'>15</a>\u001b[0m \u001b[39mreturn\u001b[39;00m compare\n",
      "\u001b[1;31mTypeError\u001b[0m: Heapify() missing 1 required positional argument: 'compare'"
     ]
    }
   ],
   "source": [
    "arr = [12, 11, 13, 5, 6, 7]\n",
    "HeapSort(arr)"
   ]
  },
  {
   "cell_type": "markdown",
   "metadata": {},
   "source": [
    "### 4. Merge Sort"
   ]
  },
  {
   "cell_type": "markdown",
   "metadata": {},
   "source": [
    "#### Part of Merge Sort\n",
    "To use this algorithm we must have 2 part of this sort\n",
    "1. Merge\n",
    "2. Merge sort"
   ]
  },
  {
   "cell_type": "markdown",
   "metadata": {},
   "source": [
    "#### Pseudo Code: Merge\n",
    "<div style=\"background-color:rgba(0, 0, 0, 0.0470588); padding:10px 0;font-family:monospace;\">\n",
    "  <div style=\"border-style:none none solid none; width:500px;margin-left:20px;\"><b>Algorithm</b>: Merge</div>\n",
    "  <p>1.&nbsp;&nbsp;n1 = m - l + 1</p>\n",
    "  <p>2.&nbsp;&nbsp;n2 = r - m</p>\n",
    "  <p>3.&nbsp;&nbsp;<b>declare</b> L[n1]</p>\n",
    "  <p>4.&nbsp;&nbsp;<b>declare</b> R[n2]</p>\n",
    "  <p>5.&nbsp;&nbsp;<b>for</b> i = 0 <b>to</b>  n1 - 1 <b>do</b></p>\n",
    "  <p>6.&nbsp;&nbsp;&nbsp;&nbsp;L[i] = A[l + i]</p>\n",
    "  <p>7.&nbsp;&nbsp;<b>end for</b></p>\n",
    "  <p>8.&nbsp;&nbsp;<b>for</b> j = 0 <b>to</b>  n2 - 1 <b>do</b></p>\n",
    "  <p>9.&nbsp;&nbsp;&nbsp;&nbsp;R[j] = A[m + 1 + j ]</p>\n",
    "  <p>10.&nbsp;&nbsp;<b>end for</b></p>\n",
    "  <p>11.&nbsp;&nbsp;i,j = 0</p>\n",
    "  <p>12.&nbsp;&nbsp;k = l</p>\n",
    "  <p>13.&nbsp;&nbsp;<b>while</b> i < n1 <b>and</b> j < n2 <b>do</b>\n",
    "  <p>14.&nbsp;&nbsp;&nbsp;&nbsp;<b>if</b> L[i] <= R[j] <b>then</b></p>\n",
    "  <p>15.&nbsp;&nbsp;&nbsp;&nbsp;&nbsp;&nbsp;<b>A[k] = L[i]</p>\n",
    "  <p>16.&nbsp;&nbsp;&nbsp;&nbsp;&nbsp;&nbsp;<b>i = i + 1</p>\n",
    "  <p>17.&nbsp;&nbsp;&nbsp;&nbsp;<b>else</b></p>\n",
    "  <p>18.&nbsp;&nbsp;&nbsp;&nbsp;&nbsp;&nbsp;<b>A[k] = R[j]</p>\n",
    "  <p>19.&nbsp;&nbsp;&nbsp;&nbsp;&nbsp;&nbsp;<b>j = j + 1</p>\n",
    "  <p>20.&nbsp;&nbsp;&nbsp;&nbsp;k = k + 1</p>\n",
    "  <p>21.&nbsp;&nbsp;<b>end while</b></p>\n",
    "  <p>22.&nbsp;&nbsp;<b>while</b> i < n1 <b>do</b></p>\n",
    "  <p>23.&nbsp;&nbsp;&nbsp;&nbsp;A[k] = L[i]</p>\n",
    "  <p>24.&nbsp;&nbsp;&nbsp;&nbsp;i = i + 1</p>\n",
    "  <p>25.&nbsp;&nbsp;&nbsp;&nbsp;k = k + 1</p>\n",
    "  <p>26.&nbsp;&nbsp;<b>end while</b></p>\n",
    "  <p>27.&nbsp;&nbsp;<b>while</b> j < n2 <b>do</b></p>\n",
    "  <p>28.&nbsp;&nbsp;&nbsp;&nbsp;A[k] = R[j]</p>\n",
    "  <p>29.&nbsp;&nbsp;&nbsp;&nbsp;j = j + 1</p>\n",
    "  <p>30.&nbsp;&nbsp;&nbsp;&nbsp;k = k + 1</p>\n",
    "  <p>31.&nbsp;&nbsp;<b>end while</b></p>\n",
    "</div>"
   ]
  },
  {
   "cell_type": "markdown",
   "metadata": {},
   "source": [
    "#### Python Code: Merge"
   ]
  },
  {
   "cell_type": "code",
   "execution_count": 8,
   "metadata": {},
   "outputs": [],
   "source": [
    "def Merge(Array: np.ndarray, left: int, mid: int, right: int, compare: int):\n",
    "  n1 = mid - left + 1\n",
    "  n2 = right - mid\n",
    "\n",
    "  L = np.zeros([n1])\n",
    "  R = np.zeros([n2])\n",
    "\n",
    "  for i in range(0, n1):\n",
    "    L[i] = Array[left + i]\n",
    "  for j in range(0, n2):\n",
    "    R[j] = Array[mid + 1 + j]\n",
    "\n",
    "  i, j, k = 0, 0, left\n",
    "\n",
    "  while i < n1 and j < n2:\n",
    "    if L[i] <= R[j]:\n",
    "      Array[k] = L[i]\n",
    "      i+=1\n",
    "    else:\n",
    "      Array[k] = R[j]\n",
    "      j+=1\n",
    "    k+=1\n",
    "    compare+=1\n",
    "\n",
    "  while i < n1:\n",
    "     Array[k] = L[i]\n",
    "     i+=1\n",
    "     k+=1\n",
    "  while j < n2:\n",
    "     Array[k] = R[j]\n",
    "     j+=1\n",
    "     k+=1\n",
    "  return compare"
   ]
  },
  {
   "cell_type": "markdown",
   "metadata": {},
   "source": [
    "#### Pseudo Code: Merge Sort\n",
    "<div style=\"background-color:rgba(0, 0, 0, 0.0470588); padding:10px 0;font-family:monospace;\">\n",
    "  <div style=\"border-style:none none solid none; width:500px;margin-left:20px;\"><b>Algorithm</b>: Merge Sort</div>\n",
    "  <p>1.&nbsp;&nbsp;<b>if</b> l < r <b>then</b></p>\n",
    "  <p>2.&nbsp;&nbsp;&nbsp;&nbsp;m = <b>floor</b>(l + r-l / 2)</p>\n",
    "  <p>3.&nbsp;&nbsp;&nbsp;&nbsp;<b>mergeSort</b>(A, l, m)</p>\n",
    "  <p>4.&nbsp;&nbsp;&nbsp;&nbsp;<b>mergeSort</b>(A, m + 1, r)</p>\n",
    "  <p>5.&nbsp;&nbsp;&nbsp;&nbsp;<b>merge</b>(A, l, m, r)</p>\n",
    "</div>"
   ]
  },
  {
   "cell_type": "markdown",
   "metadata": {},
   "source": [
    "#### Pythhon Code: Merge Sort"
   ]
  },
  {
   "cell_type": "code",
   "execution_count": 9,
   "metadata": {},
   "outputs": [],
   "source": [
    "def MergeSort(Array: np.ndarray, left: int, right: int, compare: int):\n",
    "  # out = np.copy(Array) => recursive fnc can't copy, copy them before run fnc\n",
    "  if left < right:\n",
    "    mid = left + (right - left) // 2\n",
    "    compare = MergeSort(Array, left, mid, compare)\n",
    "    compare = MergeSort(Array, mid + 1, right, compare)\n",
    "    compare = Merge(Array, left, mid, right, compare)\n",
    "  return compare"
   ]
  },
  {
   "cell_type": "markdown",
   "metadata": {},
   "source": [
    "### 5. Distribution Sort"
   ]
  },
  {
   "cell_type": "markdown",
   "metadata": {},
   "source": [
    "#### Pseudo Code\n",
    "<div style=\"background-color:rgba(0, 0, 0, 0.0470588); padding:10px 0;font-family:monospace;\">\n",
    "  <div style=\"margin-left:20px;\"><b>Algorithm</b>: DistributionCountingSort(A, l, u)</div>\n",
    "  <div style=\"border-style:none none solid none; width:500px;margin-left:20px;\"><b>Input:</b> A Array of integer, l is integer of left index, u</div>\n",
    "  <p>1.&nbsp;&nbsp;<b>for</b> i = 0 <b>to</b> A.length() <b>do</b></p>\n",
    "  <p>2.&nbsp;&nbsp;&nbsp;&nbsp;out[i] = 0</p>\n",
    "  <p>3.&nbsp;&nbsp;<b>end for</b></p>\n",
    "  <p>4.&nbsp;&nbsp;<b>for</b> i = 0 <b>to</b> u - l + 1 <b>do</b></p>\n",
    "  <p>5.&nbsp;&nbsp;&nbsp;&nbsp;<b>count[i] = 0</p>\n",
    "  <p>6.&nbsp;&nbsp;<b>end for</b></p>\n",
    "  <p>7.&nbsp;&nbsp;<b>for</b> i = 0 <b>to</b> A.length() <b>do</b></p>\n",
    "  <p>8.&nbsp;&nbsp;&nbsp;&nbsp;count[A[i]] = count[A[i]] + 1</p>\n",
    "  <p>9.&nbsp;&nbsp;<b>end for</b></p>\n",
    "  <p>10.&nbsp;&nbsp;<b>for</b> i = 0 <b>to</b> maxVal - minVal + 1 <b>do</b></p>\n",
    "  <p>11.&nbsp;&nbsp;&nbsp;&nbsp;count[i] = count[i] + count[i - 1]</p>\n",
    "  <p>12.&nbsp;&nbsp;<b>end for</b></p>\n",
    "  <p>13.&nbsp;&nbsp;i = A.length() - 1</p>\n",
    "  <p>14.&nbsp;&nbsp;<b>while</b> i >= 0</p>\n",
    "  <p>15.&nbsp;&nbsp;&nbsp;&nbsp;out[count[i] - 1] = A[i]</p>\n",
    "  <p>16.&nbsp;&nbsp;&nbsp;&nbsp;count[A[i]] = count[A[i]] - 1</p>\n",
    "  <p>17.&nbsp;&nbsp;&nbsp;&nbsp;i = i - 1</p>\n",
    "  <p>18.&nbsp;&nbsp;<b>end while</b></p>\n",
    "  <p>19.&nbsp;&nbsp;<b>for</b> i = 0 <b>to</b> A.length() - 1 <b>do</b></p>\n",
    "  <p>20.&nbsp;&nbsp;&nbsp;&nbsp;A[i] = out[i]</p>\n",
    "  <p>21.&nbsp;&nbsp;<b>end for</b></p>\n",
    "  <p>22.&nbsp;&nbsp;<b>return A</b></p>\n",
    "</div>"
   ]
  },
  {
   "cell_type": "markdown",
   "metadata": {},
   "source": [
    "#### Python Code"
   ]
  },
  {
   "cell_type": "code",
   "execution_count": 99,
   "metadata": {},
   "outputs": [],
   "source": [
    "def DistributionSort(Array: np.ndarray, minVal: int, maxVal: int):\n",
    "  cpy = np.copy(Array)\n",
    "  out = np.zeros([len(cpy)], dtype=np.int32)\n",
    "\n",
    "  cnt = np.zeros([maxVal - minVal + 2], dtype=np.int32)\n",
    "\n",
    "  for i in range(0, len(cpy)):\n",
    "    cnt[cpy[i] - minVal + 1]+=1\n",
    "  # for i in range(1, maxVal - minVal + 2):\n",
    "  #   cnt[i]+=cnt[i - 1]\n",
    "  # print(f\"{cnt} cnt sum freq\")\n",
    "  # i = len(cpy)\n",
    "  # while i >= 0:\n",
    "  #   out[cnt[cpy[i] - minVal+1] - 1] = cpy[i]\n",
    "  #   cnt[cpy[i] - minVal ]-=1\n",
    "  #   i-=1\n",
    "  #   print(out)\n",
    "  stack = 0\n",
    "  for i in range(1,len(cnt)):\n",
    "    for j in range(cnt[i]):\n",
    "      out[stack] = minVal + i - 1\n",
    "      stack+=1\n",
    "  for i in range(0, len(cpy)):  \n",
    "    cpy[i] = out[i]\n",
    "\n",
    "  return cpy"
   ]
  },
  {
   "cell_type": "markdown",
   "metadata": {},
   "source": [
    "## Initial Test Sample"
   ]
  },
  {
   "cell_type": "markdown",
   "metadata": {},
   "source": [
    "### Type of test\n",
    "to test what algorithm is better we need to create an various sample of test. for this test We have **2** type of test\n",
    "\n",
    "1. [runtime speed](#runtime-speed-test)\n",
    "      - To test what algorithm complete the run fastest in the same hardware and same sample\n",
    "2. [number of comparation times](#comparation-times-test)\n",
    "      - To check which algorithm has the least number of comparisons.\n",
    "      - Except **Distribution Sort** cause they didn't compare the number to sort.\n"
   ]
  },
  {
   "cell_type": "markdown",
   "metadata": {},
   "source": [
    "### Type of sample\n",
    "To test what algorithm complete the process with same Hardware. We use **numpy** to generate random 1000 sample of Integer. but to be fair The **Distribution Sort** is useful when the sample is high repetitive. Then I introduce the second test sample using normal Distribution sample the data that have many duplicate number to test efficientcy all algorithm especially **Distribution Sort**.\n",
    "\n",
    "Type of sample\n",
    "1. random value\n",
    "2. random value using normal Distribution"
   ]
  },
  {
   "cell_type": "markdown",
   "metadata": {},
   "source": [
    "### Create the sample(Coding part)"
   ]
  },
  {
   "cell_type": "code",
   "execution_count": 12,
   "metadata": {},
   "outputs": [],
   "source": [
    "# !pip install scipy\n",
    "# !pip install matplitlib"
   ]
  },
  {
   "cell_type": "markdown",
   "metadata": {},
   "source": [
    "#### Normal random sample\n",
    "from the code below we use ```np.random.choice()``` to select number in range 1 to 9 by using ```np.arange(10)``` for 100000 times and keep them in list name ```normalSample```"
   ]
  },
  {
   "cell_type": "code",
   "execution_count": 13,
   "metadata": {},
   "outputs": [
    {
     "data": {
      "image/png": "[encoded data removed]",
      "text/plain": [
       "<Figure size 432x288 with 1 Axes>"
      ]
     },
     "metadata": {
      "needs_background": "light"
     },
     "output_type": "display_data"
    },
    {
     "data": {
      "text/plain": [
       "10000"
      ]
     },
     "execution_count": 13,
     "metadata": {},
     "output_type": "execute_result"
    }
   ],
   "source": [
    "import matplotlib.pyplot as plt\n",
    "normalSample = [np.random.choice(np.arange(100)) for i in range(10000)]\n",
    "plt.hist(normalSample)\n",
    "plt.show()\n",
    "normalSample.__len__()\n",
    "# normalSample\n",
    "# delete comment to see result of random sample process."
   ]
  },
  {
   "cell_type": "markdown",
   "metadata": {},
   "source": [
    "#### Normal Distribution  sample\n",
    "Using [scipy](https://docs.scipy.org/doc/scipy/reference/generated/scipy.stats.truncnorm.html) to truncate normal distribution sample and put the parameter range of sample ``` (lower - mu) / sigma ``` and ```(upper - mu) / sigma``` then set mean by ```loc = mu``` and set ```scale = sigma``` to complete parameter of ```truncnorm()```.\n",
    "\n",
    "Then use method ```rvs(n)``` to random variate ```n``` sample and keep them in list name ```DistributeSample```."
   ]
  },
  {
   "cell_type": "code",
   "execution_count": 14,
   "metadata": {},
   "outputs": [
    {
     "data": {
      "image/png": "[encoded data removed]",
      "text/plain": [
       "<Figure size 432x288 with 1 Axes>"
      ]
     },
     "metadata": {
      "needs_background": "light"
     },
     "output_type": "display_data"
    },
    {
     "name": "stdout",
     "output_type": "stream",
     "text": [
      "10000\n"
     ]
    }
   ],
   "source": [
    "import matplotlib.pyplot as plt\n",
    "import scipy.stats as stats\n",
    "\n",
    "lower, upper = 1, 100 # range of number\n",
    "mu, sigma = 50, 50 # mean, scale\n",
    "X = stats.truncnorm(\n",
    "    (lower - mu) / sigma, (upper - mu) / sigma, loc=mu, scale=sigma)\n",
    "\n",
    "DistributeSample = np.floor(X.rvs(10000))\n",
    "plt.hist(DistributeSample)\n",
    "plt.show()\n",
    "print(DistributeSample.__len__())"
   ]
  },
  {
   "cell_type": "markdown",
   "metadata": {},
   "source": [
    "## Test the algorithm\n",
    "to reckcon time we neew python module **time** to keep time from start and end then subtract them."
   ]
  },
  {
   "cell_type": "code",
   "execution_count": 15,
   "metadata": {},
   "outputs": [],
   "source": [
    "import time"
   ]
  },
  {
   "cell_type": "markdown",
   "metadata": {},
   "source": [
    "#### Result Storage\n",
    "using ```dict``` type to keep all result from every algorithm"
   ]
  },
  {
   "cell_type": "code",
   "execution_count": 16,
   "metadata": {},
   "outputs": [],
   "source": [
    "result = {\n",
    "  'SelectionSort':{\n",
    "    'normalSample': {\n",
    "      'output': np.ndarray,\n",
    "      'compare': int,\n",
    "      'time': 0.0,\n",
    "    },\n",
    "    'distributeSample': {\n",
    "      'output': np.ndarray,\n",
    "      'compare': int,\n",
    "      'time': 0.0,\n",
    "    },\n",
    "  },\n",
    "  'InsertionSort':{\n",
    "    'normalSample': {\n",
    "      'output': np.ndarray,\n",
    "      'compare': int,\n",
    "      'time': 0.0,\n",
    "    },\n",
    "    'distributeSample': {\n",
    "      'output': np.ndarray,\n",
    "      'compare': int,\n",
    "      'time': 0.0,\n",
    "    },\n",
    "  },\n",
    "  'HeapSort':{\n",
    "    'normalSample': {\n",
    "      'output': np.ndarray,\n",
    "      'compare': int,\n",
    "      'time': 0.0,\n",
    "    },\n",
    "    'distributeSample': {\n",
    "      'output': np.ndarray,\n",
    "      'compare': int,\n",
    "      'time': 0.0,\n",
    "    },\n",
    "  },\n",
    "  'MergeSort':{\n",
    "    'normalSample': {\n",
    "      'output': np.ndarray,\n",
    "      'compare': int,\n",
    "      'time': 0.0,\n",
    "    },\n",
    "    'distributeSample': {\n",
    "      'output': np.ndarray,\n",
    "      'compare': int,\n",
    "      'time': 0.0,\n",
    "    },\n",
    "  },\n",
    "  'DistributionSort':{\n",
    "    'normalSample': {\n",
    "      'output': np.ndarray,\n",
    "      'compare': int,\n",
    "      'time': 0.0,\n",
    "    },\n",
    "    'distributeSample': {\n",
    "      'output': np.ndarray,\n",
    "      'compare': int,\n",
    "      'time': 0.0,\n",
    "    },\n",
    "  }\n",
    "}"
   ]
  },
  {
   "cell_type": "markdown",
   "metadata": {},
   "source": [
    "### Selection Sort"
   ]
  },
  {
   "cell_type": "markdown",
   "metadata": {},
   "source": [
    "#### Normal Sample"
   ]
  },
  {
   "cell_type": "code",
   "execution_count": 17,
   "metadata": {},
   "outputs": [],
   "source": [
    "begin = time.time()\n",
    "result['SelectionSort']['normalSample']['output'], result['SelectionSort']['normalSample']['compare'] = SelectionSort(normalSample)\n",
    "# print(f'compare time {}')\n",
    "end = time.time()\n",
    "result['SelectionSort']['normalSample']['time'] = end-begin"
   ]
  },
  {
   "cell_type": "code",
   "execution_count": 18,
   "metadata": {},
   "outputs": [
    {
     "data": {
      "text/plain": [
       "(array([ 0,  0,  0, ..., 99, 99, 99]), 50004893, 5.754361152648926)"
      ]
     },
     "execution_count": 18,
     "metadata": {},
     "output_type": "execute_result"
    }
   ],
   "source": [
    "result['SelectionSort']['normalSample']['output'], result['SelectionSort']['normalSample']['compare'], result['SelectionSort']['normalSample']['time']"
   ]
  },
  {
   "cell_type": "markdown",
   "metadata": {},
   "source": [
    "#### Distribution Sample"
   ]
  },
  {
   "cell_type": "code",
   "execution_count": 19,
   "metadata": {},
   "outputs": [],
   "source": [
    "begin = time.time()\n",
    "result['SelectionSort']['distributeSample']['output'], result['SelectionSort']['distributeSample']['compare'] = SelectionSort(DistributeSample)\n",
    "end = time.time()\n",
    "result['SelectionSort']['distributeSample']['time'] = end-begin"
   ]
  },
  {
   "cell_type": "code",
   "execution_count": 20,
   "metadata": {},
   "outputs": [
    {
     "data": {
      "text/plain": [
       "(array([ 1.,  1.,  1., ..., 99., 99., 99.]), 50004929, 6.238823413848877)"
      ]
     },
     "execution_count": 20,
     "metadata": {},
     "output_type": "execute_result"
    }
   ],
   "source": [
    "result['SelectionSort']['distributeSample']['output'], result['SelectionSort']['distributeSample']['compare'], result['SelectionSort']['distributeSample']['time']"
   ]
  },
  {
   "cell_type": "markdown",
   "metadata": {},
   "source": [
    "### Insertion Sort"
   ]
  },
  {
   "cell_type": "markdown",
   "metadata": {},
   "source": [
    "#### Normal Sample"
   ]
  },
  {
   "cell_type": "code",
   "execution_count": 21,
   "metadata": {},
   "outputs": [],
   "source": [
    "begin = time.time()\n",
    "result['InsertionSort']['normalSample']['output'], result['InsertionSort']['normalSample']['compare'] = InsertionSort(DistributeSample)\n",
    "end = time.time()\n",
    "result['InsertionSort']['normalSample']['time'] = end-begin"
   ]
  },
  {
   "cell_type": "code",
   "execution_count": 22,
   "metadata": {},
   "outputs": [
    {
     "data": {
      "text/plain": [
       "(array([ 1.,  1.,  1., ..., 99., 99., 99.]), 24785703, 4.811996936798096)"
      ]
     },
     "execution_count": 22,
     "metadata": {},
     "output_type": "execute_result"
    }
   ],
   "source": [
    "result['InsertionSort']['normalSample']['output'], result['InsertionSort']['normalSample']['compare'], result['InsertionSort']['normalSample']['time']"
   ]
  },
  {
   "cell_type": "markdown",
   "metadata": {},
   "source": [
    "#### Distribution Sample"
   ]
  },
  {
   "cell_type": "code",
   "execution_count": 23,
   "metadata": {},
   "outputs": [],
   "source": [
    "begin = time.time()\n",
    "result['InsertionSort']['distributeSample']['output'], result['InsertionSort']['distributeSample']['compare'] = InsertionSort(DistributeSample)\n",
    "end = time.time()\n",
    "result['InsertionSort']['distributeSample']['time'] = end-begin"
   ]
  },
  {
   "cell_type": "code",
   "execution_count": 24,
   "metadata": {},
   "outputs": [
    {
     "data": {
      "text/plain": [
       "(array([ 1.,  1.,  1., ..., 99., 99., 99.]), 24785703, 4.84999680519104)"
      ]
     },
     "execution_count": 24,
     "metadata": {},
     "output_type": "execute_result"
    }
   ],
   "source": [
    "result['InsertionSort']['distributeSample']['output'], result['InsertionSort']['distributeSample']['compare'], result['InsertionSort']['distributeSample']['time']"
   ]
  },
  {
   "cell_type": "markdown",
   "metadata": {},
   "source": [
    "### Heap Sort"
   ]
  },
  {
   "cell_type": "markdown",
   "metadata": {},
   "source": [
    "#### Normal Sample"
   ]
  },
  {
   "cell_type": "code",
   "execution_count": 36,
   "metadata": {},
   "outputs": [],
   "source": [
    "begin = time.time()\n",
    "result['HeapSort']['normalSample']['output'], result['HeapSort']['normalSample']['compare'] = InsertionSort(normalSample)\n",
    "end = time.time()\n",
    "result['HeapSort']['normalSample']['time'] = end-begin"
   ]
  },
  {
   "cell_type": "code",
   "execution_count": 37,
   "metadata": {},
   "outputs": [
    {
     "data": {
      "text/plain": [
       "(array([ 0,  0,  0, ..., 99, 99, 99]), 24740265, 4.727997779846191)"
      ]
     },
     "execution_count": 37,
     "metadata": {},
     "output_type": "execute_result"
    }
   ],
   "source": [
    "result['HeapSort']['normalSample']['output'], result['HeapSort']['normalSample']['compare'], result['HeapSort']['normalSample']['time']"
   ]
  },
  {
   "cell_type": "markdown",
   "metadata": {},
   "source": [
    "#### Distribute Sample"
   ]
  },
  {
   "cell_type": "code",
   "execution_count": 38,
   "metadata": {},
   "outputs": [],
   "source": [
    "begin = time.time()\n",
    "result['HeapSort']['distributeSample']['output'], result['HeapSort']['distributeSample']['compare'] = InsertionSort(DistributeSample)\n",
    "end = time.time()\n",
    "result['HeapSort']['distributeSample']['time'] = end-begin"
   ]
  },
  {
   "cell_type": "code",
   "execution_count": 39,
   "metadata": {},
   "outputs": [
    {
     "data": {
      "text/plain": [
       "(array([ 1.,  1.,  1., ..., 99., 99., 99.]), 24458301, 4.962144136428833)"
      ]
     },
     "execution_count": 39,
     "metadata": {},
     "output_type": "execute_result"
    }
   ],
   "source": [
    "result['HeapSort']['distributeSample']['output'], result['HeapSort']['distributeSample']['compare'], result['HeapSort']['distributeSample']['time']"
   ]
  },
  {
   "cell_type": "markdown",
   "metadata": {},
   "source": [
    "### Merge Sort"
   ]
  },
  {
   "cell_type": "markdown",
   "metadata": {},
   "source": [
    "#### Normal Sample"
   ]
  },
  {
   "cell_type": "code",
   "execution_count": 58,
   "metadata": {},
   "outputs": [
    {
     "name": "stdout",
     "output_type": "stream",
     "text": [
      "compare = 120182\n"
     ]
    }
   ],
   "source": [
    "begin = time.time()\n",
    "Mergetest = np.copy(normalSample)\n",
    "compare = 0\n",
    "compare = MergeSort(Mergetest,0,len(Mergetest)-1, compare)\n",
    "result['MergeSort']['normalSample']['output'], result['MergeSort']['normalSample']['compare'] = Mergetest, compare\n",
    "print(f\"compare = {compare}\")\n",
    "end = time.time()\n",
    "result['MergeSort']['normalSample']['time'] = end-begin"
   ]
  },
  {
   "cell_type": "code",
   "execution_count": 59,
   "metadata": {},
   "outputs": [
    {
     "data": {
      "text/plain": [
       "(array([ 0,  0,  0, ..., 99, 99, 99]), 120182, 4.727997779846191)"
      ]
     },
     "execution_count": 59,
     "metadata": {},
     "output_type": "execute_result"
    }
   ],
   "source": [
    "result['MergeSort']['normalSample']['output'], result['MergeSort']['normalSample']['compare'], result['HeapSort']['normalSample']['time']"
   ]
  },
  {
   "cell_type": "markdown",
   "metadata": {},
   "source": [
    "#### Distribute Sample"
   ]
  },
  {
   "cell_type": "code",
   "execution_count": 62,
   "metadata": {},
   "outputs": [
    {
     "name": "stdout",
     "output_type": "stream",
     "text": [
      "compare = 120487\n"
     ]
    }
   ],
   "source": [
    "begin = time.time()\n",
    "Mergetest = np.copy(DistributeSample)\n",
    "compare = 0\n",
    "compare = MergeSort(Mergetest,0,len(Mergetest)-1, compare)\n",
    "result['MergeSort']['distributeSample']['output'], result['MergeSort']['distributeSample']['compare'] = Mergetest, compare\n",
    "print(f\"compare = {compare}\")\n",
    "end = time.time()\n",
    "result['MergeSort']['distributeSample']['time'] = end-begin"
   ]
  },
  {
   "cell_type": "code",
   "execution_count": 63,
   "metadata": {},
   "outputs": [
    {
     "data": {
      "text/plain": [
       "(array([ 1.,  1.,  1., ..., 99., 99., 99.]), 120487, 4.962144136428833)"
      ]
     },
     "execution_count": 63,
     "metadata": {},
     "output_type": "execute_result"
    }
   ],
   "source": [
    "result['MergeSort']['distributeSample']['output'], result['MergeSort']['distributeSample']['compare'], result['HeapSort']['distributeSample']['time']"
   ]
  },
  {
   "cell_type": "markdown",
   "metadata": {},
   "source": [
    "### Distribution Sort"
   ]
  },
  {
   "cell_type": "code",
   "execution_count": 100,
   "metadata": {},
   "outputs": [
    {
     "data": {
      "text/plain": [
       "array([ 0,  0,  0, ..., 99, 99, 99])"
      ]
     },
     "execution_count": 100,
     "metadata": {},
     "output_type": "execute_result"
    }
   ],
   "source": [
    "cp = np.copy(normalSample)\n",
    "DistributionSort(cp, min(cp), max(cp))\n",
    "com = np.copy(normalSample).sort()"
   ]
  },
  {
   "cell_type": "code",
   "execution_count": 26,
   "metadata": {},
   "outputs": [
    {
     "name": "stdout",
     "output_type": "stream",
     "text": [
      "[0 1 0 0 0 0 0 2 0 2 0 0 1 0 1 0 0 0 0 0 0 0 0 0 0 0 4] cnt freq\n",
      "[ 0  1  1  1  1  1  1  3  3  5  5  5  6  6  7  7  7  7  7  7  7  7  7  7\n",
      "  7  7 11] cnt sum freq\n"
     ]
    },
    {
     "data": {
      "text/plain": [
       "array([80, 82, 82, 99, 85, 87, 99,  0,  0,  0, 80])"
      ]
     },
     "execution_count": 26,
     "metadata": {},
     "output_type": "execute_result"
    }
   ],
   "source": [
    "a = [80,80,99,85,82,87,82,99,99,74,99]\n",
    "DistributionSort(a, min(a), max(a))"
   ]
  },
  {
   "cell_type": "code",
   "execution_count": null,
   "metadata": {},
   "outputs": [],
   "source": []
  }
 ],
 "metadata": {
  "kernelspec": {
   "display_name": "Python 3.9.12 ('SpeechRec')",
   "language": "python",
   "name": "python3"
  },
  "language_info": {
   "codemirror_mode": {
    "name": "ipython",
    "version": 3
   },
   "file_extension": ".py",
   "mimetype": "text/x-python",
   "name": "python",
   "nbconvert_exporter": "python",
   "pygments_lexer": "ipython3",
   "version": "3.9.12"
  },
  "orig_nbformat": 4,
  "vscode": {
   "interpreter": {
    "hash": "86d3a50532539a39c0f3f69ccd557458e38e4ce355bfe9ccdc1627657ba6dfbd"
   }
  }
 },
 "nbformat": 4,
 "nbformat_minor": 2
}
